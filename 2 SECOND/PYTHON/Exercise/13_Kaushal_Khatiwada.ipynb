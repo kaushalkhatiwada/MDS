{
 "cells": [
  {
   "cell_type": "markdown",
   "metadata": {},
   "source": [
    "## Programming Exercises"
   ]
  },
  {
   "cell_type": "markdown",
   "metadata": {},
   "source": [
    "<b><h1>NAME: KAUSHAL KHATIWADA<br/>\n",
    "ROLL NUMBER: 13"
   ]
  },
  {
   "cell_type": "markdown",
   "metadata": {},
   "source": [
    "# Q no 1\n",
    " Write a program display “Hello World!”"
   ]
  },
  {
   "cell_type": "code",
   "execution_count": 2,
   "metadata": {},
   "outputs": [
    {
     "name": "stdout",
     "output_type": "stream",
     "text": [
      "Hello World!\n"
     ]
    }
   ],
   "source": [
    "print(\"Hello World!\")"
   ]
  },
  {
   "cell_type": "markdown",
   "metadata": {},
   "source": [
    "# Q no 2\n",
    " Write a program to find sum of two numbers. Use input() function to take input from the \n",
    "user."
   ]
  },
  {
   "cell_type": "code",
   "execution_count": 4,
   "metadata": {},
   "outputs": [
    {
     "name": "stdout",
     "output_type": "stream",
     "text": [
      "Sum of two numbers 5 and 6 is 11\n"
     ]
    }
   ],
   "source": [
    "a = int(input(\"Enter First number: \"))\n",
    "b = int(input(\"Enter Second number: \"))\n",
    "sum = a + b\n",
    "print(f\"Sum of two numbers {a} and {b} is {sum}\")"
   ]
  },
  {
   "cell_type": "markdown",
   "metadata": {},
   "source": [
    "# Q no 3\n",
    " Write a program to calculate discount on the basis of following assumption:<br/>\n",
    "a) If purchased amount is greater than or equal to 1000, discount is 5%"
   ]
  },
  {
   "cell_type": "code",
   "execution_count": 2,
   "metadata": {},
   "outputs": [
    {
     "name": "stdout",
     "output_type": "stream",
     "text": [
      "Congratulation!! your discounted Amount is 50.0 for Rs 1000.0\n"
     ]
    }
   ],
   "source": [
    "try:\n",
    "    Amount = float(input(\"Enter an Amount: \"))  \n",
    "    Discount = 0\n",
    "    if Amount < 0:\n",
    "        print(\"Value of Amount must be positive\")\n",
    "\n",
    "    elif Amount >=1000:\n",
    "        Discount = 0.05 * Amount\n",
    "        print(f\"Congratulation!! your discounted Amount is {Discount} for Rs {Amount}\")\n",
    "        \n",
    "    else:\n",
    "        print(\"Sorry, Try Again!!\")\n",
    "except ValueError:\n",
    "    print(\"Value Error\")"
   ]
  },
  {
   "cell_type": "markdown",
   "metadata": {},
   "source": [
    "# Q no 4\n",
    "Write a program to calculate discount on the basis of following assumption:<br/>\n",
    "a) If purchased amount is greater than or equal to 1000, discount is 5%<br/>\n",
    "b) If purchased amount is less than 1000, discount is 3%\n"
   ]
  },
  {
   "cell_type": "code",
   "execution_count": 10,
   "metadata": {},
   "outputs": [
    {
     "name": "stdout",
     "output_type": "stream",
     "text": [
      "Congratulation!! You get discount of Rs 50.0 in your Rs 1000.0 item at 5%\n"
     ]
    }
   ],
   "source": [
    "try:\n",
    "    Amount = float(input(\"Enter an Amount: \"))\n",
    "    Discount = 0 \n",
    "    if Amount < 0:\n",
    "        print(\"Value of Amount must be positive\")\n",
    "        \n",
    "    elif Amount >= 1000:\n",
    "        dis_perc = 5\n",
    "        Discount = (dis_perc/100) * Amount\n",
    "        \n",
    "    else:\n",
    "        dis_perc = 3\n",
    "        Discount = (dis_perc/100) * Amount\n",
    "    print(f\"Congratulation!! You get discount of Rs {Discount} in your Rs {Amount} item at {dis_perc}%\")\n",
    "\n",
    "except ValueError:\n",
    "    print(\"Value Error\")\n",
    "    "
   ]
  },
  {
   "cell_type": "markdown",
   "metadata": {},
   "source": [
    "# Qno 5 \n",
    "Write a program to calculate discount on the basis of following assumption:<br/>\n",
    "a) If purchased amount is greater than or equal to 5000, discount is 10%<br/>\n",
    "b) If purchased amount is greater than or equal to 4000 and less than 5000, discount is 7%<br/>\n",
    "c) If purchased amount is greater than or equal to 3000 and less than 4000, discount is 5%<br/>\n",
    "d) If purchased amount is greater than or equal to 2000 and less than 3000, discount is 3%<br/>\n",
    "e) If purchased amount is less than 2000, discount is 2%"
   ]
  },
  {
   "cell_type": "code",
   "execution_count": 18,
   "metadata": {},
   "outputs": [
    {
     "name": "stdout",
     "output_type": "stream",
     "text": [
      "Congratulation!! You get discount of Rs 20.0 in your Rs 1000.0 item at 2%\n"
     ]
    }
   ],
   "source": [
    "Amount = float(input(\"Enter an Amount: \"))\n",
    "Discount = 0 \n",
    "if Amount >= 5000:\n",
    "    dis_perc = 10\n",
    "    Discount = (dis_perc/100) * Amount\n",
    "elif Amount >=4000:\n",
    "    dis_perc = 7\n",
    "    Discount = (dis_perc/100) * Amount\n",
    "elif Amount >=3000:\n",
    "    dis_perc = 5\n",
    "    Discount = (dis_perc/100) * Amount\n",
    "elif Amount >=2000:\n",
    "    dis_perc = 3\n",
    "    Discount = (dis_perc/100) * Amount\n",
    "else:\n",
    "    dis_perc = 2\n",
    "    Discount = (dis_perc/100) * Amount\n",
    "print(f\"Congratulation!! You get discount of Rs {Discount} in your Rs {Amount} item at {dis_perc}%\")"
   ]
  },
  {
   "cell_type": "markdown",
   "metadata": {},
   "source": [
    "# Q no 6\n",
    " Write a program to calculate the simple interest on the basis of following assumption:<br/>\n",
    "a) If balance is greater than or equal to 100000, interest is 7 %<br/>\n",
    "b) If balance is greater than or equal to 50000 and less than 100000 interest is 5 %<br/>\n",
    "c) If balance is less than 50000, interest is 3%"
   ]
  },
  {
   "cell_type": "code",
   "execution_count": 12,
   "metadata": {},
   "outputs": [
    {
     "name": "stdout",
     "output_type": "stream",
     "text": [
      "Your Interest of Balance Rs 1000.0 will be 30.0 at 3%\n"
     ]
    }
   ],
   "source": [
    "Balance = float(input(\"How much is your Balance Amount: \"))\n",
    "Interest = 0\n",
    "if Balance >= 100000:\n",
    "    Rate =7 \n",
    "    Interest = (Rate/100) * Balance\n",
    "elif 100000< Balance >= 50000:\n",
    "    Rate = 5\n",
    "    Interest = (Rate/100) * Balance\n",
    "else:\n",
    "    Rate = 3\n",
    "    Interest = (Rate/100) * Balance\n",
    "\n",
    "print(f\"Your Interest of Balance Rs {Balance} will be {Interest} at {Rate}%\")"
   ]
  },
  {
   "cell_type": "markdown",
   "metadata": {},
   "source": [
    "# Q no 7\n",
    "Write a program to test whether a number entered is even or odd"
   ]
  },
  {
   "cell_type": "code",
   "execution_count": null,
   "metadata": {},
   "outputs": [
    {
     "name": "stdout",
     "output_type": "stream",
     "text": [
      "Your selected number is ODD\n"
     ]
    }
   ],
   "source": [
    "a = int(input(\"Enter any number: \"))\n",
    "if a%2==0:\n",
    "    print(\"Your selected number is EVEN\")\n",
    "else:\n",
    "    print(\"Your selected number is ODD\")"
   ]
  },
  {
   "cell_type": "markdown",
   "metadata": {},
   "source": [
    "# Q no 8\n",
    " Admission to a professional course is subject to the following conditions:<br/>\n",
    "a) Marks in mathematics >=60<br/>\n",
    "b) Marks in physics >=50<br/>\n",
    "c) Marks in chemistry >=40<br/>\n",
    "d) Total in all three subjects >=200<br/>\n",
    "        OR<br/>\n",
    "Total in mathematics and physics>=150<br/>\n",
    "Given the marks in three subjects, <br/>write a program to process the applications to list eligible \n",
    "candidates.\n"
   ]
  },
  {
   "cell_type": "code",
   "execution_count": 48,
   "metadata": {},
   "outputs": [
    {
     "name": "stdout",
     "output_type": "stream",
     "text": [
      "Dear Student, You are eligible!!\n",
      "Mathematics:80   Physics:80    Chemistry:80\n",
      "Total of Math and Physics : 160\n",
      "Total : 240\n"
     ]
    }
   ],
   "source": [
    "math = int(input(\"Enter your Mathematics Marks:\"))\n",
    "physics = int(input(\"Enter your Physics Marks:\"))\n",
    "chemistry = int(input(\"Enter your Chemistry Marks:\"))\n",
    "if math>=60 and physics>=50 and chemistry>=40:\n",
    "    if math+physics>=150:\n",
    "        if math+physics+chemistry>=200:\n",
    "            print(\"Dear Student, You are eligible!!\")\n",
    "        else:\n",
    "            print(\"Dear Student, You are not eligible as total of three subject less than 200\")\n",
    "    else:\n",
    "        print(\"Dear Student, You are not eligible as total of two subject (Math and Physics) is less than 150\")\n",
    "else:\n",
    "    print(\"Dear Student, You are not eligible as marks for any subject is less than pass marks\")\n",
    "print(f\"Mathematics:{math}   Physics:{physics}    Chemistry:{chemistry}\")\n",
    "print(f\"Total of Math and Physics : {math+physics}\")\n",
    "print(f\"Total : {math+physics+chemistry}\")"
   ]
  },
  {
   "cell_type": "markdown",
   "metadata": {},
   "source": [
    "# Q no 9\n",
    "The rates of tax on gross salary are as shown below:<br/>\n",
    "<b>Income Tax</b><br/>\n",
    "Less than 10,000 Nill<br/>\n",
    "Rs. 10,000 to 19,999 10%<br/>\n",
    "Rs. 20,000 to 39,999 15%<br/>\n",
    "Rs. 40,000 to above 20%<br/>\n",
    "Write a program to compute the net salary after deducting the tax for the given information \n",
    "and print the same."
   ]
  },
  {
   "cell_type": "code",
   "execution_count": 57,
   "metadata": {},
   "outputs": [
    {
     "name": "stdout",
     "output_type": "stream",
     "text": [
      "Gross Salary: Rs 15000.0\n",
      "Tax Amount: Rs 1500.0 deducted at 10%\n",
      "Net Salary: Rs 13500.0\n"
     ]
    }
   ],
   "source": [
    "Gross_Salary = float(input(\"Enter your Gross Salary: \"))\n",
    "if Gross_Salary >= 40000:\n",
    "    Rate = 20\n",
    "    Net_Salary = Gross_Salary - (Rate/100) * Gross_Salary\n",
    "elif Gross_Salary >= 20000:\n",
    "    Rate = 15\n",
    "    Net_Salary = Gross_Salary - (Rate/100) * Gross_Salary\n",
    "elif Gross_Salary >= 10000:\n",
    "    Rate = 10\n",
    "    Net_Salary = Gross_Salary - (Rate/100) * Gross_Salary\n",
    "else:\n",
    "    Rate = 0\n",
    "    Net_Salary = Gross_Salary - (Rate/100) * Gross_Salary\n",
    "print(f\"Gross Salary: Rs {Gross_Salary}\")\n",
    "print(f\"Tax Amount: Rs {Rate/100 * Gross_Salary} deducted at {Rate}%\")\n",
    "print(f\"Net Salary: Rs {Net_Salary}\")"
   ]
  },
  {
   "cell_type": "markdown",
   "metadata": {},
   "source": [
    "# Q no 10\n",
    "Write a program to check whether a year entered is leap or not\n",
    "\n",
    "The main logic behind leap year detection are <br/>\n",
    "<b>Year that can be exactly divided by 4 (such as 2020, 2024, 2028, etc)</b><br/>\n",
    "<b>except if it can be exactly divided by 100, then it isn't (such as 2100, 2200, etc)</b><br/>\n",
    "<b>except if it can be exactly divided by 400, then it is (such as 2000, 2400)</b><br/>"
   ]
  },
  {
   "cell_type": "markdown",
   "metadata": {},
   "source": [
    "Why?\n",
    "Because the Earth rotates about 365.2422 times a year but a normal year is 365 days, so something has to be done to \"catch up\" the extra 0.2422 days a year.<br/> \n",
    "\n",
    "Every 4th year we add an extra day (the 29th of February), which makes 365.25 days a year. This is fairly close, <br/>\n",
    "but is wrong by about 1 day every 100 years.So every 100 years we don't have a leap year, and that gets us 365.24 days per year (1 day less in 100 year = -0.01 days per year). Closer, but still not accurate enough!<br/>\n",
    "So another rule says that every 400 years is a leap year again. This gets us 365.2425 days per year (1 day regained every 400 years = 0.0025 days per year), which is close enough to 365.2422 not to matter much."
   ]
  },
  {
   "cell_type": "code",
   "execution_count": 4,
   "metadata": {},
   "outputs": [
    {
     "name": "stdout",
     "output_type": "stream",
     "text": [
      "2025 is not a leap year.\n"
     ]
    }
   ],
   "source": [
    "year = int(input(\"Enter a Year on AD: \"))\n",
    "if (year % 4 == 0):\n",
    "    if (year % 100 == 0):\n",
    "        if (year % 400 == 0):\n",
    "            print(f\"{year} is a leap year.\")\n",
    "        else:\n",
    "            print(f\"{year} is not a leap year.\")    # Not Divisible by 400, not leap\n",
    "    else:\n",
    "        print(f\"{year} is a leap year.\")    # Not Divisible by 100, leap\n",
    "else:\n",
    "    print(f\"{year} is not a leap year.\")   # Not Divisible by 4, not leap "
   ]
  },
  {
   "cell_type": "markdown",
   "metadata": {},
   "source": [
    "# Q no 11\n",
    "Write a program using match-case statement to develop a simple calculator."
   ]
  },
  {
   "cell_type": "code",
   "execution_count": 7,
   "metadata": {},
   "outputs": [
    {
     "name": "stdout",
     "output_type": "stream",
     "text": [
      "5.0 + 7.0 = 12.0.\n"
     ]
    }
   ],
   "source": [
    "num1 = float(input(\"Enter the first number: \"))\n",
    "operator = input(\"Enter an operator (+, -, *, /): \")\n",
    "num2 = float(input(\"Enter the second number: \"))\n",
    "\n",
    "match operator:\n",
    "    case '+':\n",
    "        result = num1 + num2\n",
    "        print(f\"{num1} + {num2} = {result}.\")\n",
    "    case '-':\n",
    "        result = num1 - num2\n",
    "        print(f\"{num1} - {num2} = {result}.\")\n",
    "    case '*':\n",
    "        result = num1 * num2\n",
    "        print(f\"{num1} * {num2} = {result}.\")\n",
    "    case '/':\n",
    "        if num2 != 0:\n",
    "            result = num1 / num2\n",
    "            print(f\"={num1} / {num2} = {result}.\")\n",
    "        else:\n",
    "            print(\"Error: Division by zero is not allowed.\")\n",
    "    case _:\n",
    "        print(\"Error: Invalid operator.\")"
   ]
  },
  {
   "cell_type": "markdown",
   "metadata": {},
   "source": [
    "# Q no 12\n",
    "Write a program to display “MDS” 10 times."
   ]
  },
  {
   "cell_type": "code",
   "execution_count": 63,
   "metadata": {},
   "outputs": [
    {
     "name": "stdout",
     "output_type": "stream",
     "text": [
      "1 MDS\n",
      "2 MDS\n",
      "3 MDS\n",
      "4 MDS\n",
      "5 MDS\n",
      "6 MDS\n",
      "7 MDS\n",
      "8 MDS\n",
      "9 MDS\n",
      "10 MDS\n"
     ]
    }
   ],
   "source": [
    "\n",
    "for x in range(0,10):\n",
    "    print (f\"{x+1} MDS\")"
   ]
  },
  {
   "cell_type": "markdown",
   "metadata": {},
   "source": [
    "# Q no 13\n",
    "Write a program to find sum and average of 10 numbers stored in a list."
   ]
  },
  {
   "cell_type": "code",
   "execution_count": null,
   "metadata": {},
   "outputs": [
    {
     "name": "stdout",
     "output_type": "stream",
     "text": [
      "Sum of the numbers: 55\n",
      "Average of the numbers: 5.5\n"
     ]
    }
   ],
   "source": [
    "nums = [1,2,3,4,5,6,7,8,9,10]\n",
    "\n",
    "total = sum(nums)\n",
    "\n",
    "average = total / len(nums)\n",
    "\n",
    "print(f\"Sum of the numbers: {total}\")\n",
    "print(f\"Average of the numbers: {average}\")"
   ]
  },
  {
   "cell_type": "markdown",
   "metadata": {},
   "source": [
    "# Q no 14 \n",
    "Write a program to check whether a number entered is prime or not.<br/>\n",
    "Prime numbers are divisible only by 1 and itself"
   ]
  },
  {
   "cell_type": "code",
   "execution_count": 13,
   "metadata": {},
   "outputs": [],
   "source": [
    "def is_prime(number):\n",
    "    if number <= 1:\n",
    "        return False\n",
    "    for i in range(2, number):\n",
    "        if number % i == 0:\n",
    "            return False\n",
    "    return True\n"
   ]
  },
  {
   "cell_type": "code",
   "execution_count": null,
   "metadata": {},
   "outputs": [
    {
     "name": "stdout",
     "output_type": "stream",
     "text": [
      "5 is a prime number.\n"
     ]
    }
   ],
   "source": [
    "\n",
    "num = int(input(\"Enter a number: \"))\n",
    "if is_prime(num):\n",
    "    print(f\"{num} is a prime number.\")\n",
    "else:\n",
    "    print(f\"{num} is not a prime number.\")\n"
   ]
  },
  {
   "cell_type": "markdown",
   "metadata": {},
   "source": [
    "# Q no 15\n",
    "Write a program to display prime numbers up to 100."
   ]
  },
  {
   "cell_type": "code",
   "execution_count": 15,
   "metadata": {},
   "outputs": [],
   "source": [
    "def is_prime(number):\n",
    "    if number <= 1:\n",
    "        return False\n",
    "    for i in range(2, int(number**0.5) + 1):\n",
    "        if number % i == 0:\n",
    "            return False\n",
    "    return True\n"
   ]
  },
  {
   "cell_type": "code",
   "execution_count": null,
   "metadata": {},
   "outputs": [
    {
     "name": "stdout",
     "output_type": "stream",
     "text": [
      "Prime numbers up to 100:\n",
      "2 3 5 7 11 13 17 19 23 29 31 37 41 43 47 53 59 61 67 71 73 79 83 89 97 "
     ]
    }
   ],
   "source": [
    "\n",
    "print(\"Prime numbers up to 100:\")\n",
    "for num in range(2, 101):\n",
    "    if is_prime(num):\n",
    "        print(num, end=\" \")\n"
   ]
  },
  {
   "cell_type": "markdown",
   "metadata": {},
   "source": [
    "# Q no 16\n",
    "Write a program to find sum of digits of a number."
   ]
  },
  {
   "cell_type": "code",
   "execution_count": null,
   "metadata": {},
   "outputs": [],
   "source": [
    "def sum_of_digits(number):\n",
    "    total = 0\n",
    "    while number > 0:\n",
    "        total += number % 10  \n",
    "        number //= 10         \n",
    "    return total\n"
   ]
  },
  {
   "cell_type": "code",
   "execution_count": null,
   "metadata": {},
   "outputs": [
    {
     "name": "stdout",
     "output_type": "stream",
     "text": [
      "The sum of the digits of 234 is 9.\n"
     ]
    }
   ],
   "source": [
    "\n",
    "num = int(input(\"Enter a number: \"))\n",
    "result = sum_of_digits(abs(num)) \n",
    "print(f\"The sum of the digits of {num} is {result}.\")\n"
   ]
  },
  {
   "cell_type": "markdown",
   "metadata": {},
   "source": [
    "# Q no 17 \n",
    "Write a program to check whether a number is palindrome or not.\n"
   ]
  },
  {
   "cell_type": "code",
   "execution_count": null,
   "metadata": {},
   "outputs": [],
   "source": [
    "def is_palindrome(number):\n",
    "    original_number = str(number)  \n",
    "    reversed_number = original_number[::-1]  \n",
    "    return original_number == reversed_number\n"
   ]
  },
  {
   "cell_type": "code",
   "execution_count": null,
   "metadata": {},
   "outputs": [
    {
     "name": "stdout",
     "output_type": "stream",
     "text": [
      "1123211 is a palindrome.\n"
     ]
    }
   ],
   "source": [
    "\n",
    "num = int(input(\"Enter a number: \"))\n",
    "if is_palindrome(num):\n",
    "    print(f\"{num} is a palindrome.\")\n",
    "else:\n",
    "    print(f\"{num} is not a palindrome.\")\n"
   ]
  },
  {
   "cell_type": "markdown",
   "metadata": {},
   "source": [
    "# Q no 18 \n",
    "Write a program to check if a number is Armstrong Number or not.<br/>\n",
    "<b>Number that is equal to the sum of its own digits, each raised to the power of the number of digits.</b>\n"
   ]
  },
  {
   "cell_type": "code",
   "execution_count": null,
   "metadata": {},
   "outputs": [],
   "source": [
    "def is_armstrong_number(num):\n",
    "\n",
    "    digits = str(num)\n",
    "    num_digits = len(digits)\n",
    "    \n",
    "    armstrong_sum = sum(int(digit) ** num_digits for digit in digits)\n",
    "    \n",
    "    return armstrong_sum == num\n"
   ]
  },
  {
   "cell_type": "code",
   "execution_count": null,
   "metadata": {},
   "outputs": [
    {
     "name": "stdout",
     "output_type": "stream",
     "text": [
      "132 is not an Armstrong number.\n"
     ]
    }
   ],
   "source": [
    "\n",
    "number = int(input(\"Enter a number to check if it's an Armstrong number: \"))\n",
    "\n",
    "if is_armstrong_number(number):\n",
    "    print(f\"{number} is an Armstrong number.\")\n",
    "else:\n",
    "    print(f\"{number} is not an Armstrong number.\")\n",
    "\n"
   ]
  },
  {
   "cell_type": "markdown",
   "metadata": {},
   "source": [
    "# Q no 19 \n",
    "Write a program to count number of vowels in a string.\n"
   ]
  },
  {
   "cell_type": "code",
   "execution_count": null,
   "metadata": {},
   "outputs": [],
   "source": [
    "def count_vowels(string):\n",
    "    vowels = \"aeiouAEIOU\"  \n",
    "    count = 0\n",
    "    for char in string:\n",
    "        if char in vowels:\n",
    "            count += 1\n",
    "    return count\n"
   ]
  },
  {
   "cell_type": "code",
   "execution_count": null,
   "metadata": {},
   "outputs": [
    {
     "name": "stdout",
     "output_type": "stream",
     "text": [
      "The number of vowels in the string 'kaushal' is: 3\n"
     ]
    }
   ],
   "source": [
    "\n",
    "text = input(\"Enter a string: \")\n",
    "vowel_count = count_vowels(text)\n",
    "print(f\"The number of vowels in the string '{text}' is: {vowel_count}\")\n"
   ]
  },
  {
   "cell_type": "markdown",
   "metadata": {},
   "source": [
    "# Q no 20 \n",
    "Write a program to find smallest and largest number among 10 numbers stored in a list.\n"
   ]
  },
  {
   "cell_type": "code",
   "execution_count": 43,
   "metadata": {},
   "outputs": [],
   "source": [
    "def find_smallest_and_largest(numbers):\n",
    "    smallest = min(numbers)\n",
    "    largest = max(numbers)\n",
    "    return smallest, largest\n"
   ]
  },
  {
   "cell_type": "code",
   "execution_count": null,
   "metadata": {},
   "outputs": [
    {
     "name": "stdout",
     "output_type": "stream",
     "text": [
      "Enter 10 numbers:\n",
      "The smallest number is: 1\n",
      "The largest number is: 10\n"
     ]
    }
   ],
   "source": [
    "\n",
    "print(\"Enter 10 numbers:\")\n",
    "num_list = [int(input()) for _ in range(10)]\n",
    "\n",
    "smallest, largest = find_smallest_and_largest(num_list)\n",
    "print(f\"The smallest number is: {smallest}\")\n",
    "print(f\"The largest number is: {largest}\")\n"
   ]
  },
  {
   "cell_type": "markdown",
   "metadata": {},
   "source": [
    "# Q no 21 \n",
    "Write a program to count even numbers and odd numbers stored in a list.\n"
   ]
  },
  {
   "cell_type": "code",
   "execution_count": 46,
   "metadata": {},
   "outputs": [],
   "source": [
    "def count_even_odd(numbers):\n",
    "    even_count = 0\n",
    "    odd_count = 0\n",
    "    for num in numbers:\n",
    "        if num % 2 == 0:\n",
    "            even_count += 1\n",
    "        else:\n",
    "            odd_count += 1\n",
    "    return even_count, odd_count\n"
   ]
  },
  {
   "cell_type": "code",
   "execution_count": null,
   "metadata": {},
   "outputs": [
    {
     "name": "stdout",
     "output_type": "stream",
     "text": [
      "Enter numbers separated by spaces:\n",
      "Number of even numbers: 5\n",
      "Number of odd numbers: 5\n"
     ]
    }
   ],
   "source": [
    "\n",
    "print(\"Enter numbers separated by spaces:\")\n",
    "num_list = list(map(int, input().split()))\n",
    "\n",
    "even_count, odd_count = count_even_odd(num_list)\n",
    "print(f\"Number of even numbers: {even_count}\")\n",
    "print(f\"Number of odd numbers: {odd_count}\")\n"
   ]
  },
  {
   "cell_type": "markdown",
   "metadata": {},
   "source": [
    "# Q no 22\n",
    "Write a program to find sum of two matrices.\n"
   ]
  },
  {
   "cell_type": "code",
   "execution_count": 5,
   "metadata": {},
   "outputs": [
    {
     "name": "stdout",
     "output_type": "stream",
     "text": [
      "Sum of 2X2 matrices:\n",
      "[6, 8]\n",
      "[10, 12]\n"
     ]
    }
   ],
   "source": [
    "matrix1 = [[1, 2],\n",
    "           [3, 4]]\n",
    "\n",
    "matrix2 = [[5, 6],\n",
    "           [7, 8]]\n",
    "\n",
    "result = [[0, 0],\n",
    "          [0, 0]]\n",
    "\n",
    "for i in range(len(matrix1)):\n",
    "    for j in range(len(matrix1[0])):\n",
    "        result[i][j] = matrix1[i][j] + matrix2[i][j]\n",
    "\n",
    "print(\"Sum of 2X2 matrices:\")\n",
    "for row in result:\n",
    "    print(row)"
   ]
  },
  {
   "cell_type": "markdown",
   "metadata": {},
   "source": [
    "# Q no 23\n",
    "Write a program to find product of two matrices.\n"
   ]
  },
  {
   "cell_type": "code",
   "execution_count": 7,
   "metadata": {},
   "outputs": [
    {
     "name": "stdout",
     "output_type": "stream",
     "text": [
      "Product of matrices:\n",
      "[14, 32]\n",
      "[32, 77]\n"
     ]
    }
   ],
   "source": [
    "matrix1 = [[1, 2, 3],\n",
    "           [4, 5, 6]]\n",
    "\n",
    "matrix2 = [[1, 4],\n",
    "           [2, 5],\n",
    "           [3, 6]]\n",
    "\n",
    "result = [[0, 0],\n",
    "          [0, 0]]\n",
    "\n",
    "for i in range(len(matrix1)):\n",
    "    for j in range(len(matrix2[0])):\n",
    "        for k in range(len(matrix2)):\n",
    "            result[i][j] += matrix1[i][k] * matrix2[k][j]\n",
    "\n",
    "print(\"Product of matrices:\")\n",
    "for row in result:\n",
    "    print(row)"
   ]
  },
  {
   "cell_type": "markdown",
   "metadata": {},
   "source": [
    "# Q no 24\n",
    "Write a program using list comprehension to find sum of only even numbers.\n"
   ]
  },
  {
   "cell_type": "code",
   "execution_count": 8,
   "metadata": {},
   "outputs": [
    {
     "name": "stdout",
     "output_type": "stream",
     "text": [
      "Sum of even numbers: 30\n"
     ]
    }
   ],
   "source": [
    "numbers = [1, 2, 3, 4, 5, 6, 7, 8, 9, 10]\n",
    "even_sum = sum([num for num in numbers if num % 2 == 0])\n",
    "print(\"Sum of even numbers:\", even_sum)"
   ]
  },
  {
   "cell_type": "markdown",
   "metadata": {},
   "source": [
    "# Q no 25\n",
    "Write a program using function with return type to find sum of two numbers. \n"
   ]
  },
  {
   "cell_type": "code",
   "execution_count": 9,
   "metadata": {},
   "outputs": [
    {
     "name": "stdout",
     "output_type": "stream",
     "text": [
      "The sum of 5.0 and 6.0 is: 11.0\n"
     ]
    }
   ],
   "source": [
    "def sum_of_two_numbers(num1, num2):\n",
    "    return num1 + num2\n",
    "\n",
    "number1 = float(input(\"Enter the first number: \"))\n",
    "number2 = float(input(\"Enter the second number: \"))\n",
    "\n",
    "result = sum_of_two_numbers(number1, number2)\n",
    "\n",
    "print(f\"The sum of {number1} and {number2} is: {result}\")\n"
   ]
  },
  {
   "cell_type": "markdown",
   "metadata": {},
   "source": [
    "# Q no 26\n",
    "Write a program using recursive function to find factorial of a number.\n"
   ]
  },
  {
   "cell_type": "code",
   "execution_count": null,
   "metadata": {},
   "outputs": [],
   "source": [
    "def factorial(n):\n",
    "    if n == 0 or n == 1:\n",
    "        return 1\n",
    "    else:\n",
    "        return n * factorial(n - 1)\n"
   ]
  },
  {
   "cell_type": "code",
   "execution_count": null,
   "metadata": {},
   "outputs": [
    {
     "name": "stdout",
     "output_type": "stream",
     "text": [
      "The factorial of 6 is: 720\n"
     ]
    }
   ],
   "source": [
    "\n",
    "number = int(input(\"Enter a number to find its factorial: \"))\n",
    "result = factorial(number)\n",
    "print(f\"The factorial of {number} is: {result}\")\n"
   ]
  },
  {
   "cell_type": "markdown",
   "metadata": {},
   "source": [
    "# Q no 27\n",
    "Write a program using recursive function to find nth Fibonacci number.\n"
   ]
  },
  {
   "cell_type": "code",
   "execution_count": null,
   "metadata": {},
   "outputs": [
    {
     "name": "stdout",
     "output_type": "stream",
     "text": [
      "The 6th Fibonacci number is: 8\n"
     ]
    }
   ],
   "source": [
    "def fibonacci(n):\n",
    "    if n <= 1:\n",
    "        return n\n",
    "    else:\n",
    "        return fibonacci(n - 1) + fibonacci(n - 2)\n",
    "\n",
    "n = int(input(\"Enter the position of the Fibonacci number to find: \"))\n",
    "\n",
    "result = fibonacci(n)\n",
    "\n",
    "print(f\"The {n}th Fibonacci number is: {result}\")\n"
   ]
  },
  {
   "cell_type": "markdown",
   "metadata": {},
   "source": [
    "# Q no 28\n",
    "Create a class Rectangle containing instance variables length and breadth. The class also \n",
    "contains two instance methods area() and perimeter() to find area and perimeter of rectangles \n",
    "respectively. Use this class to find area and perimeter of two different rectangles.\n"
   ]
  },
  {
   "cell_type": "code",
   "execution_count": 1,
   "metadata": {},
   "outputs": [],
   "source": [
    "class Rectangle:\n",
    "    def __init__(self, length, breadth):\n",
    "        self.length = length\n",
    "        self.breadth = breadth\n",
    "\n",
    "    def area(self):\n",
    "        a = self.length * self.breadth\n",
    "        print(f\"Area of a rectangle with length {self.length} and breadth {self.breadth} is {a}\")\n",
    " \n",
    "    def perimeter(self):\n",
    "        p = 2 * (self.length + self.breadth)\n",
    "        print(f\"Perimeter of a rectangle with length {self.length} and breadth {self.breadth} is {p}\")\n"
   ]
  },
  {
   "cell_type": "code",
   "execution_count": 3,
   "metadata": {},
   "outputs": [
    {
     "name": "stdout",
     "output_type": "stream",
     "text": [
      "Area of a rectangle with length 4 and breadth 2 is 8\n",
      "Perimeter of a rectangle with length 4 and breadth 2 is 12\n"
     ]
    }
   ],
   "source": [
    "rect1 = Rectangle(4,2)\n",
    "rect1.area()\n",
    "rect1.perimeter()"
   ]
  },
  {
   "cell_type": "code",
   "execution_count": 4,
   "metadata": {},
   "outputs": [
    {
     "name": "stdout",
     "output_type": "stream",
     "text": [
      "Area of a rectangle with length 8 and breadth 4 is 32\n",
      "Perimeter of a rectangle with length 8 and breadth 4 is 24\n"
     ]
    }
   ],
   "source": [
    "rect2 = Rectangle(8,4)\n",
    "rect2.area()\n",
    "rect2.perimeter()"
   ]
  },
  {
   "cell_type": "markdown",
   "metadata": {},
   "source": [
    "# Q no 29\n",
    "Create a class Circle containing an instance variable radius. The class also contains two \n",
    "instance methods area() and circumference() to find area and circumference of circles \n",
    "respectively. Use this class to find area and circumference of two different circles. Use PI as a \n",
    "class variable.\n"
   ]
  },
  {
   "cell_type": "code",
   "execution_count": 7,
   "metadata": {},
   "outputs": [],
   "source": [
    "class Circle:\n",
    "    PI = 3.14       # class varibale\n",
    "    def __init__(self,radius):\n",
    "        self.radius = radius\n",
    "    \n",
    "    def area(self):\n",
    "        a = Circle.PI * self.radius ** 2\n",
    "        print(f\"Area of circle with {self.radius} is {a}\")\n",
    "\n",
    "    def cicumference(self):\n",
    "        c = 2 * Circle.PI * self.radius\n",
    "        print(f\"Circumference of circle with {self.radius} is {c}\")\n"
   ]
  },
  {
   "cell_type": "code",
   "execution_count": 10,
   "metadata": {},
   "outputs": [
    {
     "name": "stdout",
     "output_type": "stream",
     "text": [
      "Area of circle with 3 is 28.26\n",
      "Circumference of circle with 3 is 18.84\n"
     ]
    }
   ],
   "source": [
    "circ1 = Circle(3)\n",
    "circ1.area()\n",
    "circ1.cicumference()"
   ]
  },
  {
   "cell_type": "code",
   "execution_count": 9,
   "metadata": {},
   "outputs": [
    {
     "name": "stdout",
     "output_type": "stream",
     "text": [
      "Area of circle with 4 is 50.24\n",
      "Circumference of circle with 4 is 25.12\n"
     ]
    }
   ],
   "source": [
    "circ2 = Circle(4)\n",
    "circ2.area()\n",
    "circ2.cicumference()"
   ]
  },
  {
   "cell_type": "markdown",
   "metadata": {},
   "source": [
    "# Q no 30\n",
    "Create a class Box with instance variables length, width and height. The class also contains \n",
    "instance methods volume() and surface_area() to find volume and surface area of boxes \n",
    "respectively. Use this class to find volume and surface area of two different boxes.\n"
   ]
  },
  {
   "cell_type": "code",
   "execution_count": 13,
   "metadata": {},
   "outputs": [],
   "source": [
    "class Box:\n",
    "    def __init__(self,length,width,height):\n",
    "        self.length = length\n",
    "        self.width = width\n",
    "        self.height = height\n",
    "    \n",
    "    def volume(self):\n",
    "        v = self.length * self.width * self.height\n",
    "        print(f\"Volume of Box is {v}\")\n",
    "\n",
    "    def surface_area(self):\n",
    "        sa = 2 * self.length * self.height + 2 * self.length * self.width + 2 * self.width * self.height\n",
    "        print(f\"Surface Area of Box is {sa}\")"
   ]
  },
  {
   "cell_type": "code",
   "execution_count": 14,
   "metadata": {},
   "outputs": [
    {
     "name": "stdout",
     "output_type": "stream",
     "text": [
      "Volume of Box is 200\n",
      "Surface Area of Box is 220\n"
     ]
    }
   ],
   "source": [
    "box1 = Box(10,5,4)\n",
    "box1.volume()\n",
    "box1.surface_area()"
   ]
  },
  {
   "cell_type": "code",
   "execution_count": 16,
   "metadata": {},
   "outputs": [
    {
     "name": "stdout",
     "output_type": "stream",
     "text": [
      "Volume of Box is 80\n",
      "Surface Area of Box is 132\n"
     ]
    }
   ],
   "source": [
    "box2 = Box(5,8,2)\n",
    "box2.volume()\n",
    "box2.surface_area()"
   ]
  },
  {
   "cell_type": "markdown",
   "metadata": {},
   "source": [
    "# Q no 31\n",
    "Create a class Time with three instance variables hours, minutes, and seconds. Add instance \n",
    "methods display() to display the time in hh:mm:ss format and add() to add two time objects. \n",
    "Use this class to add and display two different time objects.\n"
   ]
  },
  {
   "cell_type": "code",
   "execution_count": 13,
   "metadata": {},
   "outputs": [],
   "source": [
    "class Time:\n",
    "    def __init__(self,hours,minutes,seconds):\n",
    "        self.hours = hours\n",
    "        self.minutes = minutes\n",
    "        self.seconds = seconds\n",
    "\n",
    "    def add(self,other):    \n",
    "        total_seconds = (self.hours * 3600) + (self.minutes * 60) + self.seconds + \\\n",
    "                        (other.hours * 3600) + (other.minutes * 60) + other.seconds\n",
    "        self.hours = total_seconds // 3600\n",
    "        self.minutes = (total_seconds % 3600) // 60\n",
    "        self.seconds = total_seconds % 60\n",
    "\n",
    "    def display(self):\n",
    "        print(f\"Your Time is {self.hours}:{self.minutes}:{self.seconds}\")\n"
   ]
  },
  {
   "cell_type": "code",
   "execution_count": 14,
   "metadata": {},
   "outputs": [
    {
     "name": "stdout",
     "output_type": "stream",
     "text": [
      "Your Time is 24:48:0\n"
     ]
    }
   ],
   "source": [
    "time1 = Time(12,35,59)\n",
    "time2 = Time(12,12,1)\n",
    "\n",
    "time1.add(time2)\n",
    "time1.display()"
   ]
  },
  {
   "cell_type": "markdown",
   "metadata": {},
   "source": [
    "# Q no 32\n",
    "Create a class Distance containing instance variables feet and inches. The class also contains \n",
    "instance methods add() and compare() to add and compare two distance objects respectively. \n",
    "Use this class to create two different distance objects and add and compare these two distance \n",
    "objects.\n"
   ]
  },
  {
   "cell_type": "code",
   "execution_count": 27,
   "metadata": {},
   "outputs": [],
   "source": [
    "class Distance:\n",
    "    def __init__(self, feet, inches):\n",
    "        self.feet = feet\n",
    "        self.inches = inches\n",
    "\n",
    "    def add(self, other):\n",
    "        total_inches = self.inches + other.inches\n",
    "        extra_feet = total_inches // 12\n",
    "        total_feet = self.feet + other.feet + extra_feet\n",
    "        remaining_inches = total_inches % 12\n",
    "        return Distance(total_feet, remaining_inches)\n",
    "\n",
    "    def compare(self, other):\n",
    "        total_inches_self = self.feet * 12 + self.inches\n",
    "        total_inches_other = other.feet * 12 + other.inches\n",
    "        if total_inches_self > total_inches_other:\n",
    "            return f\"Distance 1 ({self.feet} feet {self.inches} inches) is greater.\"\n",
    "        elif total_inches_self < total_inches_other:\n",
    "            return f\"Distance 2 ({other.feet} feet {other.inches} inches) is greater.\"\n",
    "        else:\n",
    "            return \"Both distances are equal.\"\n",
    "\n",
    "    def __str__(self):\n",
    "        return f\"{self.feet} feet {self.inches} inches\"\n"
   ]
  },
  {
   "cell_type": "code",
   "execution_count": 29,
   "metadata": {},
   "outputs": [
    {
     "name": "stdout",
     "output_type": "stream",
     "text": [
      "Sum of distances: 9 feet 6 inches\n"
     ]
    }
   ],
   "source": [
    "# Create two distance objects\n",
    "d1 = Distance(5, 8)\n",
    "d2 = Distance(3, 10)\n",
    "\n",
    "# Add the two distances\n",
    "d3 = d1.add(d2)\n",
    "print(\"Sum of distances:\", d3)\n"
   ]
  },
  {
   "cell_type": "code",
   "execution_count": 30,
   "metadata": {},
   "outputs": [
    {
     "name": "stdout",
     "output_type": "stream",
     "text": [
      "Distance 1 (5 feet 8 inches) is greater.\n"
     ]
    }
   ],
   "source": [
    "\n",
    "# Compare the two distances\n",
    "result = d1.compare(d2)\n",
    "print(result)\n"
   ]
  },
  {
   "cell_type": "markdown",
   "metadata": {},
   "source": [
    "# Q no 33\n",
    "Create a class Student with instance variables name, roll_number, and marks in five subjects. \n",
    "Add three instance methods in this class to calculate total(), percentage(), and division() of the \n",
    "marks obtained by the students. Use this class to find total marks obtained, percentage, and \n",
    "division of five students.\n"
   ]
  },
  {
   "cell_type": "code",
   "execution_count": 1,
   "metadata": {},
   "outputs": [],
   "source": [
    "class Student:\n",
    "    def __init__(self, name, roll_number, marks):\n",
    "        self.name = name\n",
    "        self.roll_number = roll_number\n",
    "        self.marks = marks                  # List of marks in 5 subjects\n",
    "\n",
    "    def total(self):\n",
    "        return sum(self.marks)\n",
    "\n",
    "    def percentage(self):\n",
    "        return self.total() / len(self.marks)\n",
    "\n",
    "    def division(self):\n",
    "        percentage = self.percentage()\n",
    "        if percentage >= 80:\n",
    "            return \"Distinction\"\n",
    "        elif percentage >= 60:\n",
    "            return \"First Division\"\n",
    "        elif percentage >= 50:\n",
    "            return \"Second Division\"\n",
    "        elif percentage >= 40:\n",
    "            return \"Third Division\"\n",
    "        else:\n",
    "            return \"Fail\"\n",
    "\n",
    "    def __str__(self):\n",
    "        return f\"{self.roll_number} {self.name},  Total Marks: {self.total()}, Percentage: {self.percentage():.2f}%, Division: {self.division()}\"\n"
   ]
  },
  {
   "cell_type": "code",
   "execution_count": 2,
   "metadata": {},
   "outputs": [],
   "source": [
    "\n",
    "# Create five student objects\n",
    "students = [\n",
    "    Student(\"Abin\", 1, [85, 78, 92, 88, 76]),\n",
    "    Student(\"Anish\", 2, [72, 64, 58, 60, 70]),\n",
    "    Student(\"Ankit\", 3, [40, 45, 38, 42, 50]),\n",
    "    Student(\"Ashmita\", 4, [90, 95, 88, 92, 85]),\n",
    "    Student(\"Atul\", 5, [55, 58, 60, 53, 57]),\n",
    "]\n"
   ]
  },
  {
   "cell_type": "code",
   "execution_count": 3,
   "metadata": {},
   "outputs": [
    {
     "name": "stdout",
     "output_type": "stream",
     "text": [
      "1 Abin,  Total Marks: 419, Percentage: 83.80%, Division: Distinction\n",
      "2 Anish,  Total Marks: 324, Percentage: 64.80%, Division: First Division\n",
      "3 Ankit,  Total Marks: 215, Percentage: 43.00%, Division: Third Division\n",
      "4 Ashmita,  Total Marks: 450, Percentage: 90.00%, Division: Distinction\n",
      "5 Atul,  Total Marks: 283, Percentage: 56.60%, Division: Second Division\n"
     ]
    }
   ],
   "source": [
    "\n",
    "# Find total marks, percentage, and division of each student\n",
    "for student in students:\n",
    "    print(student)"
   ]
  },
  {
   "cell_type": "markdown",
   "metadata": {},
   "source": [
    "# Q no 34 (Inheritance)\n",
    "Create a <b>parent class Bonus</b> with instance variables sales_id and sales_amount. Add <b>get_bonus \n",
    "method</b> that calculates a salesperson’s bonus using the foumula <br/>bonus = sales * 0.05. <br/>Create a \n",
    "child class named <b>PremiumBonus</b> from Bonus. The child class’s get_premium_bonus() \n",
    "method should calculate the bonus using the formula <br/>bonus = sales * 0.05 + (sales – 2500) * \n",
    "0.01. <br/>Now, create an object of PremiumBonus class and use this object to find both bonus and \n",
    "premium bonus.\n"
   ]
  },
  {
   "cell_type": "code",
   "execution_count": 20,
   "metadata": {},
   "outputs": [
    {
     "name": "stdout",
     "output_type": "stream",
     "text": [
      "Sales ID: 101\n",
      "Sales Amount: 3000\n",
      "Bonus: 150.0\n",
      "Premium Bonus: 155.0\n"
     ]
    }
   ],
   "source": [
    "# Parent Class: Bonus\n",
    "class Bonus:\n",
    "    def __init__(self, sales_id, sales_amount):\n",
    "        self.sales_id = sales_id\n",
    "        self.sales_amount = sales_amount\n",
    "    \n",
    "    # Method to calculate the bonus\n",
    "    def get_bonus(self):\n",
    "        return self.sales_amount * 0.05\n",
    "\n",
    "# Child Class: PremiumBonus, inheriting from Bonus\n",
    "class PremiumBonus(Bonus):\n",
    "    def __init__(self, sales_id, sales_amount):\n",
    "        super().__init__(sales_id, sales_amount)\n",
    "    \n",
    "    # Method to calculate the premium bonus\n",
    "    def get_premium_bonus(self):\n",
    "        bonus = self.sales_amount * 0.05\n",
    "        if self.sales_amount > 2500:\n",
    "            bonus += (self.sales_amount - 2500) * 0.01\n",
    "        return bonus\n",
    "\n",
    "# Create an object of PremiumBonus class\n",
    "premium_salesperson = PremiumBonus(sales_id=101, sales_amount=3000)\n",
    "\n",
    "# Calculate and print both bonus and premium bonus\n",
    "bonus = premium_salesperson.get_bonus()\n",
    "premium_bonus = premium_salesperson.get_premium_bonus()\n",
    "\n",
    "print(f\"Sales ID: {premium_salesperson.sales_id}\")\n",
    "print(f\"Sales Amount: {premium_salesperson.sales_amount}\")\n",
    "print(f\"Bonus: {bonus}\")\n",
    "print(f\"Premium Bonus: {premium_bonus}\")\n"
   ]
  },
  {
   "cell_type": "markdown",
   "metadata": {},
   "source": [
    "# Q no 35\n",
    "Overload + operator in Q.N.25 to add two distance objects.\n"
   ]
  },
  {
   "cell_type": "code",
   "execution_count": 15,
   "metadata": {},
   "outputs": [],
   "source": [
    "class Distance:\n",
    "    def __init__(self, feet, inches):\n",
    "        self.feet = feet\n",
    "        self.inches = inches\n",
    "\n",
    "    def __add__(self, other):\n",
    "        total_inches = self.inches + other.inches\n",
    "        total_feet = self.feet + other.feet + \\\n",
    "            total_inches // 12  #\n",
    "        return Distance(total_feet, total_inches % 12)\n",
    "\n",
    "    def __str__(self):\n",
    "        return f\"{self.feet} feet {self.inches} inches\"\n"
   ]
  },
  {
   "cell_type": "code",
   "execution_count": 17,
   "metadata": {},
   "outputs": [
    {
     "name": "stdout",
     "output_type": "stream",
     "text": [
      "Sum of distances: 11 feet 5 inches\n"
     ]
    }
   ],
   "source": [
    "\n",
    "\n",
    "\n",
    "distance1 = Distance(5, 8)  \n",
    "distance2 = Distance(5, 9) \n",
    "\n",
    "result = distance1 + distance2\n",
    "\n",
    "print(\"Sum of distances:\", result)"
   ]
  },
  {
   "cell_type": "markdown",
   "metadata": {},
   "source": [
    "# Q no 36\n",
    "Write a program that reads a text file and displays the following:<br/>\n",
    "a. Number of characters<br/>\n",
    "b. Number of vowels<br/>\n",
    "c. Number of consonants<br/>\n",
    "d. Number of words<br/>\n",
    "e. Number of lines\n"
   ]
  },
  {
   "cell_type": "code",
   "execution_count": 23,
   "metadata": {},
   "outputs": [],
   "source": [
    "def count_text_file_details(filename):\n",
    "    try:\n",
    "        with open(filename, 'r') as file:\n",
    "            text = file.read()  \n",
    "\n",
    "            # count total characters\n",
    "            num_characters = len(text)\n",
    "\n",
    "            # count vowels\n",
    "            num_vowels = sum(1 for char in text.lower() if char in 'aeiou')\n",
    "\n",
    "            # count consonants\n",
    "            num_consonants = sum(1 for char in text if char.isalpha()\n",
    "                            and char.lower() not in 'aeiou')\n",
    "\n",
    "            # count words\n",
    "            num_words = len(text.split())\n",
    "            \n",
    "            # count lines\n",
    "            num_lines = text.count('\\n') + 1\n",
    "                        \n",
    "        # Display the results\n",
    "        print(f\"Number of characters: {num_characters}\")\n",
    "        print(f\"Number of vowels: {num_vowels}\")\n",
    "        print(f\"Number of consonants: {num_consonants}\")\n",
    "        print(f\"Number of words: {num_words}\")\n",
    "        print(f\"Number of lines: {num_lines}\")\n",
    "        \n",
    "    except FileNotFoundError:\n",
    "        print(f\"The file {filename} was not found!\")\n"
   ]
  },
  {
   "cell_type": "code",
   "execution_count": 25,
   "metadata": {},
   "outputs": [
    {
     "name": "stdout",
     "output_type": "stream",
     "text": [
      "Number of characters: 54\n",
      "Number of vowels: 15\n",
      "Number of consonants: 25\n",
      "Number of words: 10\n",
      "Number of lines: 3\n"
     ]
    }
   ],
   "source": [
    "\n",
    "filename = input(\"Enter the name of the text file: \")\n",
    "count_text_file_details(filename)\n"
   ]
  },
  {
   "cell_type": "markdown",
   "metadata": {},
   "source": [
    "# Q no 37\n",
    "Write a program that reads a text file and writes its output in another text file. The output \n",
    "should contain<br/>\n",
    "a. Number of letters<br/>\n",
    "b. Number of digits, and<br/>\n",
    "c. Number of other characters\n"
   ]
  },
  {
   "cell_type": "code",
   "execution_count": 26,
   "metadata": {},
   "outputs": [],
   "source": [
    "def count_file_characters(input_filename, output_filename):\n",
    "    try:\n",
    "        with open(input_filename, 'r') as input_file:\n",
    "            text = input_file.read()  # Read the entire content of the file\n",
    "\n",
    "            # count letters\n",
    "            num_letters = sum(1 for char in text if char.isalpha())\n",
    "\n",
    "            # count digits\n",
    "            num_digits = sum(1 for char in text if char.isdigit())\n",
    "\n",
    "            # count other characters (excluding letters and digits)\n",
    "            num_other_chars = len(text) - num_letters - num_digits\n",
    "\n",
    "        # Prepare the output text\n",
    "        output_text = f\"Number of letters: {num_letters}\\n\"\n",
    "        output_text += f\"Number of digits: {num_digits}\\n\"\n",
    "        output_text += f\"Number of other characters: {num_other_chars}\\n\"\n",
    "\n",
    "        # Write the result to the output file\n",
    "        with open(output_filename, 'w') as output_file:\n",
    "            output_file.write(output_text)\n",
    "\n",
    "        print(f\"Results have been written to {output_filename}\")\n",
    "\n",
    "    except FileNotFoundError:\n",
    "        print(f\"The file {input_filename} was not found!\")\n"
   ]
  },
  {
   "cell_type": "code",
   "execution_count": 27,
   "metadata": {},
   "outputs": [
    {
     "name": "stdout",
     "output_type": "stream",
     "text": [
      "Results have been written to count.txt\n"
     ]
    }
   ],
   "source": [
    "\n",
    "input_filename = input(\"Enter the name of the input text file: \")\n",
    "output_filename = input(\"Enter the name of the output text file: \")\n",
    "count_file_characters(input_filename, output_filename)\n"
   ]
  },
  {
   "cell_type": "markdown",
   "metadata": {},
   "source": [
    "<b>Content of Output File</b><br/>\n",
    "Number of letters: 40<br/>\n",
    "Number of digits: 2<br/>\n",
    "Number of other characters: 12"
   ]
  },
  {
   "cell_type": "markdown",
   "metadata": {},
   "source": [
    "# Q no 38\n",
    "Write a program that reads the file containing texts and counts the number of whitespaces.\n"
   ]
  },
  {
   "cell_type": "code",
   "execution_count": 31,
   "metadata": {},
   "outputs": [],
   "source": [
    "def count_whitespace_characters(filename):\n",
    "    try:\n",
    "        with open(filename, 'r') as file:\n",
    "            text = file.read()\n",
    "            # Count all whitespace characters in the line\n",
    "            num_whitespaces = sum(1 for char in text if char.isspace())\n",
    "\n",
    "        # Display the result\n",
    "        print(f\"Number of whitespace characters: {num_whitespaces}\")\n",
    "\n",
    "    except FileNotFoundError:\n",
    "        print(f\"The file {filename} was not found!\")\n"
   ]
  },
  {
   "cell_type": "code",
   "execution_count": 32,
   "metadata": {},
   "outputs": [
    {
     "name": "stdout",
     "output_type": "stream",
     "text": [
      "Number of whitespace characters: 13\n"
     ]
    }
   ],
   "source": [
    "\n",
    "# Example usage:\n",
    "filename = input(\"Enter the name of the text file: \")\n",
    "count_whitespace_characters(filename)\n"
   ]
  },
  {
   "cell_type": "markdown",
   "metadata": {},
   "source": [
    "# Q no 39\n",
    "Write a program to find sum and average of numbers stored in a file. Create a separate file to \n",
    "write output.\n"
   ]
  },
  {
   "cell_type": "code",
   "execution_count": 26,
   "metadata": {},
   "outputs": [
    {
     "name": "stdout",
     "output_type": "stream",
     "text": [
      "Sum and Average have been written to 39_count.txt\n"
     ]
    }
   ],
   "source": [
    "def calculate_sum_and_average(input_filename, output_filename):\n",
    "    try:\n",
    "        with open(input_filename, 'r') as input_file:\n",
    "            # Read all lines and convert them to a list of numbers\n",
    "            numbers = [float(line.strip()) for line in input_file if line.strip().isdigit() or is_float(line.strip())]\n",
    "\n",
    "            if numbers:  # Check if the list is not empty\n",
    "                total_sum = sum(numbers)\n",
    "                average = total_sum / len(numbers)\n",
    "                \n",
    "                # Prepare output text\n",
    "                output_text = f\"Sum of numbers: {total_sum}\\n\"\n",
    "                output_text += f\"Average of numbers: {average}\\n\"\n",
    "                \n",
    "                # Write to the output file\n",
    "                with open(output_filename, 'w') as output_file:\n",
    "                    output_file.write(output_text)\n",
    "\n",
    "                print(f\"Sum and Average have been written to {output_filename}\")\n",
    "            else:\n",
    "                print(\"No valid numbers found in the input file.\")\n",
    "\n",
    "    except FileNotFoundError:\n",
    "        print(f\"The file {input_filename} was not found!\")\n",
    "\n",
    "def is_float(value):\n",
    "    try:\n",
    "        float(value)\n",
    "        return True\n",
    "    except ValueError:\n",
    "        return False\n",
    "\n",
    "# Example usage:\n",
    "input_filename = input(\"Enter the name of the input text file: \")\n",
    "output_filename = input(\"Enter the name of the output text file: \")\n",
    "calculate_sum_and_average(input_filename, output_filename)\n"
   ]
  },
  {
   "cell_type": "markdown",
   "metadata": {},
   "source": [
    "# Q no 40 (Numpy)\n",
    "Write a program to find sum and average of 10 numbers stored in a numpy array."
   ]
  },
  {
   "cell_type": "code",
   "execution_count": 36,
   "metadata": {},
   "outputs": [],
   "source": [
    "import numpy as np"
   ]
  },
  {
   "cell_type": "code",
   "execution_count": 37,
   "metadata": {},
   "outputs": [],
   "source": [
    "def sum_and_average():\n",
    "    \n",
    "    numbers = np.random.random(10)\n",
    "    total = np.sum(numbers)  \n",
    "    average = np.mean(numbers)  \n",
    "\n",
    "    print(\"Sum:\", total)\n",
    "    print(\"Average:\", average)\n"
   ]
  },
  {
   "cell_type": "code",
   "execution_count": 38,
   "metadata": {},
   "outputs": [
    {
     "name": "stdout",
     "output_type": "stream",
     "text": [
      "Sum: 4.0888253462843505\n",
      "Average: 0.40888253462843505\n"
     ]
    }
   ],
   "source": [
    "    \n",
    "sum_and_average()\n"
   ]
  },
  {
   "cell_type": "markdown",
   "metadata": {},
   "source": [
    "# Q no 41 (Numpy)\n",
    "Write a program to find sum of each row of a matrix stored in a numpy array."
   ]
  },
  {
   "cell_type": "code",
   "execution_count": 49,
   "metadata": {},
   "outputs": [
    {
     "name": "stdout",
     "output_type": "stream",
     "text": [
      "Sum of each row:\n",
      "Row 1: 6\n",
      "Row 2: 15\n",
      "Row 3: 24\n"
     ]
    }
   ],
   "source": [
    "def sum_of_rows():\n",
    "\n",
    "    matrix = np.array([[1, 2, 3],\n",
    "                        [4, 5, 6],\n",
    "                        [7, 8, 9]])\n",
    "\n",
    "    row_sums = np.sum(matrix, axis=1) \n",
    "    print(\"Sum of each row:\")\n",
    "    for i, row_sum in enumerate(row_sums):\n",
    "        print(f\"Row {i + 1}: {row_sum}\")\n",
    "\n",
    "sum_of_rows()\n"
   ]
  }
 ],
 "metadata": {
  "kernelspec": {
   "display_name": "Python 3",
   "language": "python",
   "name": "python3"
  },
  "language_info": {
   "codemirror_mode": {
    "name": "ipython",
    "version": 3
   },
   "file_extension": ".py",
   "mimetype": "text/x-python",
   "name": "python",
   "nbconvert_exporter": "python",
   "pygments_lexer": "ipython3",
   "version": "3.12.4"
  }
 },
 "nbformat": 4,
 "nbformat_minor": 2
}
