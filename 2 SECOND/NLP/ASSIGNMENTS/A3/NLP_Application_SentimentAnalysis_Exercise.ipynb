{
 "cells": [
  {
   "cell_type": "markdown",
   "metadata": {
    "id": "YjbWuEbVobat"
   },
   "source": [
    "# Sentiment Analysis using Bag of words\n",
    "\n",
    "\n",
    "\n",
    "Sentiment analysis is to analyze the textual documents and extract information that is related to the author’s sentiment or opinion. It is sometimes referred to as opinion mining.\n",
    "\n",
    "It is popular and widely used in industry, e.g., corporate surveys, feedback surveys, social media data, reviews for movies, places, hotels, commodities, etc..\n",
    "\n",
    "The sentiment information from texts can be crucial to further decision making in the industry.\n",
    "\n",
    "**Output of Sentiment Analysis**\n",
    "\n",
    "- Qualitative: overall sentiment scale (positive/negative)\n",
    "- Quantitative: sentiment polarity scores\n"
   ]
  },
  {
   "cell_type": "markdown",
   "metadata": {
    "id": "p0JS-mtYsWr9"
   },
   "source": [
    "## Dataset : `NepCov19Tweet`\n",
    "\n",
    "Referece: C Sitaula, A Basnet, A Mainali and TB Shahi, **Deep Learning-based Methods for Sentiment Analysis on Nepali COVID-19-related Tweets**, Computational Intelligence and Neuroscience, 2021. [Link](https://onlinelibrary.wiley.com/doi/full/10.1155/2021/2158184)\n",
    "\n",
    "Source: https://www.kaggle.com/datasets/mathew11111/nepcov19tweets/data"
   ]
  },
  {
   "cell_type": "code",
   "execution_count": 1,
   "metadata": {
    "id": "bnfj458VsXY-"
   },
   "outputs": [],
   "source": [
    "import pandas as pd\n",
    "\n"
   ]
  },
  {
   "cell_type": "code",
   "execution_count": 2,
   "metadata": {},
   "outputs": [
    {
     "data": {
      "text/html": [
       "<div>\n",
       "<style scoped>\n",
       "    .dataframe tbody tr th:only-of-type {\n",
       "        vertical-align: middle;\n",
       "    }\n",
       "\n",
       "    .dataframe tbody tr th {\n",
       "        vertical-align: top;\n",
       "    }\n",
       "\n",
       "    .dataframe thead th {\n",
       "        text-align: right;\n",
       "    }\n",
       "</style>\n",
       "<table border=\"1\" class=\"dataframe\">\n",
       "  <thead>\n",
       "    <tr style=\"text-align: right;\">\n",
       "      <th></th>\n",
       "      <th>Unnamed: 0</th>\n",
       "      <th>Label</th>\n",
       "      <th>Datetime</th>\n",
       "      <th>Tweet</th>\n",
       "      <th>Tokanize_tweet</th>\n",
       "    </tr>\n",
       "  </thead>\n",
       "  <tbody>\n",
       "    <tr>\n",
       "      <th>0</th>\n",
       "      <td>0</td>\n",
       "      <td>-1</td>\n",
       "      <td>2021-01-10 22:06:41+00:00</td>\n",
       "      <td>अमेरिकामा कोभिड बाट एकै दिन चार हजारभन्दा बढीक...</td>\n",
       "      <td>अमेरिकामा,कोभिड,बाट,एकै,दिन,चार,हजारभन्दा,बढीक...</td>\n",
       "    </tr>\n",
       "    <tr>\n",
       "      <th>1</th>\n",
       "      <td>1</td>\n",
       "      <td>-1</td>\n",
       "      <td>2021-01-10 17:49:34+00:00</td>\n",
       "      <td>कोभिड का कारण विदेशमा रहेका नेपालीहरुमा मानसिक...</td>\n",
       "      <td>कोभिड,का,कारण,विदेशमा,रहेका,नेपालीहरुमा,मानसिक...</td>\n",
       "    </tr>\n",
       "    <tr>\n",
       "      <th>2</th>\n",
       "      <td>2</td>\n",
       "      <td>1</td>\n",
       "      <td>2021-01-10 16:18:34+00:00</td>\n",
       "      <td>नेपालमा क्लोभर बायोफार्मास्युटिकल्स अस्ट्रेलिय...</td>\n",
       "      <td>नेपालमा,क्लोभर,बायोफार्मास्युटिकल्स,अस्ट्रेलिय...</td>\n",
       "    </tr>\n",
       "    <tr>\n",
       "      <th>3</th>\n",
       "      <td>3</td>\n",
       "      <td>0</td>\n",
       "      <td>2021-01-10 15:12:17+00:00</td>\n",
       "      <td>कोभिड को खोप पनि लगाइयो</td>\n",
       "      <td>कोभिड,को,खोप,पनि,लगाइयो</td>\n",
       "    </tr>\n",
       "    <tr>\n",
       "      <th>4</th>\n",
       "      <td>4</td>\n",
       "      <td>-1</td>\n",
       "      <td>2021-01-10 15:07:12+00:00</td>\n",
       "      <td>अमेरिकामा कोभिड को नयाँ रेकर्ड एकै दिन हजारभन्...</td>\n",
       "      <td>अमेरिकामा,कोभिड,को,नयाँ,रेकर्ड,एकै,दिन,हजारभन्...</td>\n",
       "    </tr>\n",
       "  </tbody>\n",
       "</table>\n",
       "</div>"
      ],
      "text/plain": [
       "   Unnamed: 0 Label                   Datetime  \\\n",
       "0           0    -1  2021-01-10 22:06:41+00:00   \n",
       "1           1    -1  2021-01-10 17:49:34+00:00   \n",
       "2           2     1  2021-01-10 16:18:34+00:00   \n",
       "3           3     0  2021-01-10 15:12:17+00:00   \n",
       "4           4    -1  2021-01-10 15:07:12+00:00   \n",
       "\n",
       "                                               Tweet  \\\n",
       "0  अमेरिकामा कोभिड बाट एकै दिन चार हजारभन्दा बढीक...   \n",
       "1  कोभिड का कारण विदेशमा रहेका नेपालीहरुमा मानसिक...   \n",
       "2  नेपालमा क्लोभर बायोफार्मास्युटिकल्स अस्ट्रेलिय...   \n",
       "3                            कोभिड को खोप पनि लगाइयो   \n",
       "4  अमेरिकामा कोभिड को नयाँ रेकर्ड एकै दिन हजारभन्...   \n",
       "\n",
       "                                      Tokanize_tweet  \n",
       "0  अमेरिकामा,कोभिड,बाट,एकै,दिन,चार,हजारभन्दा,बढीक...  \n",
       "1  कोभिड,का,कारण,विदेशमा,रहेका,नेपालीहरुमा,मानसिक...  \n",
       "2  नेपालमा,क्लोभर,बायोफार्मास्युटिकल्स,अस्ट्रेलिय...  \n",
       "3                            कोभिड,को,खोप,पनि,लगाइयो  \n",
       "4  अमेरिकामा,कोभिड,को,नयाँ,रेकर्ड,एकै,दिन,हजारभन्...  "
      ]
     },
     "execution_count": 2,
     "metadata": {},
     "output_type": "execute_result"
    }
   ],
   "source": [
    "df = pd.read_csv('covid19_tweeter_dataset.csv')\n",
    "df.head(5)"
   ]
  },
  {
   "cell_type": "code",
   "execution_count": 3,
   "metadata": {
    "id": "N2brERKluO-a"
   },
   "outputs": [
    {
     "name": "stdout",
     "output_type": "stream",
     "text": [
      "<class 'pandas.core.frame.DataFrame'>\n",
      "RangeIndex: 33474 entries, 0 to 33473\n",
      "Data columns (total 5 columns):\n",
      " #   Column          Non-Null Count  Dtype \n",
      "---  ------          --------------  ----- \n",
      " 0   Unnamed: 0      33474 non-null  int64 \n",
      " 1   Label           33474 non-null  object\n",
      " 2   Datetime        33474 non-null  object\n",
      " 3   Tweet           33474 non-null  object\n",
      " 4   Tokanize_tweet  33471 non-null  object\n",
      "dtypes: int64(1), object(4)\n",
      "memory usage: 1.3+ MB\n"
     ]
    }
   ],
   "source": [
    "df.info()"
   ]
  },
  {
   "cell_type": "markdown",
   "metadata": {
    "id": "wgxitUIuP0m1"
   },
   "source": [
    "Clear unnecessary columns"
   ]
  },
  {
   "cell_type": "code",
   "execution_count": 4,
   "metadata": {
    "id": "yXRwcHxfoOR2"
   },
   "outputs": [
    {
     "data": {
      "text/html": [
       "<div>\n",
       "<style scoped>\n",
       "    .dataframe tbody tr th:only-of-type {\n",
       "        vertical-align: middle;\n",
       "    }\n",
       "\n",
       "    .dataframe tbody tr th {\n",
       "        vertical-align: top;\n",
       "    }\n",
       "\n",
       "    .dataframe thead th {\n",
       "        text-align: right;\n",
       "    }\n",
       "</style>\n",
       "<table border=\"1\" class=\"dataframe\">\n",
       "  <thead>\n",
       "    <tr style=\"text-align: right;\">\n",
       "      <th></th>\n",
       "      <th>Label</th>\n",
       "      <th>Tweet</th>\n",
       "    </tr>\n",
       "  </thead>\n",
       "  <tbody>\n",
       "    <tr>\n",
       "      <th>0</th>\n",
       "      <td>-1</td>\n",
       "      <td>अमेरिकामा कोभिड बाट एकै दिन चार हजारभन्दा बढीक...</td>\n",
       "    </tr>\n",
       "    <tr>\n",
       "      <th>1</th>\n",
       "      <td>-1</td>\n",
       "      <td>कोभिड का कारण विदेशमा रहेका नेपालीहरुमा मानसिक...</td>\n",
       "    </tr>\n",
       "    <tr>\n",
       "      <th>2</th>\n",
       "      <td>1</td>\n",
       "      <td>नेपालमा क्लोभर बायोफार्मास्युटिकल्स अस्ट्रेलिय...</td>\n",
       "    </tr>\n",
       "    <tr>\n",
       "      <th>3</th>\n",
       "      <td>0</td>\n",
       "      <td>कोभिड को खोप पनि लगाइयो</td>\n",
       "    </tr>\n",
       "    <tr>\n",
       "      <th>4</th>\n",
       "      <td>-1</td>\n",
       "      <td>अमेरिकामा कोभिड को नयाँ रेकर्ड एकै दिन हजारभन्...</td>\n",
       "    </tr>\n",
       "  </tbody>\n",
       "</table>\n",
       "</div>"
      ],
      "text/plain": [
       "  Label                                              Tweet\n",
       "0    -1  अमेरिकामा कोभिड बाट एकै दिन चार हजारभन्दा बढीक...\n",
       "1    -1  कोभिड का कारण विदेशमा रहेका नेपालीहरुमा मानसिक...\n",
       "2     1  नेपालमा क्लोभर बायोफार्मास्युटिकल्स अस्ट्रेलिय...\n",
       "3     0                            कोभिड को खोप पनि लगाइयो\n",
       "4    -1  अमेरिकामा कोभिड को नयाँ रेकर्ड एकै दिन हजारभन्..."
      ]
     },
     "execution_count": 4,
     "metadata": {},
     "output_type": "execute_result"
    }
   ],
   "source": [
    "df = df.drop(columns=['Unnamed: 0','Datetime','Tokanize_tweet'], axis=1)\n",
    "df.head(5)"
   ]
  },
  {
   "cell_type": "markdown",
   "metadata": {
    "id": "Le9T7ryUunr7"
   },
   "source": [
    "## Data Pre-Processing\n",
    "\n",
    "**Tokenize**"
   ]
  },
  {
   "cell_type": "code",
   "execution_count": 5,
   "metadata": {
    "id": "DqNUNu6Fudpq"
   },
   "outputs": [
    {
     "name": "stderr",
     "output_type": "stream",
     "text": [
      "[nltk_data] Downloading package punkt to\n",
      "[nltk_data]     C:\\Users\\kaush\\AppData\\Roaming\\nltk_data...\n",
      "[nltk_data]   Package punkt is already up-to-date!\n",
      "[nltk_data] Downloading package stopwords to\n",
      "[nltk_data]     C:\\Users\\kaush\\AppData\\Roaming\\nltk_data...\n",
      "[nltk_data]   Package stopwords is already up-to-date!\n"
     ]
    },
    {
     "data": {
      "text/plain": [
       "True"
      ]
     },
     "execution_count": 5,
     "metadata": {},
     "output_type": "execute_result"
    }
   ],
   "source": [
    "import nltk\n",
    "\n",
    "nltk.download('punkt')\n",
    "nltk.download('stopwords')"
   ]
  },
  {
   "cell_type": "code",
   "execution_count": 6,
   "metadata": {
    "id": "Yp3IEBge4cRo"
   },
   "outputs": [
    {
     "data": {
      "text/html": [
       "<div>\n",
       "<style scoped>\n",
       "    .dataframe tbody tr th:only-of-type {\n",
       "        vertical-align: middle;\n",
       "    }\n",
       "\n",
       "    .dataframe tbody tr th {\n",
       "        vertical-align: top;\n",
       "    }\n",
       "\n",
       "    .dataframe thead th {\n",
       "        text-align: right;\n",
       "    }\n",
       "</style>\n",
       "<table border=\"1\" class=\"dataframe\">\n",
       "  <thead>\n",
       "    <tr style=\"text-align: right;\">\n",
       "      <th></th>\n",
       "      <th>Label</th>\n",
       "      <th>Tweet</th>\n",
       "      <th>tokenized_text</th>\n",
       "    </tr>\n",
       "  </thead>\n",
       "  <tbody>\n",
       "    <tr>\n",
       "      <th>0</th>\n",
       "      <td>-1</td>\n",
       "      <td>अमेरिकामा कोभिड बाट एकै दिन चार हजारभन्दा बढीक...</td>\n",
       "      <td>[अमेरिकामा, कोभिड, बाट, एकै, दिन, चार, हजारभन्...</td>\n",
       "    </tr>\n",
       "    <tr>\n",
       "      <th>1</th>\n",
       "      <td>-1</td>\n",
       "      <td>कोभिड का कारण विदेशमा रहेका नेपालीहरुमा मानसिक...</td>\n",
       "      <td>[कोभिड, का, कारण, विदेशमा, रहेका, नेपालीहरुमा,...</td>\n",
       "    </tr>\n",
       "    <tr>\n",
       "      <th>2</th>\n",
       "      <td>1</td>\n",
       "      <td>नेपालमा क्लोभर बायोफार्मास्युटिकल्स अस्ट्रेलिय...</td>\n",
       "      <td>[नेपालमा, क्लोभर, बायोफार्मास्युटिकल्स, अस्ट्र...</td>\n",
       "    </tr>\n",
       "    <tr>\n",
       "      <th>3</th>\n",
       "      <td>0</td>\n",
       "      <td>कोभिड को खोप पनि लगाइयो</td>\n",
       "      <td>[कोभिड, को, खोप, पनि, लगाइयो]</td>\n",
       "    </tr>\n",
       "    <tr>\n",
       "      <th>4</th>\n",
       "      <td>-1</td>\n",
       "      <td>अमेरिकामा कोभिड को नयाँ रेकर्ड एकै दिन हजारभन्...</td>\n",
       "      <td>[अमेरिकामा, कोभिड, को, नयाँ, रेकर्ड, एकै, दिन,...</td>\n",
       "    </tr>\n",
       "  </tbody>\n",
       "</table>\n",
       "</div>"
      ],
      "text/plain": [
       "  Label                                              Tweet  \\\n",
       "0    -1  अमेरिकामा कोभिड बाट एकै दिन चार हजारभन्दा बढीक...   \n",
       "1    -1  कोभिड का कारण विदेशमा रहेका नेपालीहरुमा मानसिक...   \n",
       "2     1  नेपालमा क्लोभर बायोफार्मास्युटिकल्स अस्ट्रेलिय...   \n",
       "3     0                            कोभिड को खोप पनि लगाइयो   \n",
       "4    -1  अमेरिकामा कोभिड को नयाँ रेकर्ड एकै दिन हजारभन्...   \n",
       "\n",
       "                                      tokenized_text  \n",
       "0  [अमेरिकामा, कोभिड, बाट, एकै, दिन, चार, हजारभन्...  \n",
       "1  [कोभिड, का, कारण, विदेशमा, रहेका, नेपालीहरुमा,...  \n",
       "2  [नेपालमा, क्लोभर, बायोफार्मास्युटिकल्स, अस्ट्र...  \n",
       "3                      [कोभिड, को, खोप, पनि, लगाइयो]  \n",
       "4  [अमेरिकामा, कोभिड, को, नयाँ, रेकर्ड, एकै, दिन,...  "
      ]
     },
     "execution_count": 6,
     "metadata": {},
     "output_type": "execute_result"
    }
   ],
   "source": [
    "#map or apply func to generate tokens\n",
    "\n",
    "df['tokenized_text'] =  df ['Tweet'].map(nltk.word_tokenize)\n",
    "df.head(5)"
   ]
  },
  {
   "cell_type": "markdown",
   "metadata": {
    "id": "4qsDs1fD6JU4"
   },
   "source": [
    "**Stop Word Removal**"
   ]
  },
  {
   "cell_type": "code",
   "execution_count": 7,
   "metadata": {
    "id": "5vvm7V4M6Q7S"
   },
   "outputs": [
    {
     "name": "stderr",
     "output_type": "stream",
     "text": [
      "[nltk_data] Downloading package stopwords to\n",
      "[nltk_data]     C:\\Users\\kaush\\AppData\\Roaming\\nltk_data...\n",
      "[nltk_data]   Package stopwords is already up-to-date!\n"
     ]
    },
    {
     "data": {
      "text/plain": [
       "True"
      ]
     },
     "execution_count": 7,
     "metadata": {},
     "output_type": "execute_result"
    }
   ],
   "source": [
    "nltk.download('stopwords')"
   ]
  },
  {
   "cell_type": "code",
   "execution_count": 8,
   "metadata": {
    "id": "98Ut2Irz6TsZ"
   },
   "outputs": [],
   "source": [
    "from nltk.corpus import stopwords\n",
    "nepali_stopwords = stopwords.words('nepali')"
   ]
  },
  {
   "cell_type": "code",
   "execution_count": 9,
   "metadata": {
    "collapsed": true,
    "id": "HEcHEoHL6g5Z"
   },
   "outputs": [],
   "source": [
    "# nepali_stopwords"
   ]
  },
  {
   "cell_type": "code",
   "execution_count": 10,
   "metadata": {
    "id": "VlRskrzZ6QtC"
   },
   "outputs": [
    {
     "data": {
      "text/html": [
       "<div>\n",
       "<style scoped>\n",
       "    .dataframe tbody tr th:only-of-type {\n",
       "        vertical-align: middle;\n",
       "    }\n",
       "\n",
       "    .dataframe tbody tr th {\n",
       "        vertical-align: top;\n",
       "    }\n",
       "\n",
       "    .dataframe thead th {\n",
       "        text-align: right;\n",
       "    }\n",
       "</style>\n",
       "<table border=\"1\" class=\"dataframe\">\n",
       "  <thead>\n",
       "    <tr style=\"text-align: right;\">\n",
       "      <th></th>\n",
       "      <th>Label</th>\n",
       "      <th>Tweet</th>\n",
       "      <th>tokenized_text</th>\n",
       "      <th>tokenized_text_no_stopwords</th>\n",
       "    </tr>\n",
       "  </thead>\n",
       "  <tbody>\n",
       "    <tr>\n",
       "      <th>0</th>\n",
       "      <td>-1</td>\n",
       "      <td>अमेरिकामा कोभिड बाट एकै दिन चार हजारभन्दा बढीक...</td>\n",
       "      <td>[अमेरिकामा, कोभिड, बाट, एकै, दिन, चार, हजारभन्...</td>\n",
       "      <td>[अमेरिकामा, कोभिड, बाट, एकै, दिन, हजारभन्दा, ब...</td>\n",
       "    </tr>\n",
       "    <tr>\n",
       "      <th>1</th>\n",
       "      <td>-1</td>\n",
       "      <td>कोभिड का कारण विदेशमा रहेका नेपालीहरुमा मानसिक...</td>\n",
       "      <td>[कोभिड, का, कारण, विदेशमा, रहेका, नेपालीहरुमा,...</td>\n",
       "      <td>[कोभिड, कारण, विदेशमा, नेपालीहरुमा, मानसिक, स्...</td>\n",
       "    </tr>\n",
       "    <tr>\n",
       "      <th>2</th>\n",
       "      <td>1</td>\n",
       "      <td>नेपालमा क्लोभर बायोफार्मास्युटिकल्स अस्ट्रेलिय...</td>\n",
       "      <td>[नेपालमा, क्लोभर, बायोफार्मास्युटिकल्स, अस्ट्र...</td>\n",
       "      <td>[नेपालमा, क्लोभर, बायोफार्मास्युटिकल्स, अस्ट्र...</td>\n",
       "    </tr>\n",
       "    <tr>\n",
       "      <th>3</th>\n",
       "      <td>0</td>\n",
       "      <td>कोभिड को खोप पनि लगाइयो</td>\n",
       "      <td>[कोभिड, को, खोप, पनि, लगाइयो]</td>\n",
       "      <td>[कोभिड, खोप, लगाइयो]</td>\n",
       "    </tr>\n",
       "    <tr>\n",
       "      <th>4</th>\n",
       "      <td>-1</td>\n",
       "      <td>अमेरिकामा कोभिड को नयाँ रेकर्ड एकै दिन हजारभन्...</td>\n",
       "      <td>[अमेरिकामा, कोभिड, को, नयाँ, रेकर्ड, एकै, दिन,...</td>\n",
       "      <td>[अमेरिकामा, कोभिड, रेकर्ड, एकै, दिन, हजारभन्दा...</td>\n",
       "    </tr>\n",
       "  </tbody>\n",
       "</table>\n",
       "</div>"
      ],
      "text/plain": [
       "  Label                                              Tweet  \\\n",
       "0    -1  अमेरिकामा कोभिड बाट एकै दिन चार हजारभन्दा बढीक...   \n",
       "1    -1  कोभिड का कारण विदेशमा रहेका नेपालीहरुमा मानसिक...   \n",
       "2     1  नेपालमा क्लोभर बायोफार्मास्युटिकल्स अस्ट्रेलिय...   \n",
       "3     0                            कोभिड को खोप पनि लगाइयो   \n",
       "4    -1  अमेरिकामा कोभिड को नयाँ रेकर्ड एकै दिन हजारभन्...   \n",
       "\n",
       "                                      tokenized_text  \\\n",
       "0  [अमेरिकामा, कोभिड, बाट, एकै, दिन, चार, हजारभन्...   \n",
       "1  [कोभिड, का, कारण, विदेशमा, रहेका, नेपालीहरुमा,...   \n",
       "2  [नेपालमा, क्लोभर, बायोफार्मास्युटिकल्स, अस्ट्र...   \n",
       "3                      [कोभिड, को, खोप, पनि, लगाइयो]   \n",
       "4  [अमेरिकामा, कोभिड, को, नयाँ, रेकर्ड, एकै, दिन,...   \n",
       "\n",
       "                         tokenized_text_no_stopwords  \n",
       "0  [अमेरिकामा, कोभिड, बाट, एकै, दिन, हजारभन्दा, ब...  \n",
       "1  [कोभिड, कारण, विदेशमा, नेपालीहरुमा, मानसिक, स्...  \n",
       "2  [नेपालमा, क्लोभर, बायोफार्मास्युटिकल्स, अस्ट्र...  \n",
       "3                               [कोभिड, खोप, लगाइयो]  \n",
       "4  [अमेरिकामा, कोभिड, रेकर्ड, एकै, दिन, हजारभन्दा...  "
      ]
     },
     "execution_count": 10,
     "metadata": {},
     "output_type": "execute_result"
    }
   ],
   "source": [
    "def remove_stopwords(tokens):\n",
    "    return [word for word in tokens if word not in nepali_stopwords]                      #use list comprehention to filter out the nepali_stopwords\n",
    "\n",
    "df['tokenized_text_no_stopwords'] = df['tokenized_text'].apply(remove_stopwords)\n",
    "df.head(5)"
   ]
  },
  {
   "cell_type": "markdown",
   "metadata": {
    "id": "mO0xRxn76Qe7"
   },
   "source": [
    "### Designing Stemmer for removing the suffixes\n",
    "\n",
    "- Takes a list of tokens as input.\n",
    "- Initializes an empty list stemmed_tokens to store stemmed tokens.\n",
    "- Defines a list of suffixes to remove:`['मा', 'बाट', 'को', 'हरु']`\n",
    "- Iterates through each token:\n",
    "\n",
    "    - For each suffix, checks if the token ends with it using endswith.\n",
    "    - If a match is found, removes the suffix using slicing token`[:-len suffix)]`.\n",
    "    - break is used to stop checking further suffixes for the current token after a suffix is removed.\n",
    "    - Appends the stemmed token to `stemmed_tokens`.\n",
    "\n",
    "- Returns the list of stemmed tokens."
   ]
  },
  {
   "cell_type": "code",
   "execution_count": 11,
   "metadata": {
    "id": "2PCDRaFW7DV8"
   },
   "outputs": [],
   "source": [
    "SUFFIXES = ['मा', 'बाट', 'को', 'का', 'हरु']"
   ]
  },
  {
   "cell_type": "code",
   "execution_count": 12,
   "metadata": {
    "id": "J5ITr-R97U6c"
   },
   "outputs": [],
   "source": [
    "def rule_based_stemmer(tokens):\n",
    "    stemmed_tokens = []\n",
    "    for token in tokens:\n",
    "        for suffix in SUFFIXES:\n",
    "            if token.endswith(suffix):\n",
    "                token = token[:-len(suffix)]\n",
    "                break  # Move to the next token after removing a suffix\n",
    "        stemmed_tokens.append(token)\n",
    "    return stemmed_tokens"
   ]
  },
  {
   "cell_type": "code",
   "execution_count": 13,
   "metadata": {
    "id": "ldBLoG0d7qAo"
   },
   "outputs": [
    {
     "data": {
      "text/html": [
       "<div>\n",
       "<style scoped>\n",
       "    .dataframe tbody tr th:only-of-type {\n",
       "        vertical-align: middle;\n",
       "    }\n",
       "\n",
       "    .dataframe tbody tr th {\n",
       "        vertical-align: top;\n",
       "    }\n",
       "\n",
       "    .dataframe thead th {\n",
       "        text-align: right;\n",
       "    }\n",
       "</style>\n",
       "<table border=\"1\" class=\"dataframe\">\n",
       "  <thead>\n",
       "    <tr style=\"text-align: right;\">\n",
       "      <th></th>\n",
       "      <th>Label</th>\n",
       "      <th>Tweet</th>\n",
       "      <th>tokenized_text</th>\n",
       "      <th>tokenized_text_no_stopwords</th>\n",
       "      <th>stemmed_tokens</th>\n",
       "    </tr>\n",
       "  </thead>\n",
       "  <tbody>\n",
       "    <tr>\n",
       "      <th>0</th>\n",
       "      <td>-1</td>\n",
       "      <td>अमेरिकामा कोभिड बाट एकै दिन चार हजारभन्दा बढीक...</td>\n",
       "      <td>[अमेरिकामा, कोभिड, बाट, एकै, दिन, चार, हजारभन्...</td>\n",
       "      <td>[अमेरिकामा, कोभिड, बाट, एकै, दिन, हजारभन्दा, ब...</td>\n",
       "      <td>[अमेरिका, कोभिड, , एकै, दिन, हजारभन्दा, बढी, म...</td>\n",
       "    </tr>\n",
       "    <tr>\n",
       "      <th>1</th>\n",
       "      <td>-1</td>\n",
       "      <td>कोभिड का कारण विदेशमा रहेका नेपालीहरुमा मानसिक...</td>\n",
       "      <td>[कोभिड, का, कारण, विदेशमा, रहेका, नेपालीहरुमा,...</td>\n",
       "      <td>[कोभिड, कारण, विदेशमा, नेपालीहरुमा, मानसिक, स्...</td>\n",
       "      <td>[कोभिड, कारण, विदेश, नेपालीहरु, मानसिक, स्वास्...</td>\n",
       "    </tr>\n",
       "    <tr>\n",
       "      <th>2</th>\n",
       "      <td>1</td>\n",
       "      <td>नेपालमा क्लोभर बायोफार्मास्युटिकल्स अस्ट्रेलिय...</td>\n",
       "      <td>[नेपालमा, क्लोभर, बायोफार्मास्युटिकल्स, अस्ट्र...</td>\n",
       "      <td>[नेपालमा, क्लोभर, बायोफार्मास्युटिकल्स, अस्ट्र...</td>\n",
       "      <td>[नेपाल, क्लोभर, बायोफार्मास्युटिकल्स, अस्ट्रेल...</td>\n",
       "    </tr>\n",
       "    <tr>\n",
       "      <th>3</th>\n",
       "      <td>0</td>\n",
       "      <td>कोभिड को खोप पनि लगाइयो</td>\n",
       "      <td>[कोभिड, को, खोप, पनि, लगाइयो]</td>\n",
       "      <td>[कोभिड, खोप, लगाइयो]</td>\n",
       "      <td>[कोभिड, खोप, लगाइयो]</td>\n",
       "    </tr>\n",
       "    <tr>\n",
       "      <th>4</th>\n",
       "      <td>-1</td>\n",
       "      <td>अमेरिकामा कोभिड को नयाँ रेकर्ड एकै दिन हजारभन्...</td>\n",
       "      <td>[अमेरिकामा, कोभिड, को, नयाँ, रेकर्ड, एकै, दिन,...</td>\n",
       "      <td>[अमेरिकामा, कोभिड, रेकर्ड, एकै, दिन, हजारभन्दा...</td>\n",
       "      <td>[अमेरिका, कोभिड, रेकर्ड, एकै, दिन, हजारभन्दा, ...</td>\n",
       "    </tr>\n",
       "    <tr>\n",
       "      <th>5</th>\n",
       "      <td>-1</td>\n",
       "      <td>गण्डकी प्रदेश सरकारले कोभिड बाट प्रभावीतहरुको ...</td>\n",
       "      <td>[गण्डकी, प्रदेश, सरकारले, कोभिड, बाट, प्रभावीत...</td>\n",
       "      <td>[गण्डकी, प्रदेश, सरकारले, कोभिड, बाट, प्रभावीत...</td>\n",
       "      <td>[गण्डकी, प्रदेश, सरकारले, कोभिड, , प्रभावीतहरु...</td>\n",
       "    </tr>\n",
       "    <tr>\n",
       "      <th>6</th>\n",
       "      <td>-1</td>\n",
       "      <td>नेपालको संचार अमेरिकामा कोभिड को नयाँ रेकर्ड ए...</td>\n",
       "      <td>[नेपालको, संचार, अमेरिकामा, कोभिड, को, नयाँ, र...</td>\n",
       "      <td>[नेपालको, संचार, अमेरिकामा, कोभिड, रेकर्ड, एकै...</td>\n",
       "      <td>[नेपाल, संचार, अमेरिका, कोभिड, रेकर्ड, एकै, दि...</td>\n",
       "    </tr>\n",
       "    <tr>\n",
       "      <th>7</th>\n",
       "      <td>0</td>\n",
       "      <td>रामेछापमा कोभिड सङ्क्रमितको संख्या पुग्यो</td>\n",
       "      <td>[रामेछापमा, कोभिड, सङ्क्रमितको, संख्या, पुग्यो]</td>\n",
       "      <td>[रामेछापमा, कोभिड, सङ्क्रमितको, संख्या, पुग्यो]</td>\n",
       "      <td>[रामेछाप, कोभिड, सङ्क्रमित, संख्या, पुग्यो]</td>\n",
       "    </tr>\n",
       "    <tr>\n",
       "      <th>8</th>\n",
       "      <td>1</td>\n",
       "      <td>कोरोना भाइरस भारत माघ गतेदेखि कोभिड विरुद्ध रा...</td>\n",
       "      <td>[कोरोना, भाइरस, भारत, माघ, गतेदेखि, कोभिड, विर...</td>\n",
       "      <td>[कोरोना, भाइरस, भारत, माघ, गतेदेखि, कोभिड, विर...</td>\n",
       "      <td>[कोरोना, भाइरस, भारत, माघ, गतेदेखि, कोभिड, विर...</td>\n",
       "    </tr>\n",
       "    <tr>\n",
       "      <th>9</th>\n",
       "      <td>0</td>\n",
       "      <td>स्वास्थ्य मन्त्रालयले माग्यो कोभिड को रोकथामका...</td>\n",
       "      <td>[स्वास्थ्य, मन्त्रालयले, माग्यो, कोभिड, को, रो...</td>\n",
       "      <td>[स्वास्थ्य, मन्त्रालयले, माग्यो, कोभिड, रोकथाम...</td>\n",
       "      <td>[स्वास्थ्य, मन्त्रालयले, माग्यो, कोभिड, रोकथाम...</td>\n",
       "    </tr>\n",
       "  </tbody>\n",
       "</table>\n",
       "</div>"
      ],
      "text/plain": [
       "  Label                                              Tweet  \\\n",
       "0    -1  अमेरिकामा कोभिड बाट एकै दिन चार हजारभन्दा बढीक...   \n",
       "1    -1  कोभिड का कारण विदेशमा रहेका नेपालीहरुमा मानसिक...   \n",
       "2     1  नेपालमा क्लोभर बायोफार्मास्युटिकल्स अस्ट्रेलिय...   \n",
       "3     0                            कोभिड को खोप पनि लगाइयो   \n",
       "4    -1  अमेरिकामा कोभिड को नयाँ रेकर्ड एकै दिन हजारभन्...   \n",
       "5    -1  गण्डकी प्रदेश सरकारले कोभिड बाट प्रभावीतहरुको ...   \n",
       "6    -1  नेपालको संचार अमेरिकामा कोभिड को नयाँ रेकर्ड ए...   \n",
       "7     0          रामेछापमा कोभिड सङ्क्रमितको संख्या पुग्यो   \n",
       "8     1  कोरोना भाइरस भारत माघ गतेदेखि कोभिड विरुद्ध रा...   \n",
       "9     0  स्वास्थ्य मन्त्रालयले माग्यो कोभिड को रोकथामका...   \n",
       "\n",
       "                                      tokenized_text  \\\n",
       "0  [अमेरिकामा, कोभिड, बाट, एकै, दिन, चार, हजारभन्...   \n",
       "1  [कोभिड, का, कारण, विदेशमा, रहेका, नेपालीहरुमा,...   \n",
       "2  [नेपालमा, क्लोभर, बायोफार्मास्युटिकल्स, अस्ट्र...   \n",
       "3                      [कोभिड, को, खोप, पनि, लगाइयो]   \n",
       "4  [अमेरिकामा, कोभिड, को, नयाँ, रेकर्ड, एकै, दिन,...   \n",
       "5  [गण्डकी, प्रदेश, सरकारले, कोभिड, बाट, प्रभावीत...   \n",
       "6  [नेपालको, संचार, अमेरिकामा, कोभिड, को, नयाँ, र...   \n",
       "7    [रामेछापमा, कोभिड, सङ्क्रमितको, संख्या, पुग्यो]   \n",
       "8  [कोरोना, भाइरस, भारत, माघ, गतेदेखि, कोभिड, विर...   \n",
       "9  [स्वास्थ्य, मन्त्रालयले, माग्यो, कोभिड, को, रो...   \n",
       "\n",
       "                         tokenized_text_no_stopwords  \\\n",
       "0  [अमेरिकामा, कोभिड, बाट, एकै, दिन, हजारभन्दा, ब...   \n",
       "1  [कोभिड, कारण, विदेशमा, नेपालीहरुमा, मानसिक, स्...   \n",
       "2  [नेपालमा, क्लोभर, बायोफार्मास्युटिकल्स, अस्ट्र...   \n",
       "3                               [कोभिड, खोप, लगाइयो]   \n",
       "4  [अमेरिकामा, कोभिड, रेकर्ड, एकै, दिन, हजारभन्दा...   \n",
       "5  [गण्डकी, प्रदेश, सरकारले, कोभिड, बाट, प्रभावीत...   \n",
       "6  [नेपालको, संचार, अमेरिकामा, कोभिड, रेकर्ड, एकै...   \n",
       "7    [रामेछापमा, कोभिड, सङ्क्रमितको, संख्या, पुग्यो]   \n",
       "8  [कोरोना, भाइरस, भारत, माघ, गतेदेखि, कोभिड, विर...   \n",
       "9  [स्वास्थ्य, मन्त्रालयले, माग्यो, कोभिड, रोकथाम...   \n",
       "\n",
       "                                      stemmed_tokens  \n",
       "0  [अमेरिका, कोभिड, , एकै, दिन, हजारभन्दा, बढी, म...  \n",
       "1  [कोभिड, कारण, विदेश, नेपालीहरु, मानसिक, स्वास्...  \n",
       "2  [नेपाल, क्लोभर, बायोफार्मास्युटिकल्स, अस्ट्रेल...  \n",
       "3                               [कोभिड, खोप, लगाइयो]  \n",
       "4  [अमेरिका, कोभिड, रेकर्ड, एकै, दिन, हजारभन्दा, ...  \n",
       "5  [गण्डकी, प्रदेश, सरकारले, कोभिड, , प्रभावीतहरु...  \n",
       "6  [नेपाल, संचार, अमेरिका, कोभिड, रेकर्ड, एकै, दि...  \n",
       "7        [रामेछाप, कोभिड, सङ्क्रमित, संख्या, पुग्यो]  \n",
       "8  [कोरोना, भाइरस, भारत, माघ, गतेदेखि, कोभिड, विर...  \n",
       "9  [स्वास्थ्य, मन्त्रालयले, माग्यो, कोभिड, रोकथाम...  "
      ]
     },
     "execution_count": 13,
     "metadata": {},
     "output_type": "execute_result"
    }
   ],
   "source": [
    "df['stemmed_tokens'] = df['tokenized_text_no_stopwords'].apply(rule_based_stemmer)\n",
    "\n",
    "df.head(10)"
   ]
  },
  {
   "cell_type": "markdown",
   "metadata": {
    "id": "vlx1ajY97uFB"
   },
   "source": [
    "## Preparing Datasets for Training/Validation\n",
    "\n",
    "We split the entire dataset into two parts: `training set` and `testing set`.\n",
    "- The proportion of training and testing sets may depend on the corpus size.\n",
    "- In the train-test split, make sure the the distribution of the classes is proportional."
   ]
  },
  {
   "cell_type": "code",
   "execution_count": 14,
   "metadata": {
    "id": "GPzNs-iP8P0p"
   },
   "outputs": [],
   "source": [
    "from sklearn.model_selection import train_test_split\n"
   ]
  },
  {
   "cell_type": "code",
   "execution_count": 15,
   "metadata": {},
   "outputs": [
    {
     "name": "stdout",
     "output_type": "stream",
     "text": [
      "Train set size: 26779\n",
      "Test set size: 6695\n"
     ]
    }
   ],
   "source": [
    "df_train, df_test = train_test_split(df, test_size= 0.20, random_state= 42)\n",
    "\n",
    "print(f\"Train set size: {len(df_train)}\")\n",
    "print(f\"Test set size: {len(df_test)}\")"
   ]
  },
  {
   "cell_type": "markdown",
   "metadata": {
    "id": "WOUiZVSw9rsT"
   },
   "source": [
    "## Vectorize (TF-IDF)\n",
    "\n",
    "**TF-IDF** stands for Term Frequency-Inverse Document Frequency.\n",
    "\n",
    "It's a numerical statistic used in Natural Language Processing to reflect how important a word is to a document within a collection of documents (corpus).\n",
    "\n",
    "It works by considering two factors:\n",
    "\n",
    "- **Term Frequency (TF)**: How frequently a word appears in a document. Higher frequency generally means higher importance.\n",
    "\n",
    "- **Inverse Document Frequency (IDF)**: How common or rare a word is across the entire corpus. Words that appear in many documents are less important than words that appear in a few.\n",
    "\n",
    "$TFIDF(t, d, D) = TF(t, d) \\times IDF(t, D) $\n",
    "\n",
    "\n",
    "Where:\n",
    "- $t$ represents the term (word)\n",
    "- $d$ represents the document\n",
    "- $D$ represents the corpus (collection of documents)\n",
    "\n",
    "\n",
    "\n",
    "We will use TF-IDF for vectorization\n",
    "\n",
    "To create a `bag-of-words` based `TF-IDF` vector from the stemmed_text column, use the `TfidfVectorizer` from `sklearn`."
   ]
  },
  {
   "cell_type": "code",
   "execution_count": 16,
   "metadata": {
    "id": "GQPW_8Tb7tTg"
   },
   "outputs": [],
   "source": [
    "from sklearn.feature_extraction.text import TfidfVectorizer"
   ]
  },
  {
   "cell_type": "code",
   "execution_count": 17,
   "metadata": {
    "id": "1hLkhfQ1-B42"
   },
   "outputs": [
    {
     "data": {
      "text/html": [
       "<style>#sk-container-id-1 {\n",
       "  /* Definition of color scheme common for light and dark mode */\n",
       "  --sklearn-color-text: black;\n",
       "  --sklearn-color-line: gray;\n",
       "  /* Definition of color scheme for unfitted estimators */\n",
       "  --sklearn-color-unfitted-level-0: #fff5e6;\n",
       "  --sklearn-color-unfitted-level-1: #f6e4d2;\n",
       "  --sklearn-color-unfitted-level-2: #ffe0b3;\n",
       "  --sklearn-color-unfitted-level-3: chocolate;\n",
       "  /* Definition of color scheme for fitted estimators */\n",
       "  --sklearn-color-fitted-level-0: #f0f8ff;\n",
       "  --sklearn-color-fitted-level-1: #d4ebff;\n",
       "  --sklearn-color-fitted-level-2: #b3dbfd;\n",
       "  --sklearn-color-fitted-level-3: cornflowerblue;\n",
       "\n",
       "  /* Specific color for light theme */\n",
       "  --sklearn-color-text-on-default-background: var(--sg-text-color, var(--theme-code-foreground, var(--jp-content-font-color1, black)));\n",
       "  --sklearn-color-background: var(--sg-background-color, var(--theme-background, var(--jp-layout-color0, white)));\n",
       "  --sklearn-color-border-box: var(--sg-text-color, var(--theme-code-foreground, var(--jp-content-font-color1, black)));\n",
       "  --sklearn-color-icon: #696969;\n",
       "\n",
       "  @media (prefers-color-scheme: dark) {\n",
       "    /* Redefinition of color scheme for dark theme */\n",
       "    --sklearn-color-text-on-default-background: var(--sg-text-color, var(--theme-code-foreground, var(--jp-content-font-color1, white)));\n",
       "    --sklearn-color-background: var(--sg-background-color, var(--theme-background, var(--jp-layout-color0, #111)));\n",
       "    --sklearn-color-border-box: var(--sg-text-color, var(--theme-code-foreground, var(--jp-content-font-color1, white)));\n",
       "    --sklearn-color-icon: #878787;\n",
       "  }\n",
       "}\n",
       "\n",
       "#sk-container-id-1 {\n",
       "  color: var(--sklearn-color-text);\n",
       "}\n",
       "\n",
       "#sk-container-id-1 pre {\n",
       "  padding: 0;\n",
       "}\n",
       "\n",
       "#sk-container-id-1 input.sk-hidden--visually {\n",
       "  border: 0;\n",
       "  clip: rect(1px 1px 1px 1px);\n",
       "  clip: rect(1px, 1px, 1px, 1px);\n",
       "  height: 1px;\n",
       "  margin: -1px;\n",
       "  overflow: hidden;\n",
       "  padding: 0;\n",
       "  position: absolute;\n",
       "  width: 1px;\n",
       "}\n",
       "\n",
       "#sk-container-id-1 div.sk-dashed-wrapped {\n",
       "  border: 1px dashed var(--sklearn-color-line);\n",
       "  margin: 0 0.4em 0.5em 0.4em;\n",
       "  box-sizing: border-box;\n",
       "  padding-bottom: 0.4em;\n",
       "  background-color: var(--sklearn-color-background);\n",
       "}\n",
       "\n",
       "#sk-container-id-1 div.sk-container {\n",
       "  /* jupyter's `normalize.less` sets `[hidden] { display: none; }`\n",
       "     but bootstrap.min.css set `[hidden] { display: none !important; }`\n",
       "     so we also need the `!important` here to be able to override the\n",
       "     default hidden behavior on the sphinx rendered scikit-learn.org.\n",
       "     See: https://github.com/scikit-learn/scikit-learn/issues/21755 */\n",
       "  display: inline-block !important;\n",
       "  position: relative;\n",
       "}\n",
       "\n",
       "#sk-container-id-1 div.sk-text-repr-fallback {\n",
       "  display: none;\n",
       "}\n",
       "\n",
       "div.sk-parallel-item,\n",
       "div.sk-serial,\n",
       "div.sk-item {\n",
       "  /* draw centered vertical line to link estimators */\n",
       "  background-image: linear-gradient(var(--sklearn-color-text-on-default-background), var(--sklearn-color-text-on-default-background));\n",
       "  background-size: 2px 100%;\n",
       "  background-repeat: no-repeat;\n",
       "  background-position: center center;\n",
       "}\n",
       "\n",
       "/* Parallel-specific style estimator block */\n",
       "\n",
       "#sk-container-id-1 div.sk-parallel-item::after {\n",
       "  content: \"\";\n",
       "  width: 100%;\n",
       "  border-bottom: 2px solid var(--sklearn-color-text-on-default-background);\n",
       "  flex-grow: 1;\n",
       "}\n",
       "\n",
       "#sk-container-id-1 div.sk-parallel {\n",
       "  display: flex;\n",
       "  align-items: stretch;\n",
       "  justify-content: center;\n",
       "  background-color: var(--sklearn-color-background);\n",
       "  position: relative;\n",
       "}\n",
       "\n",
       "#sk-container-id-1 div.sk-parallel-item {\n",
       "  display: flex;\n",
       "  flex-direction: column;\n",
       "}\n",
       "\n",
       "#sk-container-id-1 div.sk-parallel-item:first-child::after {\n",
       "  align-self: flex-end;\n",
       "  width: 50%;\n",
       "}\n",
       "\n",
       "#sk-container-id-1 div.sk-parallel-item:last-child::after {\n",
       "  align-self: flex-start;\n",
       "  width: 50%;\n",
       "}\n",
       "\n",
       "#sk-container-id-1 div.sk-parallel-item:only-child::after {\n",
       "  width: 0;\n",
       "}\n",
       "\n",
       "/* Serial-specific style estimator block */\n",
       "\n",
       "#sk-container-id-1 div.sk-serial {\n",
       "  display: flex;\n",
       "  flex-direction: column;\n",
       "  align-items: center;\n",
       "  background-color: var(--sklearn-color-background);\n",
       "  padding-right: 1em;\n",
       "  padding-left: 1em;\n",
       "}\n",
       "\n",
       "\n",
       "/* Toggleable style: style used for estimator/Pipeline/ColumnTransformer box that is\n",
       "clickable and can be expanded/collapsed.\n",
       "- Pipeline and ColumnTransformer use this feature and define the default style\n",
       "- Estimators will overwrite some part of the style using the `sk-estimator` class\n",
       "*/\n",
       "\n",
       "/* Pipeline and ColumnTransformer style (default) */\n",
       "\n",
       "#sk-container-id-1 div.sk-toggleable {\n",
       "  /* Default theme specific background. It is overwritten whether we have a\n",
       "  specific estimator or a Pipeline/ColumnTransformer */\n",
       "  background-color: var(--sklearn-color-background);\n",
       "}\n",
       "\n",
       "/* Toggleable label */\n",
       "#sk-container-id-1 label.sk-toggleable__label {\n",
       "  cursor: pointer;\n",
       "  display: block;\n",
       "  width: 100%;\n",
       "  margin-bottom: 0;\n",
       "  padding: 0.5em;\n",
       "  box-sizing: border-box;\n",
       "  text-align: center;\n",
       "}\n",
       "\n",
       "#sk-container-id-1 label.sk-toggleable__label-arrow:before {\n",
       "  /* Arrow on the left of the label */\n",
       "  content: \"▸\";\n",
       "  float: left;\n",
       "  margin-right: 0.25em;\n",
       "  color: var(--sklearn-color-icon);\n",
       "}\n",
       "\n",
       "#sk-container-id-1 label.sk-toggleable__label-arrow:hover:before {\n",
       "  color: var(--sklearn-color-text);\n",
       "}\n",
       "\n",
       "/* Toggleable content - dropdown */\n",
       "\n",
       "#sk-container-id-1 div.sk-toggleable__content {\n",
       "  max-height: 0;\n",
       "  max-width: 0;\n",
       "  overflow: hidden;\n",
       "  text-align: left;\n",
       "  /* unfitted */\n",
       "  background-color: var(--sklearn-color-unfitted-level-0);\n",
       "}\n",
       "\n",
       "#sk-container-id-1 div.sk-toggleable__content.fitted {\n",
       "  /* fitted */\n",
       "  background-color: var(--sklearn-color-fitted-level-0);\n",
       "}\n",
       "\n",
       "#sk-container-id-1 div.sk-toggleable__content pre {\n",
       "  margin: 0.2em;\n",
       "  border-radius: 0.25em;\n",
       "  color: var(--sklearn-color-text);\n",
       "  /* unfitted */\n",
       "  background-color: var(--sklearn-color-unfitted-level-0);\n",
       "}\n",
       "\n",
       "#sk-container-id-1 div.sk-toggleable__content.fitted pre {\n",
       "  /* unfitted */\n",
       "  background-color: var(--sklearn-color-fitted-level-0);\n",
       "}\n",
       "\n",
       "#sk-container-id-1 input.sk-toggleable__control:checked~div.sk-toggleable__content {\n",
       "  /* Expand drop-down */\n",
       "  max-height: 200px;\n",
       "  max-width: 100%;\n",
       "  overflow: auto;\n",
       "}\n",
       "\n",
       "#sk-container-id-1 input.sk-toggleable__control:checked~label.sk-toggleable__label-arrow:before {\n",
       "  content: \"▾\";\n",
       "}\n",
       "\n",
       "/* Pipeline/ColumnTransformer-specific style */\n",
       "\n",
       "#sk-container-id-1 div.sk-label input.sk-toggleable__control:checked~label.sk-toggleable__label {\n",
       "  color: var(--sklearn-color-text);\n",
       "  background-color: var(--sklearn-color-unfitted-level-2);\n",
       "}\n",
       "\n",
       "#sk-container-id-1 div.sk-label.fitted input.sk-toggleable__control:checked~label.sk-toggleable__label {\n",
       "  background-color: var(--sklearn-color-fitted-level-2);\n",
       "}\n",
       "\n",
       "/* Estimator-specific style */\n",
       "\n",
       "/* Colorize estimator box */\n",
       "#sk-container-id-1 div.sk-estimator input.sk-toggleable__control:checked~label.sk-toggleable__label {\n",
       "  /* unfitted */\n",
       "  background-color: var(--sklearn-color-unfitted-level-2);\n",
       "}\n",
       "\n",
       "#sk-container-id-1 div.sk-estimator.fitted input.sk-toggleable__control:checked~label.sk-toggleable__label {\n",
       "  /* fitted */\n",
       "  background-color: var(--sklearn-color-fitted-level-2);\n",
       "}\n",
       "\n",
       "#sk-container-id-1 div.sk-label label.sk-toggleable__label,\n",
       "#sk-container-id-1 div.sk-label label {\n",
       "  /* The background is the default theme color */\n",
       "  color: var(--sklearn-color-text-on-default-background);\n",
       "}\n",
       "\n",
       "/* On hover, darken the color of the background */\n",
       "#sk-container-id-1 div.sk-label:hover label.sk-toggleable__label {\n",
       "  color: var(--sklearn-color-text);\n",
       "  background-color: var(--sklearn-color-unfitted-level-2);\n",
       "}\n",
       "\n",
       "/* Label box, darken color on hover, fitted */\n",
       "#sk-container-id-1 div.sk-label.fitted:hover label.sk-toggleable__label.fitted {\n",
       "  color: var(--sklearn-color-text);\n",
       "  background-color: var(--sklearn-color-fitted-level-2);\n",
       "}\n",
       "\n",
       "/* Estimator label */\n",
       "\n",
       "#sk-container-id-1 div.sk-label label {\n",
       "  font-family: monospace;\n",
       "  font-weight: bold;\n",
       "  display: inline-block;\n",
       "  line-height: 1.2em;\n",
       "}\n",
       "\n",
       "#sk-container-id-1 div.sk-label-container {\n",
       "  text-align: center;\n",
       "}\n",
       "\n",
       "/* Estimator-specific */\n",
       "#sk-container-id-1 div.sk-estimator {\n",
       "  font-family: monospace;\n",
       "  border: 1px dotted var(--sklearn-color-border-box);\n",
       "  border-radius: 0.25em;\n",
       "  box-sizing: border-box;\n",
       "  margin-bottom: 0.5em;\n",
       "  /* unfitted */\n",
       "  background-color: var(--sklearn-color-unfitted-level-0);\n",
       "}\n",
       "\n",
       "#sk-container-id-1 div.sk-estimator.fitted {\n",
       "  /* fitted */\n",
       "  background-color: var(--sklearn-color-fitted-level-0);\n",
       "}\n",
       "\n",
       "/* on hover */\n",
       "#sk-container-id-1 div.sk-estimator:hover {\n",
       "  /* unfitted */\n",
       "  background-color: var(--sklearn-color-unfitted-level-2);\n",
       "}\n",
       "\n",
       "#sk-container-id-1 div.sk-estimator.fitted:hover {\n",
       "  /* fitted */\n",
       "  background-color: var(--sklearn-color-fitted-level-2);\n",
       "}\n",
       "\n",
       "/* Specification for estimator info (e.g. \"i\" and \"?\") */\n",
       "\n",
       "/* Common style for \"i\" and \"?\" */\n",
       "\n",
       ".sk-estimator-doc-link,\n",
       "a:link.sk-estimator-doc-link,\n",
       "a:visited.sk-estimator-doc-link {\n",
       "  float: right;\n",
       "  font-size: smaller;\n",
       "  line-height: 1em;\n",
       "  font-family: monospace;\n",
       "  background-color: var(--sklearn-color-background);\n",
       "  border-radius: 1em;\n",
       "  height: 1em;\n",
       "  width: 1em;\n",
       "  text-decoration: none !important;\n",
       "  margin-left: 1ex;\n",
       "  /* unfitted */\n",
       "  border: var(--sklearn-color-unfitted-level-1) 1pt solid;\n",
       "  color: var(--sklearn-color-unfitted-level-1);\n",
       "}\n",
       "\n",
       ".sk-estimator-doc-link.fitted,\n",
       "a:link.sk-estimator-doc-link.fitted,\n",
       "a:visited.sk-estimator-doc-link.fitted {\n",
       "  /* fitted */\n",
       "  border: var(--sklearn-color-fitted-level-1) 1pt solid;\n",
       "  color: var(--sklearn-color-fitted-level-1);\n",
       "}\n",
       "\n",
       "/* On hover */\n",
       "div.sk-estimator:hover .sk-estimator-doc-link:hover,\n",
       ".sk-estimator-doc-link:hover,\n",
       "div.sk-label-container:hover .sk-estimator-doc-link:hover,\n",
       ".sk-estimator-doc-link:hover {\n",
       "  /* unfitted */\n",
       "  background-color: var(--sklearn-color-unfitted-level-3);\n",
       "  color: var(--sklearn-color-background);\n",
       "  text-decoration: none;\n",
       "}\n",
       "\n",
       "div.sk-estimator.fitted:hover .sk-estimator-doc-link.fitted:hover,\n",
       ".sk-estimator-doc-link.fitted:hover,\n",
       "div.sk-label-container:hover .sk-estimator-doc-link.fitted:hover,\n",
       ".sk-estimator-doc-link.fitted:hover {\n",
       "  /* fitted */\n",
       "  background-color: var(--sklearn-color-fitted-level-3);\n",
       "  color: var(--sklearn-color-background);\n",
       "  text-decoration: none;\n",
       "}\n",
       "\n",
       "/* Span, style for the box shown on hovering the info icon */\n",
       ".sk-estimator-doc-link span {\n",
       "  display: none;\n",
       "  z-index: 9999;\n",
       "  position: relative;\n",
       "  font-weight: normal;\n",
       "  right: .2ex;\n",
       "  padding: .5ex;\n",
       "  margin: .5ex;\n",
       "  width: min-content;\n",
       "  min-width: 20ex;\n",
       "  max-width: 50ex;\n",
       "  color: var(--sklearn-color-text);\n",
       "  box-shadow: 2pt 2pt 4pt #999;\n",
       "  /* unfitted */\n",
       "  background: var(--sklearn-color-unfitted-level-0);\n",
       "  border: .5pt solid var(--sklearn-color-unfitted-level-3);\n",
       "}\n",
       "\n",
       ".sk-estimator-doc-link.fitted span {\n",
       "  /* fitted */\n",
       "  background: var(--sklearn-color-fitted-level-0);\n",
       "  border: var(--sklearn-color-fitted-level-3);\n",
       "}\n",
       "\n",
       ".sk-estimator-doc-link:hover span {\n",
       "  display: block;\n",
       "}\n",
       "\n",
       "/* \"?\"-specific style due to the `<a>` HTML tag */\n",
       "\n",
       "#sk-container-id-1 a.estimator_doc_link {\n",
       "  float: right;\n",
       "  font-size: 1rem;\n",
       "  line-height: 1em;\n",
       "  font-family: monospace;\n",
       "  background-color: var(--sklearn-color-background);\n",
       "  border-radius: 1rem;\n",
       "  height: 1rem;\n",
       "  width: 1rem;\n",
       "  text-decoration: none;\n",
       "  /* unfitted */\n",
       "  color: var(--sklearn-color-unfitted-level-1);\n",
       "  border: var(--sklearn-color-unfitted-level-1) 1pt solid;\n",
       "}\n",
       "\n",
       "#sk-container-id-1 a.estimator_doc_link.fitted {\n",
       "  /* fitted */\n",
       "  border: var(--sklearn-color-fitted-level-1) 1pt solid;\n",
       "  color: var(--sklearn-color-fitted-level-1);\n",
       "}\n",
       "\n",
       "/* On hover */\n",
       "#sk-container-id-1 a.estimator_doc_link:hover {\n",
       "  /* unfitted */\n",
       "  background-color: var(--sklearn-color-unfitted-level-3);\n",
       "  color: var(--sklearn-color-background);\n",
       "  text-decoration: none;\n",
       "}\n",
       "\n",
       "#sk-container-id-1 a.estimator_doc_link.fitted:hover {\n",
       "  /* fitted */\n",
       "  background-color: var(--sklearn-color-fitted-level-3);\n",
       "}\n",
       "</style><div id=\"sk-container-id-1\" class=\"sk-top-container\"><div class=\"sk-text-repr-fallback\"><pre>TfidfVectorizer()</pre><b>In a Jupyter environment, please rerun this cell to show the HTML representation or trust the notebook. <br />On GitHub, the HTML representation is unable to render, please try loading this page with nbviewer.org.</b></div><div class=\"sk-container\" hidden><div class=\"sk-item\"><div class=\"sk-estimator fitted sk-toggleable\"><input class=\"sk-toggleable__control sk-hidden--visually\" id=\"sk-estimator-id-1\" type=\"checkbox\" checked><label for=\"sk-estimator-id-1\" class=\"sk-toggleable__label fitted sk-toggleable__label-arrow fitted\">&nbsp;&nbsp;TfidfVectorizer<a class=\"sk-estimator-doc-link fitted\" rel=\"noreferrer\" target=\"_blank\" href=\"https://scikit-learn.org/1.5/modules/generated/sklearn.feature_extraction.text.TfidfVectorizer.html\">?<span>Documentation for TfidfVectorizer</span></a><span class=\"sk-estimator-doc-link fitted\">i<span>Fitted</span></span></label><div class=\"sk-toggleable__content fitted\"><pre>TfidfVectorizer()</pre></div> </div></div></div></div>"
      ],
      "text/plain": [
       "TfidfVectorizer()"
      ]
     },
     "execution_count": 17,
     "metadata": {},
     "output_type": "execute_result"
    }
   ],
   "source": [
    "# Join the stemmed tokens back into sentences\n",
    "df['stemmed_token_joined'] = df['stemmed_tokens'].apply(' '.join)\n",
    "\n",
    "# Initialize the TfidfVectorizer\n",
    "vectorizer = TfidfVectorizer()\n",
    "\n",
    "# fit the vectorizer\n",
    "vectorizer.fit( df['stemmed_token_joined'] )"
   ]
  },
  {
   "cell_type": "code",
   "execution_count": 18,
   "metadata": {
    "id": "JDQ3nOXK_lps"
   },
   "outputs": [
    {
     "name": "stdout",
     "output_type": "stream",
     "text": [
      "[[0. 0. 0. ... 0. 0. 0.]]\n"
     ]
    },
    {
     "data": {
      "text/plain": [
       "(1, 5551)"
      ]
     },
     "execution_count": 18,
     "metadata": {},
     "output_type": "execute_result"
    }
   ],
   "source": [
    "vector = vectorizer.transform([\"कोभिड समस्या पारेको छ\"])\n",
    "print(vector.toarray())\n",
    "vector.shape"
   ]
  },
  {
   "cell_type": "markdown",
   "metadata": {
    "id": "bq1q_xuL_AaP"
   },
   "source": [
    "Vectorize train and test dataset"
   ]
  },
  {
   "cell_type": "code",
   "execution_count": 19,
   "metadata": {
    "id": "X3VBwJQe_GGA"
   },
   "outputs": [],
   "source": [
    "df_train['stemmed_token_joined'] = df_train['stemmed_tokens'].apply(' '.join)\n",
    "X_train_bow = vectorizer.transform(df_train['stemmed_token_joined'])\n",
    "\n",
    "df_test['stemmed_token_joined'] = df_test['stemmed_tokens'].apply(' '.join)\n",
    "X_test_bow  = vectorizer.transform(df_test['stemmed_token_joined'])"
   ]
  },
  {
   "cell_type": "code",
   "execution_count": 20,
   "metadata": {
    "id": "1Fu_akcBCPN0"
   },
   "outputs": [
    {
     "data": {
      "text/plain": [
       "((26779, 5551), (6695, 5551))"
      ]
     },
     "execution_count": 20,
     "metadata": {},
     "output_type": "execute_result"
    }
   ],
   "source": [
    "X_train_bow.shape, X_test_bow.shape"
   ]
  },
  {
   "cell_type": "markdown",
   "metadata": {
    "id": "BNwyvszmCWaK"
   },
   "source": [
    "## Visualize the vector\n",
    "\n",
    "To visualize the TF-IDF matrix, you can use dimensionality reduction techniques like `PCA` or `t-SNE` to project the high-dimensional matrix into a 2D or 3D space.\n",
    "\n",
    "Then, you can plot the projected data using libraries like matplotlib."
   ]
  },
  {
   "cell_type": "code",
   "execution_count": 21,
   "metadata": {
    "id": "G4DKDGZ9CV7r"
   },
   "outputs": [],
   "source": [
    "import plotly.express as px\n",
    "from sklearn.decomposition import PCA"
   ]
  },
  {
   "cell_type": "markdown",
   "metadata": {
    "id": "pGmU03NcCkO7"
   },
   "source": [
    "Then, apply PCA to reduce the dimensionality of the TF-IDF matrix:"
   ]
  },
  {
   "cell_type": "code",
   "execution_count": 22,
   "metadata": {
    "id": "cCHs0k7GCmYZ"
   },
   "outputs": [
    {
     "data": {
      "text/plain": [
       "(6695, 3)"
      ]
     },
     "execution_count": 22,
     "metadata": {},
     "output_type": "execute_result"
    }
   ],
   "source": [
    "pca = PCA(n_components=3)  # Reduce to 3 dimensions for visualization\n",
    "reduced_tfidf = pca.fit_transform(X_test_bow.toarray())  # Convert sparse matrix to dense array\n",
    "reduced_tfidf.shape"
   ]
  },
  {
   "cell_type": "code",
   "execution_count": 23,
   "metadata": {
    "id": "eg6aNaroC2op"
   },
   "outputs": [],
   "source": [
    "# df_3d = pd.DataFrame(reduced_tfidf, columns=['PC1', 'PC2', 'PC3'])\n",
    "\n",
    "# fig = px.scatter_3d(df_3d, x='PC1', y='PC2', z='PC3')\n",
    "# fig.show()"
   ]
  },
  {
   "cell_type": "markdown",
   "metadata": {
    "id": "Ct0C3Z0-EhGY"
   },
   "source": [
    "## Model Training\n",
    "\n",
    "For our sentiment classifier, we will try a few common classification algorithms:\n",
    "\n",
    "- Support Vector Machine\n",
    "- Decision Tree\n",
    "- Naive Bayes\n",
    "- Logistic Regression"
   ]
  },
  {
   "cell_type": "markdown",
   "metadata": {
    "id": "4SlbXntoDq9-"
   },
   "source": [
    "Generate labels"
   ]
  },
  {
   "cell_type": "code",
   "execution_count": 24,
   "metadata": {
    "id": "791SWx9fEUBj"
   },
   "outputs": [],
   "source": [
    "y_train = df_train['Label']\n",
    "y_test = df_test['Label']"
   ]
  },
  {
   "cell_type": "code",
   "execution_count": 25,
   "metadata": {
    "id": "cgmUz21wHLCi"
   },
   "outputs": [
    {
     "data": {
      "text/html": [
       "<style>#sk-container-id-2 {\n",
       "  /* Definition of color scheme common for light and dark mode */\n",
       "  --sklearn-color-text: black;\n",
       "  --sklearn-color-line: gray;\n",
       "  /* Definition of color scheme for unfitted estimators */\n",
       "  --sklearn-color-unfitted-level-0: #fff5e6;\n",
       "  --sklearn-color-unfitted-level-1: #f6e4d2;\n",
       "  --sklearn-color-unfitted-level-2: #ffe0b3;\n",
       "  --sklearn-color-unfitted-level-3: chocolate;\n",
       "  /* Definition of color scheme for fitted estimators */\n",
       "  --sklearn-color-fitted-level-0: #f0f8ff;\n",
       "  --sklearn-color-fitted-level-1: #d4ebff;\n",
       "  --sklearn-color-fitted-level-2: #b3dbfd;\n",
       "  --sklearn-color-fitted-level-3: cornflowerblue;\n",
       "\n",
       "  /* Specific color for light theme */\n",
       "  --sklearn-color-text-on-default-background: var(--sg-text-color, var(--theme-code-foreground, var(--jp-content-font-color1, black)));\n",
       "  --sklearn-color-background: var(--sg-background-color, var(--theme-background, var(--jp-layout-color0, white)));\n",
       "  --sklearn-color-border-box: var(--sg-text-color, var(--theme-code-foreground, var(--jp-content-font-color1, black)));\n",
       "  --sklearn-color-icon: #696969;\n",
       "\n",
       "  @media (prefers-color-scheme: dark) {\n",
       "    /* Redefinition of color scheme for dark theme */\n",
       "    --sklearn-color-text-on-default-background: var(--sg-text-color, var(--theme-code-foreground, var(--jp-content-font-color1, white)));\n",
       "    --sklearn-color-background: var(--sg-background-color, var(--theme-background, var(--jp-layout-color0, #111)));\n",
       "    --sklearn-color-border-box: var(--sg-text-color, var(--theme-code-foreground, var(--jp-content-font-color1, white)));\n",
       "    --sklearn-color-icon: #878787;\n",
       "  }\n",
       "}\n",
       "\n",
       "#sk-container-id-2 {\n",
       "  color: var(--sklearn-color-text);\n",
       "}\n",
       "\n",
       "#sk-container-id-2 pre {\n",
       "  padding: 0;\n",
       "}\n",
       "\n",
       "#sk-container-id-2 input.sk-hidden--visually {\n",
       "  border: 0;\n",
       "  clip: rect(1px 1px 1px 1px);\n",
       "  clip: rect(1px, 1px, 1px, 1px);\n",
       "  height: 1px;\n",
       "  margin: -1px;\n",
       "  overflow: hidden;\n",
       "  padding: 0;\n",
       "  position: absolute;\n",
       "  width: 1px;\n",
       "}\n",
       "\n",
       "#sk-container-id-2 div.sk-dashed-wrapped {\n",
       "  border: 1px dashed var(--sklearn-color-line);\n",
       "  margin: 0 0.4em 0.5em 0.4em;\n",
       "  box-sizing: border-box;\n",
       "  padding-bottom: 0.4em;\n",
       "  background-color: var(--sklearn-color-background);\n",
       "}\n",
       "\n",
       "#sk-container-id-2 div.sk-container {\n",
       "  /* jupyter's `normalize.less` sets `[hidden] { display: none; }`\n",
       "     but bootstrap.min.css set `[hidden] { display: none !important; }`\n",
       "     so we also need the `!important` here to be able to override the\n",
       "     default hidden behavior on the sphinx rendered scikit-learn.org.\n",
       "     See: https://github.com/scikit-learn/scikit-learn/issues/21755 */\n",
       "  display: inline-block !important;\n",
       "  position: relative;\n",
       "}\n",
       "\n",
       "#sk-container-id-2 div.sk-text-repr-fallback {\n",
       "  display: none;\n",
       "}\n",
       "\n",
       "div.sk-parallel-item,\n",
       "div.sk-serial,\n",
       "div.sk-item {\n",
       "  /* draw centered vertical line to link estimators */\n",
       "  background-image: linear-gradient(var(--sklearn-color-text-on-default-background), var(--sklearn-color-text-on-default-background));\n",
       "  background-size: 2px 100%;\n",
       "  background-repeat: no-repeat;\n",
       "  background-position: center center;\n",
       "}\n",
       "\n",
       "/* Parallel-specific style estimator block */\n",
       "\n",
       "#sk-container-id-2 div.sk-parallel-item::after {\n",
       "  content: \"\";\n",
       "  width: 100%;\n",
       "  border-bottom: 2px solid var(--sklearn-color-text-on-default-background);\n",
       "  flex-grow: 1;\n",
       "}\n",
       "\n",
       "#sk-container-id-2 div.sk-parallel {\n",
       "  display: flex;\n",
       "  align-items: stretch;\n",
       "  justify-content: center;\n",
       "  background-color: var(--sklearn-color-background);\n",
       "  position: relative;\n",
       "}\n",
       "\n",
       "#sk-container-id-2 div.sk-parallel-item {\n",
       "  display: flex;\n",
       "  flex-direction: column;\n",
       "}\n",
       "\n",
       "#sk-container-id-2 div.sk-parallel-item:first-child::after {\n",
       "  align-self: flex-end;\n",
       "  width: 50%;\n",
       "}\n",
       "\n",
       "#sk-container-id-2 div.sk-parallel-item:last-child::after {\n",
       "  align-self: flex-start;\n",
       "  width: 50%;\n",
       "}\n",
       "\n",
       "#sk-container-id-2 div.sk-parallel-item:only-child::after {\n",
       "  width: 0;\n",
       "}\n",
       "\n",
       "/* Serial-specific style estimator block */\n",
       "\n",
       "#sk-container-id-2 div.sk-serial {\n",
       "  display: flex;\n",
       "  flex-direction: column;\n",
       "  align-items: center;\n",
       "  background-color: var(--sklearn-color-background);\n",
       "  padding-right: 1em;\n",
       "  padding-left: 1em;\n",
       "}\n",
       "\n",
       "\n",
       "/* Toggleable style: style used for estimator/Pipeline/ColumnTransformer box that is\n",
       "clickable and can be expanded/collapsed.\n",
       "- Pipeline and ColumnTransformer use this feature and define the default style\n",
       "- Estimators will overwrite some part of the style using the `sk-estimator` class\n",
       "*/\n",
       "\n",
       "/* Pipeline and ColumnTransformer style (default) */\n",
       "\n",
       "#sk-container-id-2 div.sk-toggleable {\n",
       "  /* Default theme specific background. It is overwritten whether we have a\n",
       "  specific estimator or a Pipeline/ColumnTransformer */\n",
       "  background-color: var(--sklearn-color-background);\n",
       "}\n",
       "\n",
       "/* Toggleable label */\n",
       "#sk-container-id-2 label.sk-toggleable__label {\n",
       "  cursor: pointer;\n",
       "  display: block;\n",
       "  width: 100%;\n",
       "  margin-bottom: 0;\n",
       "  padding: 0.5em;\n",
       "  box-sizing: border-box;\n",
       "  text-align: center;\n",
       "}\n",
       "\n",
       "#sk-container-id-2 label.sk-toggleable__label-arrow:before {\n",
       "  /* Arrow on the left of the label */\n",
       "  content: \"▸\";\n",
       "  float: left;\n",
       "  margin-right: 0.25em;\n",
       "  color: var(--sklearn-color-icon);\n",
       "}\n",
       "\n",
       "#sk-container-id-2 label.sk-toggleable__label-arrow:hover:before {\n",
       "  color: var(--sklearn-color-text);\n",
       "}\n",
       "\n",
       "/* Toggleable content - dropdown */\n",
       "\n",
       "#sk-container-id-2 div.sk-toggleable__content {\n",
       "  max-height: 0;\n",
       "  max-width: 0;\n",
       "  overflow: hidden;\n",
       "  text-align: left;\n",
       "  /* unfitted */\n",
       "  background-color: var(--sklearn-color-unfitted-level-0);\n",
       "}\n",
       "\n",
       "#sk-container-id-2 div.sk-toggleable__content.fitted {\n",
       "  /* fitted */\n",
       "  background-color: var(--sklearn-color-fitted-level-0);\n",
       "}\n",
       "\n",
       "#sk-container-id-2 div.sk-toggleable__content pre {\n",
       "  margin: 0.2em;\n",
       "  border-radius: 0.25em;\n",
       "  color: var(--sklearn-color-text);\n",
       "  /* unfitted */\n",
       "  background-color: var(--sklearn-color-unfitted-level-0);\n",
       "}\n",
       "\n",
       "#sk-container-id-2 div.sk-toggleable__content.fitted pre {\n",
       "  /* unfitted */\n",
       "  background-color: var(--sklearn-color-fitted-level-0);\n",
       "}\n",
       "\n",
       "#sk-container-id-2 input.sk-toggleable__control:checked~div.sk-toggleable__content {\n",
       "  /* Expand drop-down */\n",
       "  max-height: 200px;\n",
       "  max-width: 100%;\n",
       "  overflow: auto;\n",
       "}\n",
       "\n",
       "#sk-container-id-2 input.sk-toggleable__control:checked~label.sk-toggleable__label-arrow:before {\n",
       "  content: \"▾\";\n",
       "}\n",
       "\n",
       "/* Pipeline/ColumnTransformer-specific style */\n",
       "\n",
       "#sk-container-id-2 div.sk-label input.sk-toggleable__control:checked~label.sk-toggleable__label {\n",
       "  color: var(--sklearn-color-text);\n",
       "  background-color: var(--sklearn-color-unfitted-level-2);\n",
       "}\n",
       "\n",
       "#sk-container-id-2 div.sk-label.fitted input.sk-toggleable__control:checked~label.sk-toggleable__label {\n",
       "  background-color: var(--sklearn-color-fitted-level-2);\n",
       "}\n",
       "\n",
       "/* Estimator-specific style */\n",
       "\n",
       "/* Colorize estimator box */\n",
       "#sk-container-id-2 div.sk-estimator input.sk-toggleable__control:checked~label.sk-toggleable__label {\n",
       "  /* unfitted */\n",
       "  background-color: var(--sklearn-color-unfitted-level-2);\n",
       "}\n",
       "\n",
       "#sk-container-id-2 div.sk-estimator.fitted input.sk-toggleable__control:checked~label.sk-toggleable__label {\n",
       "  /* fitted */\n",
       "  background-color: var(--sklearn-color-fitted-level-2);\n",
       "}\n",
       "\n",
       "#sk-container-id-2 div.sk-label label.sk-toggleable__label,\n",
       "#sk-container-id-2 div.sk-label label {\n",
       "  /* The background is the default theme color */\n",
       "  color: var(--sklearn-color-text-on-default-background);\n",
       "}\n",
       "\n",
       "/* On hover, darken the color of the background */\n",
       "#sk-container-id-2 div.sk-label:hover label.sk-toggleable__label {\n",
       "  color: var(--sklearn-color-text);\n",
       "  background-color: var(--sklearn-color-unfitted-level-2);\n",
       "}\n",
       "\n",
       "/* Label box, darken color on hover, fitted */\n",
       "#sk-container-id-2 div.sk-label.fitted:hover label.sk-toggleable__label.fitted {\n",
       "  color: var(--sklearn-color-text);\n",
       "  background-color: var(--sklearn-color-fitted-level-2);\n",
       "}\n",
       "\n",
       "/* Estimator label */\n",
       "\n",
       "#sk-container-id-2 div.sk-label label {\n",
       "  font-family: monospace;\n",
       "  font-weight: bold;\n",
       "  display: inline-block;\n",
       "  line-height: 1.2em;\n",
       "}\n",
       "\n",
       "#sk-container-id-2 div.sk-label-container {\n",
       "  text-align: center;\n",
       "}\n",
       "\n",
       "/* Estimator-specific */\n",
       "#sk-container-id-2 div.sk-estimator {\n",
       "  font-family: monospace;\n",
       "  border: 1px dotted var(--sklearn-color-border-box);\n",
       "  border-radius: 0.25em;\n",
       "  box-sizing: border-box;\n",
       "  margin-bottom: 0.5em;\n",
       "  /* unfitted */\n",
       "  background-color: var(--sklearn-color-unfitted-level-0);\n",
       "}\n",
       "\n",
       "#sk-container-id-2 div.sk-estimator.fitted {\n",
       "  /* fitted */\n",
       "  background-color: var(--sklearn-color-fitted-level-0);\n",
       "}\n",
       "\n",
       "/* on hover */\n",
       "#sk-container-id-2 div.sk-estimator:hover {\n",
       "  /* unfitted */\n",
       "  background-color: var(--sklearn-color-unfitted-level-2);\n",
       "}\n",
       "\n",
       "#sk-container-id-2 div.sk-estimator.fitted:hover {\n",
       "  /* fitted */\n",
       "  background-color: var(--sklearn-color-fitted-level-2);\n",
       "}\n",
       "\n",
       "/* Specification for estimator info (e.g. \"i\" and \"?\") */\n",
       "\n",
       "/* Common style for \"i\" and \"?\" */\n",
       "\n",
       ".sk-estimator-doc-link,\n",
       "a:link.sk-estimator-doc-link,\n",
       "a:visited.sk-estimator-doc-link {\n",
       "  float: right;\n",
       "  font-size: smaller;\n",
       "  line-height: 1em;\n",
       "  font-family: monospace;\n",
       "  background-color: var(--sklearn-color-background);\n",
       "  border-radius: 1em;\n",
       "  height: 1em;\n",
       "  width: 1em;\n",
       "  text-decoration: none !important;\n",
       "  margin-left: 1ex;\n",
       "  /* unfitted */\n",
       "  border: var(--sklearn-color-unfitted-level-1) 1pt solid;\n",
       "  color: var(--sklearn-color-unfitted-level-1);\n",
       "}\n",
       "\n",
       ".sk-estimator-doc-link.fitted,\n",
       "a:link.sk-estimator-doc-link.fitted,\n",
       "a:visited.sk-estimator-doc-link.fitted {\n",
       "  /* fitted */\n",
       "  border: var(--sklearn-color-fitted-level-1) 1pt solid;\n",
       "  color: var(--sklearn-color-fitted-level-1);\n",
       "}\n",
       "\n",
       "/* On hover */\n",
       "div.sk-estimator:hover .sk-estimator-doc-link:hover,\n",
       ".sk-estimator-doc-link:hover,\n",
       "div.sk-label-container:hover .sk-estimator-doc-link:hover,\n",
       ".sk-estimator-doc-link:hover {\n",
       "  /* unfitted */\n",
       "  background-color: var(--sklearn-color-unfitted-level-3);\n",
       "  color: var(--sklearn-color-background);\n",
       "  text-decoration: none;\n",
       "}\n",
       "\n",
       "div.sk-estimator.fitted:hover .sk-estimator-doc-link.fitted:hover,\n",
       ".sk-estimator-doc-link.fitted:hover,\n",
       "div.sk-label-container:hover .sk-estimator-doc-link.fitted:hover,\n",
       ".sk-estimator-doc-link.fitted:hover {\n",
       "  /* fitted */\n",
       "  background-color: var(--sklearn-color-fitted-level-3);\n",
       "  color: var(--sklearn-color-background);\n",
       "  text-decoration: none;\n",
       "}\n",
       "\n",
       "/* Span, style for the box shown on hovering the info icon */\n",
       ".sk-estimator-doc-link span {\n",
       "  display: none;\n",
       "  z-index: 9999;\n",
       "  position: relative;\n",
       "  font-weight: normal;\n",
       "  right: .2ex;\n",
       "  padding: .5ex;\n",
       "  margin: .5ex;\n",
       "  width: min-content;\n",
       "  min-width: 20ex;\n",
       "  max-width: 50ex;\n",
       "  color: var(--sklearn-color-text);\n",
       "  box-shadow: 2pt 2pt 4pt #999;\n",
       "  /* unfitted */\n",
       "  background: var(--sklearn-color-unfitted-level-0);\n",
       "  border: .5pt solid var(--sklearn-color-unfitted-level-3);\n",
       "}\n",
       "\n",
       ".sk-estimator-doc-link.fitted span {\n",
       "  /* fitted */\n",
       "  background: var(--sklearn-color-fitted-level-0);\n",
       "  border: var(--sklearn-color-fitted-level-3);\n",
       "}\n",
       "\n",
       ".sk-estimator-doc-link:hover span {\n",
       "  display: block;\n",
       "}\n",
       "\n",
       "/* \"?\"-specific style due to the `<a>` HTML tag */\n",
       "\n",
       "#sk-container-id-2 a.estimator_doc_link {\n",
       "  float: right;\n",
       "  font-size: 1rem;\n",
       "  line-height: 1em;\n",
       "  font-family: monospace;\n",
       "  background-color: var(--sklearn-color-background);\n",
       "  border-radius: 1rem;\n",
       "  height: 1rem;\n",
       "  width: 1rem;\n",
       "  text-decoration: none;\n",
       "  /* unfitted */\n",
       "  color: var(--sklearn-color-unfitted-level-1);\n",
       "  border: var(--sklearn-color-unfitted-level-1) 1pt solid;\n",
       "}\n",
       "\n",
       "#sk-container-id-2 a.estimator_doc_link.fitted {\n",
       "  /* fitted */\n",
       "  border: var(--sklearn-color-fitted-level-1) 1pt solid;\n",
       "  color: var(--sklearn-color-fitted-level-1);\n",
       "}\n",
       "\n",
       "/* On hover */\n",
       "#sk-container-id-2 a.estimator_doc_link:hover {\n",
       "  /* unfitted */\n",
       "  background-color: var(--sklearn-color-unfitted-level-3);\n",
       "  color: var(--sklearn-color-background);\n",
       "  text-decoration: none;\n",
       "}\n",
       "\n",
       "#sk-container-id-2 a.estimator_doc_link.fitted:hover {\n",
       "  /* fitted */\n",
       "  background-color: var(--sklearn-color-fitted-level-3);\n",
       "}\n",
       "</style><div id=\"sk-container-id-2\" class=\"sk-top-container\"><div class=\"sk-text-repr-fallback\"><pre>DecisionTreeClassifier(max_depth=10, random_state=0)</pre><b>In a Jupyter environment, please rerun this cell to show the HTML representation or trust the notebook. <br />On GitHub, the HTML representation is unable to render, please try loading this page with nbviewer.org.</b></div><div class=\"sk-container\" hidden><div class=\"sk-item\"><div class=\"sk-estimator fitted sk-toggleable\"><input class=\"sk-toggleable__control sk-hidden--visually\" id=\"sk-estimator-id-2\" type=\"checkbox\" checked><label for=\"sk-estimator-id-2\" class=\"sk-toggleable__label fitted sk-toggleable__label-arrow fitted\">&nbsp;&nbsp;DecisionTreeClassifier<a class=\"sk-estimator-doc-link fitted\" rel=\"noreferrer\" target=\"_blank\" href=\"https://scikit-learn.org/1.5/modules/generated/sklearn.tree.DecisionTreeClassifier.html\">?<span>Documentation for DecisionTreeClassifier</span></a><span class=\"sk-estimator-doc-link fitted\">i<span>Fitted</span></span></label><div class=\"sk-toggleable__content fitted\"><pre>DecisionTreeClassifier(max_depth=10, random_state=0)</pre></div> </div></div></div></div>"
      ],
      "text/plain": [
       "DecisionTreeClassifier(max_depth=10, random_state=0)"
      ]
     },
     "execution_count": 25,
     "metadata": {},
     "output_type": "execute_result"
    }
   ],
   "source": [
    "from sklearn.tree import DecisionTreeClassifier\n",
    "\n",
    "model_dec = DecisionTreeClassifier(max_depth=10, random_state=0)\n",
    "model_dec.fit(X_train_bow, y_train)"
   ]
  },
  {
   "cell_type": "markdown",
   "metadata": {
    "id": "22u6v9xuFGUm"
   },
   "source": [
    "**Cross validation**\n",
    "\n",
    "Cross validation can be done on the unseen test dataset\n"
   ]
  },
  {
   "cell_type": "code",
   "execution_count": 26,
   "metadata": {
    "id": "L22ZP34nHsPa"
   },
   "outputs": [
    {
     "name": "stderr",
     "output_type": "stream",
     "text": [
      "c:\\Users\\kaush\\AppData\\Local\\Programs\\Python\\Python312\\Lib\\site-packages\\sklearn\\model_selection\\_split.py:776: UserWarning: The least populated class in y has only 1 members, which is less than n_splits=5.\n",
      "  warnings.warn(\n"
     ]
    },
    {
     "data": {
      "text/plain": [
       "array([0.55713219, 0.5660941 , 0.57132188, 0.5660941 , 0.54742345])"
      ]
     },
     "execution_count": 26,
     "metadata": {},
     "output_type": "execute_result"
    }
   ],
   "source": [
    "from sklearn.model_selection import cross_val_score\n",
    "model_dec_acc = cross_val_score(estimator=model_dec, X=X_test_bow, y=y_test, cv=5, n_jobs=2)\n",
    "model_dec_acc"
   ]
  },
  {
   "cell_type": "markdown",
   "metadata": {
    "id": "5wIIIHwJFxot"
   },
   "source": [
    "## Evaluation of Model\n",
    "To evaluate each model's performance, there are several common metrics can be used.\n",
    "\n",
    "- Precision\n",
    "- Recall\n",
    "- F-score\n",
    "- Accuracy\n",
    "- Confusion Matrix"
   ]
  },
  {
   "cell_type": "code",
   "execution_count": 27,
   "metadata": {
    "id": "wxNrLfExIOFL"
   },
   "outputs": [
    {
     "name": "stdout",
     "output_type": "stream",
     "text": [
      "0.5764002987303958\n"
     ]
    }
   ],
   "source": [
    "# Mean Accuracy\n",
    "print(model_dec.score(X_test_bow, y_test))"
   ]
  },
  {
   "cell_type": "code",
   "execution_count": 28,
   "metadata": {
    "id": "PeJLDTIaIXW2"
   },
   "outputs": [
    {
     "data": {
      "text/plain": [
       "array([0.66264751, 0.55258001, 0.0141129 ])"
      ]
     },
     "execution_count": 28,
     "metadata": {},
     "output_type": "execute_result"
    }
   ],
   "source": [
    "# F1\n",
    "from sklearn.metrics import f1_score\n",
    "\n",
    "y_pred = model_dec.predict(X_test_bow)\n",
    "\n",
    "f1_score(y_test, y_pred,\n",
    "         average=None,\n",
    "         labels = [1,-1,0])"
   ]
  },
  {
   "cell_type": "markdown",
   "metadata": {
    "id": "kwyI8qb2JOpT"
   },
   "source": [
    "## Inference\n",
    "\n",
    "- define input\n",
    "- process"
   ]
  },
  {
   "cell_type": "code",
   "execution_count": 29,
   "metadata": {
    "id": "7zinTY2mOmww"
   },
   "outputs": [],
   "source": [
    "# df_train.head(100)"
   ]
  },
  {
   "cell_type": "code",
   "execution_count": null,
   "metadata": {},
   "outputs": [],
   "source": []
  },
  {
   "cell_type": "code",
   "execution_count": 30,
   "metadata": {
    "id": "rB2DIp2FJ71i"
   },
   "outputs": [
    {
     "data": {
      "text/plain": [
       "['कोभिडले',\n",
       " 'सप्तरी',\n",
       " 'संक्रमित',\n",
       " 'लक्षण',\n",
       " 'देखिए',\n",
       " 'तीनजना',\n",
       " 'मध्धे',\n",
       " 'जाना',\n",
       " 'मृत्यु']"
      ]
     },
     "execution_count": 30,
     "metadata": {},
     "output_type": "execute_result"
    }
   ],
   "source": [
    "# tweet = \"नेपालमा कोभिड बढ्नु राम्रो कुरा हो\"\n",
    "# tweet = \"नेपालमा कोभिड बढ्नु नराम्रो कुरा हो\"\n",
    "\n",
    "tweet = \"कोभिडले सप्तरीमा संक्रमितको लक्षण देखिएका तीनजना मध्धे एक जानाको मृत्यु भएको छ\"\n",
    "\n",
    "tokens          = nltk.word_tokenize(tweet)\n",
    "tokens          = remove_stopwords(tokens)\n",
    "stemmed_tokens  = rule_based_stemmer(tokens)\n",
    "stemmed_tokens"
   ]
  },
  {
   "cell_type": "markdown",
   "metadata": {
    "id": "CHBW8MB_N6dW"
   },
   "source": [
    "Now Vectorize text and predict using the model trained"
   ]
  },
  {
   "cell_type": "code",
   "execution_count": 31,
   "metadata": {
    "id": "1ue-iRkeN0L4"
   },
   "outputs": [
    {
     "data": {
      "text/plain": [
       "(9, 5551)"
      ]
     },
     "execution_count": 31,
     "metadata": {},
     "output_type": "execute_result"
    }
   ],
   "source": [
    "X_feature = vectorizer.transform(stemmed_tokens)\n",
    "X_feature.shape"
   ]
  },
  {
   "cell_type": "code",
   "execution_count": 32,
   "metadata": {
    "id": "XlQYgI4cOPVp"
   },
   "outputs": [
    {
     "data": {
      "text/plain": [
       "array(['1', '1', '-1', '1', '1', '1', '1', '1', '1'], dtype=object)"
      ]
     },
     "execution_count": 32,
     "metadata": {},
     "output_type": "execute_result"
    }
   ],
   "source": [
    "model_dec.predict( X_feature )"
   ]
  },
  {
   "cell_type": "markdown",
   "metadata": {
    "id": "HZKFq0z0TLZR"
   },
   "source": [
    "## Saving the model"
   ]
  },
  {
   "cell_type": "code",
   "execution_count": 33,
   "metadata": {
    "id": "YUvGbBWVTO4Z"
   },
   "outputs": [],
   "source": [
    "import pickle"
   ]
  },
  {
   "cell_type": "markdown",
   "metadata": {
    "id": "QMNXWJLDTTPk"
   },
   "source": [
    "Save the model"
   ]
  },
  {
   "cell_type": "code",
   "execution_count": 34,
   "metadata": {
    "id": "yWn9DvDuTVEW"
   },
   "outputs": [],
   "source": [
    "with open('model_dec.pkl', 'wb') as file:\n",
    "    pickle.dump(model_dec, file)"
   ]
  },
  {
   "cell_type": "markdown",
   "metadata": {
    "id": "QEVudkLXTXdf"
   },
   "source": [
    "Inference with saved model"
   ]
  },
  {
   "cell_type": "code",
   "execution_count": 35,
   "metadata": {
    "id": "_luKDjViTZBf"
   },
   "outputs": [
    {
     "name": "stdout",
     "output_type": "stream",
     "text": [
      "prediction from saved model: ['1' '1' '-1' '1' '1' '1' '1' '1' '1']\n"
     ]
    }
   ],
   "source": [
    "with open('model_dec.pkl', 'rb') as file:\n",
    "    model_dec_loaded = pickle.load(file)\n",
    "    pred = model_dec.predict(X_feature)\n",
    "print(f\"prediction from saved model: {pred}\")"
   ]
  },
  {
   "cell_type": "markdown",
   "metadata": {
    "id": "vEsgh9kvThig"
   },
   "source": [
    "# Assignment 3 - Enhancing the Sentiment Analysis System\n",
    "\n",
    "Now extend/enhance this notebook to achive following-\n",
    "\n",
    "**Task 1**: Train following classifiers and Compute the `F1`, `Accuracy` of the model\n",
    "- Support Vector Machine\n",
    "- Decision Tree\n",
    "- Logistic Regression\n",
    "\n",
    "Write the interpretation of the finding by comparing the model accuracy.\n",
    "\n",
    "**Task 2**: Perform the hyperparameter tuning on each of the model (from task 1)\n",
    "- Prepare a table showing the parameters for each classification model\n",
    "\n",
    "**Task3**: Feature Engineering\n",
    "- Instead of using `uni-gram` token on TF-IDF, use `bi-gram` token\n",
    "- Train the decision tree model\n",
    "- Hyperparameter tune the model to ensure the higher accuracy\n",
    "\n",
    "**Deliverables**\n",
    "1. Python Notebook\n",
    "2. Your Best model from ***Task 3*** (saved pickel file)\n",
    "\n",
    "\n",
    "\n",
    "**Evaluation**\n",
    "- Your model should have accuracy `more than 70%` to get the full marks\n",
    "- The leader board will be published\n",
    "- Top 10% in the leader board will get the additional bonus marks\n"
   ]
  }
 ],
 "metadata": {
  "colab": {
   "provenance": [],
   "toc_visible": true
  },
  "kernelspec": {
   "display_name": "Python 3",
   "name": "python3"
  },
  "language_info": {
   "codemirror_mode": {
    "name": "ipython",
    "version": 3
   },
   "file_extension": ".py",
   "mimetype": "text/x-python",
   "name": "python",
   "nbconvert_exporter": "python",
   "pygments_lexer": "ipython3",
   "version": "3.12.4"
  }
 },
 "nbformat": 4,
 "nbformat_minor": 0
}
