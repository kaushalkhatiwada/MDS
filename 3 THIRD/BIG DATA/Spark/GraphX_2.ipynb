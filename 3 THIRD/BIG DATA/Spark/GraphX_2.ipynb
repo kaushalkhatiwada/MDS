{
  "nbformat": 4,
  "nbformat_minor": 0,
  "metadata": {
    "colab": {
      "private_outputs": true,
      "provenance": []
    },
    "kernelspec": {
      "name": "python3",
      "display_name": "Python 3"
    },
    "language_info": {
      "name": "python"
    }
  },
  "cells": [
    {
      "cell_type": "code",
      "source": [
        "!pip install graphframes"
      ],
      "metadata": {
        "id": "5avNJLHH9d0G"
      },
      "execution_count": null,
      "outputs": []
    },
    {
      "cell_type": "code",
      "execution_count": null,
      "metadata": {
        "id": "MnKczHRg9at1"
      },
      "outputs": [],
      "source": [
        "from pyspark.sql import SparkSession\n",
        "from graphframes import GraphFrame\n",
        "from pyspark.sql.functions import col\n",
        "\n",
        "# Initialize Spark Session\n",
        "spark = SparkSession.builder \\\n",
        "    .appName(\"FraudDetectionGraph\") \\\n",
        "    .config(\"spark.jars.packages\", \"graphframes:graphframes:0.8.2-spark3.2-s_2.12\") \\\n",
        "    .getOrCreate()"
      ]
    },
    {
      "cell_type": "code",
      "source": [
        "# Create vertices (bank accounts)\n",
        "vertices = spark.createDataFrame([\n",
        "    (101, \"Account_A\", 5000),\n",
        "    (102, \"Account_B\", 10000),\n",
        "    (103, \"Account_C\", 1500),\n",
        "    (104, \"Account_D\", 20000),\n",
        "    (105, \"Account_E\", 3000),\n",
        "    (106, \"Account_F\", 8000)\n",
        "], [\"id\", \"account_name\", \"balance\"])\n",
        "\n",
        "# Create edges (transactions between accounts)\n",
        "edges = spark.createDataFrame([\n",
        "    (101, 102, 1000, \"2023-10-01\"),\n",
        "    (102, 103, 500, \"2023-10-02\"),\n",
        "    (103, 101, 1000, \"2023-10-03\"),\n",
        "    (104, 105, 2000, \"2023-10-04\"),\n",
        "    (105, 106, 1500, \"2023-10-05\"),\n",
        "    (106, 104, 2000, \"2023-10-06\"),\n",
        "    (101, 104, 3000, \"2023-10-07\")\n",
        "], [\"src\", \"dst\", \"amount\", \"date\"])"
      ],
      "metadata": {
        "id": "JKV3W0qv9iBr"
      },
      "execution_count": null,
      "outputs": []
    },
    {
      "cell_type": "code",
      "source": [
        "# Build the transaction graph\n",
        "graph = GraphFrame(vertices, edges)"
      ],
      "metadata": {
        "id": "5IIZT6wy9ohZ"
      },
      "execution_count": null,
      "outputs": []
    },
    {
      "cell_type": "code",
      "source": [
        "\n",
        "# Print the vertices and edges\n",
        "print(\"Accounts (Vertices):\")\n",
        "graph.vertices.show()\n",
        "print(\"Transactions (Edges):\")\n",
        "graph.edges.show()"
      ],
      "metadata": {
        "id": "yQ3KZYQ290lc"
      },
      "execution_count": null,
      "outputs": []
    },
    {
      "cell_type": "code",
      "source": [
        "# Find Strongly Connected Components (SCCs) to detect cycles\n",
        "scc = graph.stronglyConnectedComponents(maxIter=10)\n",
        "print(\"Strongly Connected Components (Fraud Cycles):\")\n",
        "scc.groupBy(\"component\").count().filter(\"count > 1\").show()  # Components with >1 account"
      ],
      "metadata": {
        "id": "_2XUpMyq9640"
      },
      "execution_count": null,
      "outputs": []
    },
    {
      "cell_type": "code",
      "source": [
        "# detect cyclic transaction patterns\n",
        "cyclic_transactions = graph.find(\"(a)-[e1]->(b); (b)-[e2]->(c); (c)-[e3]->(a)\") \\\n",
        "    .filter(\"e1.date < e2.date AND e2.date < e3.date\")  # Temporal ordering\n",
        "print(\"Cyclic Transaction Chains (A -> B -> C -> A):\")\n",
        "cyclic_transactions.show()"
      ],
      "metadata": {
        "id": "p_B8ZJq9-DfF"
      },
      "execution_count": null,
      "outputs": []
    },
    {
      "cell_type": "code",
      "source": [
        "# Triangle Count (identify dense clusters of accounts)\n",
        "triangle_count = graph.triangleCount()\n",
        "print(\"Accounts in Transaction Triangles (Dense Clusters):\")\n",
        "triangle_count.filter(\"count > 0\").show()  # Accounts involved in triangles"
      ],
      "metadata": {
        "id": "6JCVGJcm-Hka"
      },
      "execution_count": null,
      "outputs": []
    },
    {
      "cell_type": "code",
      "source": [
        "# Step 4: Flag high-risk accounts (e.g., in cycles or triangles)\n",
        "high_risk_accounts = triangle_count.select(\"id\", \"count\")\\\n",
        "  .union(scc.filter(\"component IN (0, 1)\").select(\"id\", col(\"component\").alias(\"count\")))  # Align columns\n",
        "\n",
        "print(\"High-Risk Accounts:\")\n",
        "high_risk_accounts.join(vertices, \"id\").select(\"id\", \"account_name\", \"balance\").show()"
      ],
      "metadata": {
        "id": "dIzXx_0_-L5s"
      },
      "execution_count": null,
      "outputs": []
    },
    {
      "cell_type": "code",
      "source": [
        "# Stop Spark Session\n",
        "spark.stop()"
      ],
      "metadata": {
        "id": "OBPP7eh3-Nw2"
      },
      "execution_count": null,
      "outputs": []
    }
  ]
}