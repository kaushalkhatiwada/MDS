{
  "nbformat": 4,
  "nbformat_minor": 0,
  "metadata": {
    "colab": {
      "private_outputs": true,
      "provenance": []
    },
    "kernelspec": {
      "name": "python3",
      "display_name": "Python 3"
    },
    "language_info": {
      "name": "python"
    }
  },
  "cells": [
    {
      "cell_type": "code",
      "source": [
        "!pip install graphframes"
      ],
      "metadata": {
        "id": "q2AZJurx8oJx"
      },
      "execution_count": null,
      "outputs": []
    },
    {
      "cell_type": "code",
      "execution_count": null,
      "metadata": {
        "id": "jpLs29ho8W9J"
      },
      "outputs": [],
      "source": [
        "from pyspark.sql import SparkSession\n",
        "from graphframes import GraphFrame\n",
        "\n",
        "# Initialize Spark Session\n",
        "spark = SparkSession.builder \\\n",
        "    .appName(\"GraphFramesExample\") \\\n",
        "    .config(\"spark.jars.packages\", \"graphframes:graphframes:0.8.2-spark3.2-s_2.12\") \\\n",
        "    .getOrCreate()"
      ]
    },
    {
      "cell_type": "code",
      "source": [
        "# Create vertices DataFrame\n",
        "vertices = spark.createDataFrame([\n",
        "    (1, \"Alice\", 25),\n",
        "    (2, \"Bob\", 30),\n",
        "    (3, \"Charlie\", 35),\n",
        "    (4, \"David\", 40)\n",
        "], [\"id\", \"name\", \"age\"])"
      ],
      "metadata": {
        "id": "BKwLCMEl8Z5j"
      },
      "execution_count": null,
      "outputs": []
    },
    {
      "cell_type": "code",
      "source": [
        "# Create edges DataFrame\n",
        "edges = spark.createDataFrame([\n",
        "    (1, 2, \"friend\"),\n",
        "    (2, 3, \"follow\"),\n",
        "    (3, 4, \"follow\"),\n",
        "    (4, 1, \"friend\")\n",
        "], [\"src\", \"dst\", \"relationship\"])"
      ],
      "metadata": {
        "id": "bQwFtv-I8bol"
      },
      "execution_count": null,
      "outputs": []
    },
    {
      "cell_type": "code",
      "source": [
        "# Create a GraphFrame\n",
        "graph = GraphFrame(vertices, edges)"
      ],
      "metadata": {
        "id": "SqsUqL2t8dqr"
      },
      "execution_count": null,
      "outputs": []
    },
    {
      "cell_type": "code",
      "source": [
        "# Print vertices and edges\n",
        "print(\"Vertices:\")\n",
        "graph.vertices.show()\n",
        "\n",
        "print(\"Edges:\")\n",
        "graph.edges.show()"
      ],
      "metadata": {
        "id": "4QOVVScL8fVA"
      },
      "execution_count": null,
      "outputs": []
    },
    {
      "cell_type": "code",
      "source": [
        "# Calculate in-degree of each vertex\n",
        "in_degree = graph.inDegrees\n",
        "print(\"In-Degree of vertices:\")\n",
        "in_degree.show()"
      ],
      "metadata": {
        "id": "qDX7cNSa8iSG"
      },
      "execution_count": null,
      "outputs": []
    },
    {
      "cell_type": "code",
      "source": [
        "# Run PageRank algorithm\n",
        "page_rank = graph.pageRank(resetProbability=0.15, maxIter=10)\n",
        "print(\"PageRank results:\")\n",
        "page_rank.vertices.show()"
      ],
      "metadata": {
        "id": "mrx3vIK98jmp"
      },
      "execution_count": null,
      "outputs": []
    },
    {
      "cell_type": "code",
      "source": [
        "# Find triangles (community detection)\n",
        "triangles = graph.triangleCount()\n",
        "print(\"Triangle Count:\")\n",
        "triangles.show()"
      ],
      "metadata": {
        "id": "HllcrdKJ8lXI"
      },
      "execution_count": null,
      "outputs": []
    },
    {
      "cell_type": "code",
      "source": [
        "\n",
        "# Stop Spark Session\n",
        "spark.stop()"
      ],
      "metadata": {
        "id": "fOJQ-RJQ8m_L"
      },
      "execution_count": null,
      "outputs": []
    }
  ]
}