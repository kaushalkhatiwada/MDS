{
  "cells": [
    {
      "cell_type": "markdown",
      "metadata": {
        "id": "K-V4SfUxsluT"
      },
      "source": [
        "# Neural Network Classifier\n",
        "\n",
        "\n"
      ]
    },
    {
      "cell_type": "markdown",
      "metadata": {
        "id": "rkk7NZHesluV"
      },
      "source": [
        "**Linear Model**\n",
        "\n",
        "$f(x) = w^Tx + b$\n",
        "\n",
        "Where,\n",
        "$x$ : input\n",
        "\n",
        "$w^T$: weight\n",
        "\n",
        "$b$ : bias"
      ]
    },
    {
      "cell_type": "markdown",
      "metadata": {
        "id": "oKqqV7jdsluW"
      },
      "source": [
        "**Activation Function**\n",
        "\n",
        "Unit step function\n",
        "\n",
        "$ g(z)=\n",
        "\\begin{dcases}\n",
        "    1, & \\text{if } z \\ge \\theta \\\\\n",
        "    0, & \\text{otherwise}\n",
        "\\end{dcases}\n",
        "$"
      ]
    },
    {
      "cell_type": "markdown",
      "metadata": {
        "id": "E-ZVCrAssluX"
      },
      "source": [
        "**Approximation**\n",
        "\n",
        "For the liniear model class can be predicted as follows\n",
        "\n",
        "$ \\hat{y} = g(f(x)) = g(w^Tx+b)$"
      ]
    },
    {
      "cell_type": "markdown",
      "metadata": {
        "id": "D_rvFOlGsluX"
      },
      "source": [
        "**Perceptron Update Rule**\n",
        "\n",
        "Identify the error and update the weight and bias\n",
        "\n",
        "Learning rate: $\\alpha$\n",
        "\n",
        "For each training sample $x_i$:\n",
        "\n",
        "$w = w + \\Delta{w}$\n",
        "\n",
        "\n",
        "$b = b + \\Delta{b}$\n",
        "\n",
        "$\\Delta{w} = \\alpha . (y_i - \\hat{y}).x_i$\n",
        "\n",
        "$\\Delta{b} = \\alpha . (y_i - \\hat{y})$\n",
        "\n",
        "Using this the weights are pushed towards positive or negative target class in case of misclassificaiton\n",
        "\n",
        "| **$y$**    | **$\\hat{y}$** | **$y-\\hat{y}$** |\n",
        "| ------ | ------- | ---- |\n",
        "| 1 | 1  | 0 |\n",
        "| 1 | 0  | 1 |\n",
        "| 0 | 0  | 0 |\n",
        "| 0 | 1  | -1 |\n",
        "\n"
      ]
    },
    {
      "cell_type": "markdown",
      "metadata": {
        "id": "8HPr14UWsluY"
      },
      "source": [
        "### Implementation Idea\n",
        "\n",
        "**Training**\n",
        "- Initialize weight and bias\n",
        "- For each training sample\n",
        "  - Calculate $ \\hat{y} = g(f(x)) = g(w^Tx+b)$\n",
        "  - Apply update rule:\n",
        "    \n",
        "    $\\Delta{w} = \\alpha . (y_i - \\hat{y}).x_i$\n",
        "    \n",
        "    $\\Delta{b} = \\alpha . (y_i - \\hat{y})$\n",
        "\n",
        "**Prediction**\n",
        "- Calculate :\n",
        "  \n",
        "  $ \\hat{y} = g(f(x)) = g(w^Tx+b)$\n",
        "\n"
      ]
    },
    {
      "cell_type": "markdown",
      "metadata": {
        "id": "_ivxBmcPsluY"
      },
      "source": [
        "### Implementation"
      ]
    },
    {
      "cell_type": "code",
      "execution_count": 24,
      "metadata": {
        "id": "5Zl6GqYGsluY"
      },
      "outputs": [],
      "source": [
        "import numpy as np"
      ]
    },
    {
      "cell_type": "code",
      "execution_count": 25,
      "metadata": {
        "id": "ALTMdnL8sluZ"
      },
      "outputs": [],
      "source": [
        "class PerceptronClassifier:\n",
        "\n",
        "    def __init__(self, lr, n_iters):\n",
        "        self.lr = lr\n",
        "        self.n_iters = n_iters\n",
        "        self.weights = None\n",
        "        self.bias = None\n",
        "\n",
        "\n",
        "    def fit(self, X, y):\n",
        "        n_samples, n_features = X.shape\n",
        "\n",
        "        # init parameters\n",
        "        self.weights = np.zeros(n_features)\n",
        "        self.bias = 0\n",
        "\n",
        "        _y = np.array([1 if i > 0 else 0 for i in y])\n",
        "        #(axis=0)\n",
        "        for n_iter in range(self.n_iters):\n",
        "            # early stopping cond here\n",
        "            # TODO\n",
        "\n",
        "            # print(f\"n_iter = {n_iter}\")\n",
        "            for idx, x_i in enumerate(X):\n",
        "                # print(f\"enumerate(X)  idx = {idx}, x_i = {x_i}\")\n",
        "                linear_output = np.dot(x_i, self.weights) + self.bias\n",
        "                y_predicted = self.activation_func(linear_output)\n",
        "                # Perceptron update rule\n",
        "                # Delta calculation\n",
        "                update = self.lr * (_y[idx] - y_predicted)\n",
        "                self.weights += update * x_i\n",
        "                self.bias += update\n",
        "\n",
        "\n",
        "    def predict(self, X): # X : test data\n",
        "        linear_output = np.dot(X, self.weights) + self.bias\n",
        "        y_predicted = self.activation_func(linear_output)\n",
        "        return y_predicted\n",
        "\n",
        "\n",
        "    def activation_func(self, x):\n",
        "        # unit step function\n",
        "        return np.where(x >= 0, 1, 0)"
      ]
    },
    {
      "cell_type": "code",
      "execution_count": 26,
      "metadata": {
        "id": "t-Ylnabnslua"
      },
      "outputs": [],
      "source": [
        "def accuracy(y_true, y_pred):\n",
        "    accuracy = np.sum(y_true == y_pred) / len(y_true)\n",
        "    return accuracy"
      ]
    },
    {
      "cell_type": "code",
      "execution_count": 27,
      "metadata": {
        "id": "kj5asHlBslub"
      },
      "outputs": [],
      "source": [
        "# Imports\n",
        "from sklearn.model_selection import train_test_split\n",
        "from sklearn import datasets\n",
        "\n",
        "\n",
        "X, y = datasets.make_blobs(\n",
        "    n_samples=1500,\n",
        "    n_features=2,\n",
        "    centers=2,\n",
        "    cluster_std=1.05,\n",
        "    random_state=2\n",
        ")\n",
        "X_train, X_test, y_train, y_test = train_test_split(\n",
        "    X, y, test_size=0.2, random_state=123\n",
        ")"
      ]
    },
    {
      "cell_type": "code",
      "execution_count": 28,
      "metadata": {
        "id": "2HevZrNYslub",
        "outputId": "c54a5085-fc3e-4a78-ab56-3abcce398d0a"
      },
      "outputs": [
        {
          "name": "stdout",
          "output_type": "stream",
          "text": [
            "Perceptron classification accuracy 1.0\n"
          ]
        }
      ],
      "source": [
        "p = PerceptronClassifier(lr=0.01, n_iters=100)\n",
        "p.fit(X_train, y_train)\n",
        "predictions = p.predict(X_test)\n",
        "\n",
        "print(\"Perceptron classification accuracy\", accuracy(y_test, predictions))"
      ]
    },
    {
      "cell_type": "code",
      "execution_count": 29,
      "metadata": {
        "id": "fkhWaputsluc",
        "outputId": "01d21981-2f22-4ac5-8533-41e4bc47f9a7"
      },
      "outputs": [
        {
          "data": {
            "image/png": "[encoded data removed]",
            "text/plain": [
              "<Figure size 640x480 with 1 Axes>"
            ]
          },
          "metadata": {},
          "output_type": "display_data"
        }
      ],
      "source": [
        "import matplotlib.pyplot as plt\n",
        "\n",
        "fig = plt.figure()\n",
        "ax = fig.add_subplot(1, 1, 1)\n",
        "plt.scatter(X_train[:, 0], X_train[:, 1], marker=\"o\", c=y_train)\n",
        "\n",
        "x0_1 = np.amin(X_train[:, 0])\n",
        "x0_2 = np.amax(X_train[:, 0])\n",
        "\n",
        "x1_1 = (-p.weights[0] * x0_1 - p.bias) / p.weights[1]\n",
        "x1_2 = (-p.weights[0] * x0_2 - p.bias) / p.weights[1]\n",
        "\n",
        "ax.plot([x0_1, x0_2], [x1_1, x1_2], \"k\")\n",
        "\n",
        "ymin = np.amin(X_train[:, 1])\n",
        "ymax = np.amax(X_train[:, 1])\n",
        "ax.set_ylim([ymin - 3, ymax + 3])\n",
        "\n",
        "plt.show()"
      ]
    },
    {
      "cell_type": "code",
      "execution_count": 30,
      "metadata": {
        "id": "cLWreI3Zsluc",
        "outputId": "42935404-5e7b-46e7-dee4-5e429a766276"
      },
      "outputs": [
        {
          "data": {
            "text/plain": [
              "array([0.02471583, 0.04802132])"
            ]
          },
          "execution_count": 30,
          "metadata": {},
          "output_type": "execute_result"
        }
      ],
      "source": [
        "p.weights"
      ]
    },
    {
      "cell_type": "markdown",
      "metadata": {
        "id": "9FoxtLIpsluc"
      },
      "source": [
        "### Work on own dataset"
      ]
    },
    {
      "cell_type": "code",
      "execution_count": 31,
      "metadata": {
        "id": "bg1vWUefsluc"
      },
      "outputs": [],
      "source": [
        "from sklearn.model_selection import train_test_split\n",
        "import pandas as pd\n",
        "\n",
        "df = pd.read_csv(\"diabetes.csv\")\n",
        "X = df.iloc[:,:-1].values\n",
        "y = df.iloc[:,-1].values"
      ]
    },
    {
      "cell_type": "code",
      "execution_count": 32,
      "metadata": {
        "id": "fLFgh91vslud"
      },
      "outputs": [],
      "source": [
        "# normalize the dataset and try to evaluate again\n",
        "from sklearn.preprocessing import StandardScaler\n",
        "ss = StandardScaler().fit(X)\n",
        "X = ss.transform(X)"
      ]
    },
    {
      "cell_type": "code",
      "execution_count": 33,
      "metadata": {
        "id": "GTOj-5nxslud",
        "outputId": "1e563bd6-85d4-40a2-b172-456237e2f26b"
      },
      "outputs": [
        {
          "data": {
            "text/plain": [
              "array([  6.   , 148.   ,  72.   ,  35.   ,   0.   ,  33.6  ,   0.627,\n",
              "        50.   ])"
            ]
          },
          "execution_count": 33,
          "metadata": {},
          "output_type": "execute_result"
        }
      ],
      "source": [
        "ss.inverse_transform(X)[0]"
      ]
    },
    {
      "cell_type": "code",
      "execution_count": 34,
      "metadata": {
        "id": "E9sneOAVslud",
        "outputId": "c4f47bc6-e9c2-4219-d422-767dd92bcc71"
      },
      "outputs": [
        {
          "data": {
            "text/plain": [
              "array([ 0.45869432,  0.89656476,  0.15533439,  0.97939656, -0.58694243,\n",
              "        0.29135643,  0.41664261,  1.46505177])"
            ]
          },
          "execution_count": 34,
          "metadata": {},
          "output_type": "execute_result"
        }
      ],
      "source": [
        "X[0]"
      ]
    },
    {
      "cell_type": "code",
      "execution_count": 35,
      "metadata": {
        "id": "AQrgjs4yslud"
      },
      "outputs": [],
      "source": [
        "# split dataset\n",
        "x_train, x_test, y_train, y_test = train_test_split(X, y,\n",
        "                                    test_size = 0.2,\n",
        "                                    random_state=1)"
      ]
    },
    {
      "cell_type": "code",
      "execution_count": 36,
      "metadata": {
        "id": "3tcK_kJaslud",
        "outputId": "66ad93d8-bfd2-4b1a-d691-6379e0db37a2"
      },
      "outputs": [
        {
          "name": "stdout",
          "output_type": "stream",
          "text": [
            "Perceptron classification accuracy 0.6818181818181818\n"
          ]
        }
      ],
      "source": [
        "p = PerceptronClassifier(lr=0.002, n_iters=10)\n",
        "p.fit(x_train, y_train)\n",
        "predictions = p.predict(x_test)\n",
        "\n",
        "print(\"Perceptron classification accuracy\", accuracy(y_test, predictions))\n"
      ]
    },
    {
      "cell_type": "markdown",
      "metadata": {
        "id": "tO_gzoeHslue"
      },
      "source": [
        "For more detailed implementation\n",
        "\n",
        "https://github.com/Worm4047/IntroToNeuralNetworks/blob/main/main.ipynb\n"
      ]
    }
  ],
  "metadata": {
    "colab": {
      "provenance": []
    },
    "kernelspec": {
      "display_name": "Python 3",
      "language": "python",
      "name": "python3"
    },
    "language_info": {
      "codemirror_mode": {
        "name": "ipython",
        "version": 3
      },
      "file_extension": ".py",
      "mimetype": "text/x-python",
      "name": "python",
      "nbconvert_exporter": "python",
      "pygments_lexer": "ipython3",
      "version": "3.12.4"
    }
  },
  "nbformat": 4,
  "nbformat_minor": 0
}
