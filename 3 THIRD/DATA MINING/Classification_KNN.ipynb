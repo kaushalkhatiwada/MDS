{
 "cells": [
  {
   "cell_type": "markdown",
   "metadata": {
    "id": "VEIBLeTLEZa_"
   },
   "source": [
    "# K-Nearest Neighbors Algorithm\n",
    "\n",
    "Knn is a supervised machine learning algorithm. A supervised model has both a target variable and independent variables.\n",
    "\n",
    "The **target variable or dependent **variable, denoted **y**, depends on the independent variables and is the value you seek to predict.\n",
    "\n",
    "The **independent variables**, denoted **x** (single valued) or X (multi valued), are known ahead of time and are used to predict y.\n",
    "\n",
    "\n",
    "Knn can be used for both **classification** and **regression**.\n",
    "\n",
    "Classification models predict a categorical target variable and regression models predict a numeric target.\n"
   ]
  },
  {
   "cell_type": "markdown",
   "metadata": {
    "id": "I-jGq0mjmoyX"
   },
   "source": [
    "KNN is the instanced based algorithm (`lazy-learning` method)\n",
    "\n",
    "Models based on instance-based learning to generalize beyond the training examples. To do so,\n",
    "* they store the training examples first. When it encounters a new instance (or test example),\n",
    "* then they instantly build a relationship between stored training examples and\n",
    "* this new instant to assign a target function value for this new instance.\n",
    "\n",
    "Instance-based methods are sometimes called **lazy learning** methods because they postponed learning until the new instance is encountered for prediction."
   ]
  },
  {
   "cell_type": "markdown",
   "metadata": {
    "id": "BcbPr9x7sk1T"
   },
   "source": [
    "**Basic Assumption:**\n",
    "\n",
    "All instances correspond to points in the `n-dimensional` space where `n` represents the number of features in any instance.\n",
    "\n",
    "The nearest neighbors of an instance are defined in terms of the `Euclidean` distance.\n",
    "\n",
    "An instance can be represented by `< x1, x2, .............., xn >`.\n",
    "\n",
    "Euclidean distance between two instances xa and xb is given by $d( x_a, x_b )$\n",
    "\n",
    "$$Distance(x,y) = \\sqrt{\\sum_{j=1}^{n}(x_j^a -x_j^b)^2} $$\n",
    "\n"
   ]
  },
  {
   "cell_type": "markdown",
   "metadata": {
    "id": "w4sNRHoYu3Q1"
   },
   "source": [
    "## Algorithm\n",
    "\n",
    "**Pseudocode**\n",
    "\n",
    "1. Store all training examples.\n",
    "2. Repeat steps 3, 4, and 5 for each test example.\n",
    "3. Find the `K` number of training examples nearest to the current test example.\n",
    "4. `y_pred` for current test example =  most common class among K-Nearest training instances.\n",
    "5. Go to step 2.\n",
    "\n"
   ]
  },
  {
   "cell_type": "markdown",
   "metadata": {
    "id": "EsBfBhf4wuBn"
   },
   "source": [
    "## Define value of `K`\n",
    "\n",
    "The `k` value in the `k-NN` algorithm defines how many neighbors will be checked to determine the classification of a specific query point.\n",
    "\n",
    "Defining `k` can be a balancing act as different values can lead to overfitting or underfitting.\n",
    "\n",
    "**Lower values of k** can have high variance, but low bias, and larger values of k may lead to high bias and lower variance.\n",
    "\n",
    "The **choice of k will largely depend on the input data** as data with more outliers or noise will likely perform better with higher values of **k**.\n",
    "\n",
    "Overall, it is recommended to have an **odd number for k to avoid ties** in classification, and cross-validation tactics can help you choose the optimal k for your dataset."
   ]
  },
  {
   "cell_type": "markdown",
   "metadata": {
    "id": "sLIBfuQD64GE"
   },
   "source": [
    "## How KNN works\n",
    "\n",
    "- **Training Phase:**\n",
    "\n",
    "    The algorithm simply stores the entire training dataset in memory.\n",
    "\n",
    "- **Prediction Phase:**\n",
    "\n",
    "    When a new instance is presented for classification, the algorithm calculates the distance between this instance and all other instances in the training dataset.\n",
    "        \n",
    "    It then selects the K-nearest neighbors (K is a user-defined parameter) based on the calculated distances.\n",
    "        \n",
    "    For classification, the algorithm assigns the class label that is most common among the K-nearest neighbors (i.e., the majority class).\n",
    "        \n",
    "    For regression, the algorithm assigns the average value of the K-nearest neighbors.\n",
    "\n"
   ]
  },
  {
   "cell_type": "markdown",
   "metadata": {
    "id": "NiWq9SNoxjCI"
   },
   "source": [
    "## Application of KNN\n",
    "\n",
    "- **Text Classification:**\n",
    "\n",
    "    KNN can be used for text classification tasks, such as sentiment analysis or spam detection. In this case, each document is represented as a vector of word frequencies or TF-IDF scores, and KNN can classify new documents based on their similarity to existing documents.\n",
    "\n",
    "- **Pattern Recognition:**\n",
    "\n",
    "    KNN has also assisted in identifying patterns, such as in text and digit classification. This has been particularly helpful in identifying handwritten numbers that you might find on forms or mailing envelopes.\n",
    "\n",
    "- **Healthcare**\n",
    "\n",
    "    KNN has also had application within the healthcare industry, making predictions on the risk of heart attacks and prostate cancer. The algorithm works by calculating the most likely gene expressions."
   ]
  },
  {
   "cell_type": "markdown",
   "metadata": {
    "id": "9vIWAjxTx4rX"
   },
   "source": [
    "## Advantages\n",
    "\n",
    "- Easy to implement: Given the algorithm’s simplicity and accuracy, it is one of the first classifiers that a new data scientist will learn.\n",
    "\n",
    "- Adapts easily: As new training samples are added, the algorithm adjusts to account for any new data since all training data is stored into memory.\n",
    "\n",
    "- Few hyperparameters: KNN only requires a k value and a distance metric, which is low when compared to other machine learning algorithms.\n",
    "\n",
    "## Disadvantages\n",
    "\n",
    "\n",
    "- **Does not scale well:** Since KNN is a lazy algorithm, it takes up more memory and data storage compared to other classifiers. This can be costly from both a time and money perspective. More memory and storage will drive up business expenses and more data can take longer to compute. While different data structures, such as Ball-Tree, have been created to address the computational inefficiencies, a different classifier may be ideal depending on the business problem.\n",
    "\n",
    "- **Curse of dimensionality:** The KNN algorithm tends to fall victim to the curse of dimensionality, which means that it doesn’t perform well with high-dimensional data inputs. This is sometimes also referred to as the peaking phenomenon, where after the algorithm attains the optimal number of features, additional features increases the amount of classification errors, especially when the sample size is smaller.\n",
    "\n",
    "- **Prone to overfitting:** Due to the “curse of dimensionality”, KNN is also more prone to overfitting. While feature selection and dimensionality reduction techniques are leveraged to prevent this from occurring, the value of k can also impact the model’s behavior. Lower values of k can overfit the data, whereas higher values of k tend to “smooth out” the prediction values since it is averaging the values over a greater area, or neighborhood. However, if the value of k is too high, then it can underfit the data.\n"
   ]
  },
  {
   "cell_type": "markdown",
   "metadata": {
    "id": "VhWc8U1iz-vJ"
   },
   "source": [
    "## Implementation of KNN\n",
    "\n",
    "Dataset: Iris Dataset - this is used for evaluating the classification algorithms\n",
    "\n",
    "The data set contains **3 classes** of **50 instances** each, where each class refers to a type of iris plant.\n",
    "\n",
    "https://archive.ics.uci.edu/dataset/53/iris\n",
    "\n",
    "\n",
    "**Attributes**\n",
    "1. Sepal length: Contineous variable\n",
    "2. Sepal width\n",
    "3. petal length\n",
    "4. petal width\n",
    "5. Class: Setosa, Versicolour, Virginica\n",
    "\n",
    "This dataset can be extracted from `sklearn`'s datasets module\n",
    "\n",
    "    data: contineous values of attributes\n",
    "    target: classification class\n",
    "\n"
   ]
  },
  {
   "cell_type": "markdown",
   "metadata": {
    "id": "tWHnSLc8rGRf"
   },
   "source": [
    "Load `iris` dataset from the `sklearn`"
   ]
  },
  {
   "cell_type": "code",
   "execution_count": 1,
   "metadata": {
    "id": "i1o4kDYXALrA"
   },
   "outputs": [],
   "source": [
    "from sklearn import datasets\n",
    "from sklearn.model_selection import train_test_split"
   ]
  },
  {
   "cell_type": "code",
   "execution_count": 2,
   "metadata": {
    "id": "pW8LsWnz1Fns"
   },
   "outputs": [
    {
     "data": {
      "text/plain": [
       "{'data': array([[5.1, 3.5, 1.4, 0.2],\n",
       "        [4.9, 3. , 1.4, 0.2],\n",
       "        [4.7, 3.2, 1.3, 0.2],\n",
       "        [4.6, 3.1, 1.5, 0.2],\n",
       "        [5. , 3.6, 1.4, 0.2],\n",
       "        [5.4, 3.9, 1.7, 0.4],\n",
       "        [4.6, 3.4, 1.4, 0.3],\n",
       "        [5. , 3.4, 1.5, 0.2],\n",
       "        [4.4, 2.9, 1.4, 0.2],\n",
       "        [4.9, 3.1, 1.5, 0.1],\n",
       "        [5.4, 3.7, 1.5, 0.2],\n",
       "        [4.8, 3.4, 1.6, 0.2],\n",
       "        [4.8, 3. , 1.4, 0.1],\n",
       "        [4.3, 3. , 1.1, 0.1],\n",
       "        [5.8, 4. , 1.2, 0.2],\n",
       "        [5.7, 4.4, 1.5, 0.4],\n",
       "        [5.4, 3.9, 1.3, 0.4],\n",
       "        [5.1, 3.5, 1.4, 0.3],\n",
       "        [5.7, 3.8, 1.7, 0.3],\n",
       "        [5.1, 3.8, 1.5, 0.3],\n",
       "        [5.4, 3.4, 1.7, 0.2],\n",
       "        [5.1, 3.7, 1.5, 0.4],\n",
       "        [4.6, 3.6, 1. , 0.2],\n",
       "        [5.1, 3.3, 1.7, 0.5],\n",
       "        [4.8, 3.4, 1.9, 0.2],\n",
       "        [5. , 3. , 1.6, 0.2],\n",
       "        [5. , 3.4, 1.6, 0.4],\n",
       "        [5.2, 3.5, 1.5, 0.2],\n",
       "        [5.2, 3.4, 1.4, 0.2],\n",
       "        [4.7, 3.2, 1.6, 0.2],\n",
       "        [4.8, 3.1, 1.6, 0.2],\n",
       "        [5.4, 3.4, 1.5, 0.4],\n",
       "        [5.2, 4.1, 1.5, 0.1],\n",
       "        [5.5, 4.2, 1.4, 0.2],\n",
       "        [4.9, 3.1, 1.5, 0.2],\n",
       "        [5. , 3.2, 1.2, 0.2],\n",
       "        [5.5, 3.5, 1.3, 0.2],\n",
       "        [4.9, 3.6, 1.4, 0.1],\n",
       "        [4.4, 3. , 1.3, 0.2],\n",
       "        [5.1, 3.4, 1.5, 0.2],\n",
       "        [5. , 3.5, 1.3, 0.3],\n",
       "        [4.5, 2.3, 1.3, 0.3],\n",
       "        [4.4, 3.2, 1.3, 0.2],\n",
       "        [5. , 3.5, 1.6, 0.6],\n",
       "        [5.1, 3.8, 1.9, 0.4],\n",
       "        [4.8, 3. , 1.4, 0.3],\n",
       "        [5.1, 3.8, 1.6, 0.2],\n",
       "        [4.6, 3.2, 1.4, 0.2],\n",
       "        [5.3, 3.7, 1.5, 0.2],\n",
       "        [5. , 3.3, 1.4, 0.2],\n",
       "        [7. , 3.2, 4.7, 1.4],\n",
       "        [6.4, 3.2, 4.5, 1.5],\n",
       "        [6.9, 3.1, 4.9, 1.5],\n",
       "        [5.5, 2.3, 4. , 1.3],\n",
       "        [6.5, 2.8, 4.6, 1.5],\n",
       "        [5.7, 2.8, 4.5, 1.3],\n",
       "        [6.3, 3.3, 4.7, 1.6],\n",
       "        [4.9, 2.4, 3.3, 1. ],\n",
       "        [6.6, 2.9, 4.6, 1.3],\n",
       "        [5.2, 2.7, 3.9, 1.4],\n",
       "        [5. , 2. , 3.5, 1. ],\n",
       "        [5.9, 3. , 4.2, 1.5],\n",
       "        [6. , 2.2, 4. , 1. ],\n",
       "        [6.1, 2.9, 4.7, 1.4],\n",
       "        [5.6, 2.9, 3.6, 1.3],\n",
       "        [6.7, 3.1, 4.4, 1.4],\n",
       "        [5.6, 3. , 4.5, 1.5],\n",
       "        [5.8, 2.7, 4.1, 1. ],\n",
       "        [6.2, 2.2, 4.5, 1.5],\n",
       "        [5.6, 2.5, 3.9, 1.1],\n",
       "        [5.9, 3.2, 4.8, 1.8],\n",
       "        [6.1, 2.8, 4. , 1.3],\n",
       "        [6.3, 2.5, 4.9, 1.5],\n",
       "        [6.1, 2.8, 4.7, 1.2],\n",
       "        [6.4, 2.9, 4.3, 1.3],\n",
       "        [6.6, 3. , 4.4, 1.4],\n",
       "        [6.8, 2.8, 4.8, 1.4],\n",
       "        [6.7, 3. , 5. , 1.7],\n",
       "        [6. , 2.9, 4.5, 1.5],\n",
       "        [5.7, 2.6, 3.5, 1. ],\n",
       "        [5.5, 2.4, 3.8, 1.1],\n",
       "        [5.5, 2.4, 3.7, 1. ],\n",
       "        [5.8, 2.7, 3.9, 1.2],\n",
       "        [6. , 2.7, 5.1, 1.6],\n",
       "        [5.4, 3. , 4.5, 1.5],\n",
       "        [6. , 3.4, 4.5, 1.6],\n",
       "        [6.7, 3.1, 4.7, 1.5],\n",
       "        [6.3, 2.3, 4.4, 1.3],\n",
       "        [5.6, 3. , 4.1, 1.3],\n",
       "        [5.5, 2.5, 4. , 1.3],\n",
       "        [5.5, 2.6, 4.4, 1.2],\n",
       "        [6.1, 3. , 4.6, 1.4],\n",
       "        [5.8, 2.6, 4. , 1.2],\n",
       "        [5. , 2.3, 3.3, 1. ],\n",
       "        [5.6, 2.7, 4.2, 1.3],\n",
       "        [5.7, 3. , 4.2, 1.2],\n",
       "        [5.7, 2.9, 4.2, 1.3],\n",
       "        [6.2, 2.9, 4.3, 1.3],\n",
       "        [5.1, 2.5, 3. , 1.1],\n",
       "        [5.7, 2.8, 4.1, 1.3],\n",
       "        [6.3, 3.3, 6. , 2.5],\n",
       "        [5.8, 2.7, 5.1, 1.9],\n",
       "        [7.1, 3. , 5.9, 2.1],\n",
       "        [6.3, 2.9, 5.6, 1.8],\n",
       "        [6.5, 3. , 5.8, 2.2],\n",
       "        [7.6, 3. , 6.6, 2.1],\n",
       "        [4.9, 2.5, 4.5, 1.7],\n",
       "        [7.3, 2.9, 6.3, 1.8],\n",
       "        [6.7, 2.5, 5.8, 1.8],\n",
       "        [7.2, 3.6, 6.1, 2.5],\n",
       "        [6.5, 3.2, 5.1, 2. ],\n",
       "        [6.4, 2.7, 5.3, 1.9],\n",
       "        [6.8, 3. , 5.5, 2.1],\n",
       "        [5.7, 2.5, 5. , 2. ],\n",
       "        [5.8, 2.8, 5.1, 2.4],\n",
       "        [6.4, 3.2, 5.3, 2.3],\n",
       "        [6.5, 3. , 5.5, 1.8],\n",
       "        [7.7, 3.8, 6.7, 2.2],\n",
       "        [7.7, 2.6, 6.9, 2.3],\n",
       "        [6. , 2.2, 5. , 1.5],\n",
       "        [6.9, 3.2, 5.7, 2.3],\n",
       "        [5.6, 2.8, 4.9, 2. ],\n",
       "        [7.7, 2.8, 6.7, 2. ],\n",
       "        [6.3, 2.7, 4.9, 1.8],\n",
       "        [6.7, 3.3, 5.7, 2.1],\n",
       "        [7.2, 3.2, 6. , 1.8],\n",
       "        [6.2, 2.8, 4.8, 1.8],\n",
       "        [6.1, 3. , 4.9, 1.8],\n",
       "        [6.4, 2.8, 5.6, 2.1],\n",
       "        [7.2, 3. , 5.8, 1.6],\n",
       "        [7.4, 2.8, 6.1, 1.9],\n",
       "        [7.9, 3.8, 6.4, 2. ],\n",
       "        [6.4, 2.8, 5.6, 2.2],\n",
       "        [6.3, 2.8, 5.1, 1.5],\n",
       "        [6.1, 2.6, 5.6, 1.4],\n",
       "        [7.7, 3. , 6.1, 2.3],\n",
       "        [6.3, 3.4, 5.6, 2.4],\n",
       "        [6.4, 3.1, 5.5, 1.8],\n",
       "        [6. , 3. , 4.8, 1.8],\n",
       "        [6.9, 3.1, 5.4, 2.1],\n",
       "        [6.7, 3.1, 5.6, 2.4],\n",
       "        [6.9, 3.1, 5.1, 2.3],\n",
       "        [5.8, 2.7, 5.1, 1.9],\n",
       "        [6.8, 3.2, 5.9, 2.3],\n",
       "        [6.7, 3.3, 5.7, 2.5],\n",
       "        [6.7, 3. , 5.2, 2.3],\n",
       "        [6.3, 2.5, 5. , 1.9],\n",
       "        [6.5, 3. , 5.2, 2. ],\n",
       "        [6.2, 3.4, 5.4, 2.3],\n",
       "        [5.9, 3. , 5.1, 1.8]]),\n",
       " 'target': array([0, 0, 0, 0, 0, 0, 0, 0, 0, 0, 0, 0, 0, 0, 0, 0, 0, 0, 0, 0, 0, 0,\n",
       "        0, 0, 0, 0, 0, 0, 0, 0, 0, 0, 0, 0, 0, 0, 0, 0, 0, 0, 0, 0, 0, 0,\n",
       "        0, 0, 0, 0, 0, 0, 1, 1, 1, 1, 1, 1, 1, 1, 1, 1, 1, 1, 1, 1, 1, 1,\n",
       "        1, 1, 1, 1, 1, 1, 1, 1, 1, 1, 1, 1, 1, 1, 1, 1, 1, 1, 1, 1, 1, 1,\n",
       "        1, 1, 1, 1, 1, 1, 1, 1, 1, 1, 1, 1, 2, 2, 2, 2, 2, 2, 2, 2, 2, 2,\n",
       "        2, 2, 2, 2, 2, 2, 2, 2, 2, 2, 2, 2, 2, 2, 2, 2, 2, 2, 2, 2, 2, 2,\n",
       "        2, 2, 2, 2, 2, 2, 2, 2, 2, 2, 2, 2, 2, 2, 2, 2, 2, 2]),\n",
       " 'frame': None,\n",
       " 'target_names': array(['setosa', 'versicolor', 'virginica'], dtype='<U10'),\n",
       " 'DESCR': '.. _iris_dataset:\\n\\nIris plants dataset\\n--------------------\\n\\n**Data Set Characteristics:**\\n\\n:Number of Instances: 150 (50 in each of three classes)\\n:Number of Attributes: 4 numeric, predictive attributes and the class\\n:Attribute Information:\\n    - sepal length in cm\\n    - sepal width in cm\\n    - petal length in cm\\n    - petal width in cm\\n    - class:\\n            - Iris-Setosa\\n            - Iris-Versicolour\\n            - Iris-Virginica\\n\\n:Summary Statistics:\\n\\n============== ==== ==== ======= ===== ====================\\n                Min  Max   Mean    SD   Class Correlation\\n============== ==== ==== ======= ===== ====================\\nsepal length:   4.3  7.9   5.84   0.83    0.7826\\nsepal width:    2.0  4.4   3.05   0.43   -0.4194\\npetal length:   1.0  6.9   3.76   1.76    0.9490  (high!)\\npetal width:    0.1  2.5   1.20   0.76    0.9565  (high!)\\n============== ==== ==== ======= ===== ====================\\n\\n:Missing Attribute Values: None\\n:Class Distribution: 33.3% for each of 3 classes.\\n:Creator: R.A. Fisher\\n:Donor: Michael Marshall (MARSHALL%PLU@io.arc.nasa.gov)\\n:Date: July, 1988\\n\\nThe famous Iris database, first used by Sir R.A. Fisher. The dataset is taken\\nfrom Fisher\\'s paper. Note that it\\'s the same as in R, but not as in the UCI\\nMachine Learning Repository, which has two wrong data points.\\n\\nThis is perhaps the best known database to be found in the\\npattern recognition literature.  Fisher\\'s paper is a classic in the field and\\nis referenced frequently to this day.  (See Duda & Hart, for example.)  The\\ndata set contains 3 classes of 50 instances each, where each class refers to a\\ntype of iris plant.  One class is linearly separable from the other 2; the\\nlatter are NOT linearly separable from each other.\\n\\n|details-start|\\n**References**\\n|details-split|\\n\\n- Fisher, R.A. \"The use of multiple measurements in taxonomic problems\"\\n  Annual Eugenics, 7, Part II, 179-188 (1936); also in \"Contributions to\\n  Mathematical Statistics\" (John Wiley, NY, 1950).\\n- Duda, R.O., & Hart, P.E. (1973) Pattern Classification and Scene Analysis.\\n  (Q327.D83) John Wiley & Sons.  ISBN 0-471-22361-1.  See page 218.\\n- Dasarathy, B.V. (1980) \"Nosing Around the Neighborhood: A New System\\n  Structure and Classification Rule for Recognition in Partially Exposed\\n  Environments\".  IEEE Transactions on Pattern Analysis and Machine\\n  Intelligence, Vol. PAMI-2, No. 1, 67-71.\\n- Gates, G.W. (1972) \"The Reduced Nearest Neighbor Rule\".  IEEE Transactions\\n  on Information Theory, May 1972, 431-433.\\n- See also: 1988 MLC Proceedings, 54-64.  Cheeseman et al\"s AUTOCLASS II\\n  conceptual clustering system finds 3 classes in the data.\\n- Many, many more ...\\n\\n|details-end|\\n',\n",
       " 'feature_names': ['sepal length (cm)',\n",
       "  'sepal width (cm)',\n",
       "  'petal length (cm)',\n",
       "  'petal width (cm)'],\n",
       " 'filename': 'iris.csv',\n",
       " 'data_module': 'sklearn.datasets.data'}"
      ]
     },
     "execution_count": 2,
     "metadata": {},
     "output_type": "execute_result"
    }
   ],
   "source": [
    "iris = datasets.load_iris()\n",
    "iris"
   ]
  },
  {
   "cell_type": "code",
   "execution_count": 3,
   "metadata": {
    "id": "pBABMFb91nVT"
   },
   "outputs": [],
   "source": [
    "x = iris['data']\n",
    "y = iris['target']\n",
    "\n",
    "x_train, x_test, y_train, y_test = train_test_split(x, y, test_size = 0.2, random_state=1)"
   ]
  },
  {
   "cell_type": "markdown",
   "metadata": {
    "id": "5gGioOnF7cVT"
   },
   "source": [
    "### Helper functions\n"
   ]
  },
  {
   "cell_type": "code",
   "execution_count": 4,
   "metadata": {
    "id": "Iq0Y3ta27llT"
   },
   "outputs": [],
   "source": [
    "import numpy as np"
   ]
  },
  {
   "cell_type": "markdown",
   "metadata": {
    "id": "vpZ6eKhkq6ma"
   },
   "source": [
    "The function `most_common(lst)` finds and returns the most frequently occurring element in the given list `lst`."
   ]
  },
  {
   "cell_type": "code",
   "execution_count": 5,
   "metadata": {
    "executionInfo": {
     "elapsed": 14,
     "status": "ok",
     "timestamp": 1741419102201,
     "user": {
      "displayName": "Rupak Ghimire",
      "userId": "14487243991408801434"
     },
     "user_tz": -345
    },
    "id": "RyShQT6O7gO8"
   },
   "outputs": [],
   "source": [
    "def most_common(lst):\n",
    "    return max(set(lst), key=lst.count)"
   ]
  },
  {
   "cell_type": "markdown",
   "metadata": {
    "id": "Na2Jf8aUqkGj"
   },
   "source": [
    "Euclidean distance between two instances xa and xb is given by $d( x_a, x_b )$\n",
    "\n",
    "$$Distance(x,y) = \\sqrt{\\sum_{j=1}^{n}(x_j^a -x_j^b)^2} $$"
   ]
  },
  {
   "cell_type": "code",
   "execution_count": 6,
   "metadata": {
    "id": "NCxOoRll7qnd"
   },
   "outputs": [],
   "source": [
    "def euclidean(point, data):\n",
    "    return np.sqrt(np.sum((point - data)**2, axis=1))"
   ]
  },
  {
   "cell_type": "markdown",
   "metadata": {
    "id": "X3eS_xpJrQUY"
   },
   "source": [
    "### Implementation of KNN Classifier\n",
    "- Initialize the model from the given dataset\n",
    "- fit the model\n",
    "- predict"
   ]
  },
  {
   "cell_type": "code",
   "execution_count": 24,
   "metadata": {
    "id": "rui9f9h270Dt"
   },
   "outputs": [],
   "source": [
    "class KNNClassifier:\n",
    "    def __init__(self, k):\n",
    "        self.k = k\n",
    "        self.distance_method = euclidean\n",
    "\n",
    "    def fit(self, x_train, y_train):\n",
    "        self.x_train = x_train\n",
    "        self.y_train = y_train\n",
    "\n",
    "    def predict(self, x_test):\n",
    "        neighbors = []\n",
    "        for x in x_test:\n",
    "            distances = self.distance_method(x, self.x_train)\n",
    "            y_sorted = [y for _, y in sorted(zip(distances,self.y_train))]\n",
    "            neighbors.append(y_sorted[:self.k])\n",
    "        return list(map(most_common, neighbors))\n",
    "\n",
    "    def evaluate(self, x_test, y_test):\n",
    "        y_pred = self.predict(x_test)\n",
    "        accuracy = sum(y_pred == y_test) / len(y_test)\n",
    "        return accuracy"
   ]
  },
  {
   "cell_type": "markdown",
   "metadata": {
    "id": "yPQoRZhb-T2G"
   },
   "source": [
    "### Use KNN for prediction"
   ]
  },
  {
   "cell_type": "code",
   "execution_count": 25,
   "metadata": {
    "id": "vU8pyW2I-E0v"
   },
   "outputs": [],
   "source": [
    "k = 3\n",
    "\n",
    "knn = KNNClassifier(k=3)\n",
    "knn.fit(x_train, y_train)\n",
    "\n",
    "computed_y_test = knn.predict(x_test)"
   ]
  },
  {
   "cell_type": "code",
   "execution_count": 26,
   "metadata": {
    "id": "m65-VnZXB7gW"
   },
   "outputs": [
    {
     "data": {
      "text/plain": [
       "[(0, 0),\n",
       " (1, 1),\n",
       " (1, 1),\n",
       " (0, 0),\n",
       " (2, 2),\n",
       " (1, 1),\n",
       " (2, 2),\n",
       " (0, 0),\n",
       " (0, 0),\n",
       " (2, 2),\n",
       " (1, 1),\n",
       " (0, 0),\n",
       " (2, 2),\n",
       " (1, 1),\n",
       " (1, 1),\n",
       " (0, 0),\n",
       " (1, 1),\n",
       " (1, 1),\n",
       " (0, 0),\n",
       " (0, 0),\n",
       " (1, 1),\n",
       " (1, 1),\n",
       " (1, 1),\n",
       " (0, 0),\n",
       " (2, 2),\n",
       " (1, 1),\n",
       " (0, 0),\n",
       " (0, 0),\n",
       " (1, 1),\n",
       " (2, 2)]"
      ]
     },
     "execution_count": 26,
     "metadata": {},
     "output_type": "execute_result"
    }
   ],
   "source": [
    "# Check how it is computing the output\n",
    "\n",
    "list(zip(computed_y_test, y_test))"
   ]
  },
  {
   "cell_type": "markdown",
   "metadata": {
    "id": "6vncoIcpCamm"
   },
   "source": [
    "### Compute Accuracy"
   ]
  },
  {
   "cell_type": "code",
   "execution_count": 27,
   "metadata": {
    "colab": {
     "base_uri": "https://localhost:8080/"
    },
    "id": "zGnz1v9ACeUG",
    "outputId": "bb3fecdc-eb36-4966-8eb7-14e88403e7f9"
   },
   "outputs": [
    {
     "name": "stdout",
     "output_type": "stream",
     "text": [
      "Accuracy = 1.0\n"
     ]
    }
   ],
   "source": [
    "y_pred = knn.predict(x_test)\n",
    "accuracy = sum(y_pred == y_test) / len(y_test)\n",
    "\n",
    "print(f\"Accuracy = {accuracy}\")"
   ]
  },
  {
   "cell_type": "markdown",
   "metadata": {
    "id": "4SjpRqytD064"
   },
   "source": [
    "### Visualize accuracy vs. k"
   ]
  },
  {
   "cell_type": "code",
   "execution_count": 17,
   "metadata": {
    "id": "vVf6uvQLD-qp"
   },
   "outputs": [],
   "source": [
    "import matplotlib.pyplot as plt"
   ]
  },
  {
   "cell_type": "markdown",
   "metadata": {
    "id": "FxSxXH7NsFPl"
   },
   "source": [
    "Hyperparameter estimation (identification of value of K) using grid search"
   ]
  },
  {
   "cell_type": "code",
   "execution_count": 29,
   "metadata": {
    "id": "oTuMNFF0D4RK"
   },
   "outputs": [],
   "source": [
    "accuracies = []\n",
    "\n",
    "ks = range(1,10)\n",
    "for k in ks:\n",
    "    knn = KNNClassifier(k)\n",
    "    knn.fit(x_train, y_train)\n",
    "    knn.predict(x_train)\n",
    "    accuracy = knn.evaluate(x_test, y_test)\n",
    "    accuracies.append(accuracy)"
   ]
  },
  {
   "cell_type": "code",
   "execution_count": null,
   "metadata": {},
   "outputs": [],
   "source": []
  },
  {
   "cell_type": "code",
   "execution_count": 30,
   "metadata": {
    "colab": {
     "base_uri": "https://localhost:8080/",
     "height": 472
    },
    "id": "AzI6qLpuF-89",
    "outputId": "5851706d-dab0-4bca-b292-9591f3804414"
   },
   "outputs": [
    {
     "data": {
      "image/png": "[encoded data removed]",
      "text/plain": [
       "<Figure size 640x480 with 1 Axes>"
      ]
     },
     "metadata": {},
     "output_type": "display_data"
    }
   ],
   "source": [
    "fig, ax = plt.subplots()\n",
    "ax.plot(ks, accuracies)\n",
    "ax.set(xlabel=\"k\",\n",
    "       ylabel=\"Accuracy\",\n",
    "       title=\"Performance of knn\")\n",
    "plt.show()"
   ]
  },
  {
   "cell_type": "markdown",
   "metadata": {
    "id": "vcstFvxxj7wS"
   },
   "source": [
    "## Do it yourself\n",
    "\n",
    "Use the following distance method and on the data set above and compare the accuracy of the model.\n",
    "\n",
    "- Manhattan Distance\n",
    "\n",
    "    Manhattan Distance metric is generally used when we are interested in the total distance traveled by the object instead of the displacement. This metric is calculated by summing the absolute difference between the coordinates of the points in n-dimensions.\n",
    "    \n",
    "   $$d\\left ( x,y \\right )={\\sum_{i=1}^{n}\\left | x_i-y_i \\right |}$$\n",
    "\n",
    "- Minkowski Distance\n",
    "\n",
    "    We can say that the Euclidean, as well as the Manhattan distance, are special cases of the Minkowski distance.\n",
    "\n",
    "   $$d ( x,y  )=( {\\sum_{i=1}^{n} ( x_i-y_i  )^p}  )^{\\frac{1}{p}}$$\n",
    "\n",
    "    From the formula above we can say that when p = 2 then it is the same as the formula for the Euclidean distance and when p = 1 then we obtain the formula for the Manhattan distance.\n",
    "\n",
    "\n"
   ]
  },
  {
   "cell_type": "code",
   "execution_count": null,
   "metadata": {},
   "outputs": [],
   "source": []
  },
  {
   "cell_type": "markdown",
   "metadata": {
    "id": "Vm9Rrug-wcv7"
   },
   "source": [
    "## Working with different dataset\n",
    "\n",
    "Diabetes dataset `diabetes.csv`\n",
    "\n",
    "**Attributes**\n",
    "- Pregnancies\n",
    "- Glucose\n",
    "- BloodPressure\n",
    "- SkinThickness\n",
    "- Insulin\n",
    "- BMI\n",
    "- DiabetesPedigreeFunction\n",
    "- Age\n",
    "\n",
    "**Outcome**: The classification column.\n",
    "           \n",
    "Values: `1, 0`\n",
    "\n"
   ]
  },
  {
   "cell_type": "code",
   "execution_count": 32,
   "metadata": {
    "id": "NKNv9tb-yBbU"
   },
   "outputs": [],
   "source": [
    "import pandas as pd\n",
    "\n",
    "df = pd.read_csv(\"diabetes.csv\")\n",
    "x = df.iloc[:,:-1].values\n",
    "y = df.iloc[:,-1:].values"
   ]
  },
  {
   "cell_type": "code",
   "execution_count": null,
   "metadata": {
    "id": "vA-NoEKFysah"
   },
   "outputs": [],
   "source": [
    "x"
   ]
  },
  {
   "cell_type": "code",
   "execution_count": null,
   "metadata": {
    "id": "lUJePTAwyXa5"
   },
   "outputs": [],
   "source": [
    "# split dataset\n",
    "x_train, x_test, y_train, y_test = train_test_split(x, y, test_size = 0.2, random_state=1)"
   ]
  },
  {
   "cell_type": "code",
   "execution_count": 34,
   "metadata": {
    "colab": {
     "base_uri": "https://localhost:8080/"
    },
    "id": "m-NkKBsmyY4m",
    "outputId": "6da60644-0ad5-4d63-e6e8-f10385ae19ef"
   },
   "outputs": [
    {
     "data": {
      "text/plain": [
       "1.0"
      ]
     },
     "execution_count": 34,
     "metadata": {},
     "output_type": "execute_result"
    }
   ],
   "source": [
    "# perform evaluation\n",
    "knn = KNNClassifier(k=5)\n",
    "knn.fit(x_train, y_train)\n",
    "# computed_y_test = knn.predict_class(x_test)\n",
    "accuracy = knn.evaluate(x_test, y_test)\n",
    "accuracy"
   ]
  },
  {
   "cell_type": "code",
   "execution_count": 35,
   "metadata": {
    "id": "Lq04NfPry1L3"
   },
   "outputs": [
    {
     "data": {
      "text/plain": [
       "array([[ 0.31553662, -0.04578885,  0.44767531,  0.23380268],\n",
       "       [ 2.2449325 , -0.04578885,  1.29769171,  1.39742892],\n",
       "       [-0.2873996 , -1.24028061,  0.05100098, -0.15407273],\n",
       "       [ 0.67729835, -0.52358555,  1.01435291,  1.13884531],\n",
       "       [-0.04622511, -0.52358555,  0.73101411,  1.52672073],\n",
       "       [-0.64916132,  1.62649961, -1.30902526, -1.31769898],\n",
       "       [-0.40798684, -1.71807731,  0.10766874,  0.10451088],\n",
       "       [-0.76974857,  0.90980456, -1.36569302, -1.31769898],\n",
       "       [ 0.79788559, -0.52358555,  0.44767531,  0.36309449],\n",
       "       [ 1.03906007, -1.24028061,  1.12768843,  0.7509699 ],\n",
       "       [ 1.15964732, -0.04578885,  0.95768515,  1.13884531],\n",
       "       [-0.89033581,  1.14870291, -1.36569302, -1.18840717],\n",
       "       [ 0.19494938, -1.95697567,  0.67434635,  0.36309449],\n",
       "       [ 0.5567111 , -0.2846872 ,  1.01435291,  0.7509699 ],\n",
       "       [ 0.91847283, -0.2846872 ,  0.44767531,  0.10451088],\n",
       "       [ 2.2449325 , -1.00138226,  1.75103379,  1.39742892],\n",
       "       [-0.16681235,  1.86539796, -1.19568974, -1.18840717],\n",
       "       [-1.01092305,  1.38760126, -1.36569302, -1.31769898],\n",
       "       [-1.25209754, -0.04578885, -1.36569302, -1.18840717],\n",
       "       [-0.76974857, -0.76248391,  0.05100098,  0.23380268],\n",
       "       [-0.89033581,  0.90980456, -1.30902526, -1.31769898],\n",
       "       [-0.40798684,  1.14870291, -1.42236078, -1.31769898],\n",
       "       [ 2.2449325 ,  1.86539796,  1.63769827,  1.26813712],\n",
       "       [ 1.28023456,  0.1931095 ,  0.90101739,  1.13884531],\n",
       "       [ 1.76258353, -0.2846872 ,  1.41102723,  0.7509699 ],\n",
       "       [ 0.67729835, -0.52358555,  1.01435291,  1.26813712],\n",
       "       [ 0.43612386, -0.52358555,  0.56101083,  0.7509699 ],\n",
       "       [ 0.19494938,  0.90980456,  0.39100755,  0.49238629],\n",
       "       [ 2.2449325 , -0.52358555,  1.63769827,  1.00955351],\n",
       "       [-0.16681235, -0.04578885,  0.22100426, -0.02478093],\n",
       "       [-1.25209754,  0.90980456, -1.2523575 , -1.31769898],\n",
       "       [-0.16681235, -1.24028061,  0.67434635,  1.00955351],\n",
       "       [ 0.5567111 , -0.76248391,  0.61767859,  0.7509699 ],\n",
       "       [-1.25209754, -0.04578885, -1.36569302, -1.44699078],\n",
       "       [-1.37268478,  0.43200785, -1.42236078, -1.31769898],\n",
       "       [ 0.79788559, -0.04578885,  1.12768843,  1.26813712],\n",
       "       [-1.49327202,  0.90980456, -1.36569302, -1.18840717],\n",
       "       [ 0.31553662, -0.04578885,  0.61767859,  0.7509699 ],\n",
       "       [ 0.79788559,  0.43200785,  0.73101411,  1.00955351],\n",
       "       [ 1.03906007,  0.1931095 ,  0.33433978,  0.23380268],\n",
       "       [-0.16681235, -0.52358555,  0.39100755,  0.10451088],\n",
       "       [ 1.03906007,  0.6709062 ,  1.07102067,  1.65601253],\n",
       "       [ 0.19494938, -0.04578885,  0.56101083,  0.7509699 ],\n",
       "       [-0.89033581,  1.86539796, -1.2523575 , -1.31769898],\n",
       "       [ 0.19494938, -1.95697567,  0.10766874, -0.28336454],\n",
       "       [ 0.67729835, -0.2846872 ,  0.27767202,  0.10451088],\n",
       "       [ 0.79788559, -0.04578885,  0.95768515,  0.7509699 ],\n",
       "       [-1.01092305, -1.71807731, -0.28900558, -0.28336454],\n",
       "       [ 0.5567111 ,  0.6709062 ,  1.24102395,  1.65601253],\n",
       "       [-0.40798684, -1.24028061,  0.10766874,  0.10451088],\n",
       "       [-0.52857408,  1.62649961, -1.30902526, -1.31769898],\n",
       "       [-1.13151029,  0.1931095 , -1.30902526, -1.31769898],\n",
       "       [-0.76974857,  2.58209302, -1.30902526, -1.44699078],\n",
       "       [ 1.03906007,  0.6709062 ,  1.07102067,  1.13884531],\n",
       "       [-1.73444651, -0.04578885, -1.42236078, -1.31769898],\n",
       "       [ 0.19494938, -0.76248391,  0.73101411,  0.49238629],\n",
       "       [ 0.67729835, -0.76248391,  0.84434963,  0.8802617 ],\n",
       "       [ 0.07436213, -0.04578885,  0.73101411,  0.7509699 ],\n",
       "       [-0.76974857,  1.14870291, -1.30902526, -1.31769898],\n",
       "       [-0.89033581,  0.6709062 , -1.19568974, -0.92982356],\n",
       "       [-0.04622511, -0.76248391,  0.1643365 , -0.28336454],\n",
       "       [-1.13151029,  0.1931095 , -1.30902526, -1.44699078],\n",
       "       [ 1.88317077, -0.52358555,  1.29769171,  0.8802617 ],\n",
       "       [ 0.43612386, -0.2846872 ,  0.27767202,  0.10451088],\n",
       "       [ 2.12434526, -0.04578885,  1.58103051,  1.13884531],\n",
       "       [ 1.03906007, -0.04578885,  0.78768187,  1.39742892],\n",
       "       [ 0.5567111 , -1.71807731,  0.33433978,  0.10451088],\n",
       "       [ 0.43612386,  0.90980456,  0.90101739,  1.39742892],\n",
       "       [ 1.64199629,  1.38760126,  1.29769171,  1.65601253],\n",
       "       [-0.2873996 , -0.2846872 , -0.1190023 ,  0.10451088],\n",
       "       [-0.16681235,  3.29878808, -1.30902526, -1.05911537],\n",
       "       [-0.04622511, -0.76248391,  0.05100098, -0.02478093],\n",
       "       [-1.61385927, -1.71807731, -1.42236078, -1.18840717],\n",
       "       [-0.40798684, -1.47917896, -0.00566678, -0.15407273],\n",
       "       [ 1.28023456,  0.1931095 ,  0.61767859,  0.36309449],\n",
       "       [-1.01092305,  0.90980456, -1.2523575 , -1.05911537],\n",
       "       [ 1.15964732, -0.52358555,  0.56101083,  0.23380268],\n",
       "       [-1.01092305,  1.14870291, -1.2523575 , -0.80053176],\n",
       "       [-1.25209754,  0.90980456, -1.08235422, -1.31769898],\n",
       "       [ 0.5567111 ,  0.90980456,  1.01435291,  1.52672073],\n",
       "       [-0.2873996 , -0.52358555,  0.61767859,  1.00955351],\n",
       "       [ 1.15964732,  0.43200785,  1.18435619,  1.39742892],\n",
       "       [-1.01092305,  0.6709062 , -1.36569302, -1.31769898],\n",
       "       [-0.89033581,  1.62649961, -1.30902526, -1.05911537],\n",
       "       [ 0.07436213,  0.43200785,  0.56101083,  0.7509699 ],\n",
       "       [-1.49327202,  0.1931095 , -1.30902526, -1.31769898],\n",
       "       [-0.04622511, -0.76248391,  0.73101411,  0.8802617 ],\n",
       "       [-1.25209754,  0.1931095 , -1.2523575 , -1.31769898],\n",
       "       [ 0.79788559, -0.04578885,  0.78768187,  1.00955351],\n",
       "       [-1.13151029, -1.24028061,  0.39100755,  0.62167809],\n",
       "       [-1.49327202,  0.43200785, -1.36569302, -1.31769898],\n",
       "       [ 0.67729835,  0.43200785,  0.84434963,  1.39742892],\n",
       "       [-1.85503375, -0.04578885, -1.5356963 , -1.44699078],\n",
       "       [-0.2873996 , -0.04578885,  0.1643365 ,  0.10451088],\n",
       "       [-1.73444651, -0.2846872 , -1.36569302, -1.31769898],\n",
       "       [-0.40798684, -1.47917896, -0.06233454, -0.28336454],\n",
       "       [-1.01092305, -2.43477237, -0.17567006, -0.28336454],\n",
       "       [-0.89033581,  1.14870291, -1.36569302, -1.31769898],\n",
       "       [-1.13151029, -0.04578885, -1.36569302, -1.31769898],\n",
       "       [-1.13151029, -1.47917896, -0.28900558, -0.28336454],\n",
       "       [-1.49327202,  1.38760126, -1.59236406, -1.31769898],\n",
       "       [ 0.07436213, -0.04578885,  0.22100426,  0.36309449],\n",
       "       [ 0.31553662, -0.2846872 ,  0.50434307,  0.23380268],\n",
       "       [-1.01092305,  0.90980456, -1.30902526, -1.31769898],\n",
       "       [ 1.03906007,  0.1931095 ,  0.50434307,  0.36309449],\n",
       "       [-0.16681235, -0.2846872 ,  0.22100426,  0.10451088],\n",
       "       [ 0.43612386, -1.95697567,  0.39100755,  0.36309449],\n",
       "       [ 1.4008218 ,  0.43200785,  0.50434307,  0.23380268],\n",
       "       [-0.04622511, -0.76248391,  0.73101411,  0.8802617 ],\n",
       "       [-0.52857408,  0.90980456, -1.19568974, -1.31769898],\n",
       "       [-1.01092305, -0.04578885, -1.2523575 , -1.31769898],\n",
       "       [ 0.31553662, -1.00138226,  1.01435291,  0.23380268],\n",
       "       [ 0.31553662, -0.52358555,  0.10766874,  0.10451088],\n",
       "       [ 1.64199629, -0.04578885,  1.12768843,  0.49238629],\n",
       "       [-0.16681235, -1.00138226, -0.17567006, -0.28336454],\n",
       "       [ 0.5567111 , -0.52358555,  0.73101411,  0.36309449],\n",
       "       [ 0.67729835,  0.1931095 ,  0.95768515,  0.7509699 ],\n",
       "       [ 0.5567111 , -1.24028061,  0.61767859,  0.36309449],\n",
       "       [ 1.03906007,  0.1931095 ,  1.01435291,  1.52672073],\n",
       "       [-1.13151029,  1.38760126, -1.36569302, -1.44699078]])"
      ]
     },
     "execution_count": 35,
     "metadata": {},
     "output_type": "execute_result"
    }
   ],
   "source": [
    "# normalize the dataset and try to evaluate again\n",
    "from sklearn.preprocessing import StandardScaler\n",
    "ss = StandardScaler().fit(x_train)\n",
    "x_train, x_test = ss.transform(x_train), ss.transform(x_test)\n",
    "x_train"
   ]
  },
  {
   "cell_type": "code",
   "execution_count": 37,
   "metadata": {
    "colab": {
     "base_uri": "https://localhost:8080/"
    },
    "id": "AmPsjfUwzRm8",
    "outputId": "b76b5f6e-4818-43c7-b893-1a5a55b8a080"
   },
   "outputs": [
    {
     "data": {
      "text/plain": [
       "0.9666666666666667"
      ]
     },
     "execution_count": 37,
     "metadata": {},
     "output_type": "execute_result"
    }
   ],
   "source": [
    "# perform evaluation\n",
    "knn = KNNClassifier(k=7)\n",
    "knn.fit(x_train, y_train)\n",
    "# computed_y_test = knn.predict_class(x_test)\n",
    "accuracy = knn.evaluate(x_test, y_test)\n",
    "accuracy\n",
    "\n"
   ]
  },
  {
   "cell_type": "code",
   "execution_count": 38,
   "metadata": {
    "colab": {
     "base_uri": "https://localhost:8080/",
     "height": 472
    },
    "id": "BRfnaK76znlL",
    "outputId": "a6c8b522-8c68-49a2-f154-ca235430a897"
   },
   "outputs": [
    {
     "data": {
      "image/png": "[encoded data removed]",
      "text/plain": [
       "<Figure size 640x480 with 1 Axes>"
      ]
     },
     "metadata": {},
     "output_type": "display_data"
    }
   ],
   "source": [
    "accuracies = []\n",
    "\n",
    "ks = range(2,10)\n",
    "for k in ks:\n",
    "    knn = KNNClassifier(k)\n",
    "    knn.fit(x_train, y_train)\n",
    "    knn.predict(x_train)\n",
    "    accuracy = knn.evaluate(x_test, y_test)\n",
    "    accuracies.append(accuracy)\n",
    "\n",
    "fig, ax = plt.subplots()\n",
    "ax.plot(ks, accuracies)\n",
    "ax.set(xlabel=\"k\",\n",
    "       ylabel=\"Accuracy\",\n",
    "       title=\"Performance of knn\")\n",
    "plt.show()"
   ]
  }
 ],
 "metadata": {
  "colab": {
   "collapsed_sections": [
    "5gGioOnF7cVT",
    "X3eS_xpJrQUY"
   ],
   "provenance": []
  },
  "kernelspec": {
   "display_name": "Python 3",
   "name": "python3"
  },
  "language_info": {
   "codemirror_mode": {
    "name": "ipython",
    "version": 3
   },
   "file_extension": ".py",
   "mimetype": "text/x-python",
   "name": "python",
   "nbconvert_exporter": "python",
   "pygments_lexer": "ipython3",
   "version": "3.12.4"
  }
 },
 "nbformat": 4,
 "nbformat_minor": 0
}
