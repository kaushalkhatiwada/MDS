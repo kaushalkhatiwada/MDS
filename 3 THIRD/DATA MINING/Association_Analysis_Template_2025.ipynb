{
  "nbformat": 4,
  "nbformat_minor": 0,
  "metadata": {
    "colab": {
      "provenance": []
    },
    "kernelspec": {
      "name": "python3",
      "display_name": "Python 3"
    },
    "language_info": {
      "name": "python"
    }
  },
  "cells": [
    {
      "cell_type": "markdown",
      "source": [
        "# Association Rule Mining\n",
        "\n",
        "Apriori Algorithm  Implementation"
      ],
      "metadata": {
        "id": "iExrdQ01qfhB"
      }
    },
    {
      "cell_type": "code",
      "source": [
        "# parameters for pruning\n",
        "min_support = 2\n",
        "min_conf    = 0.6 # 60% of confidance score"
      ],
      "metadata": {
        "id": "CMXq72jJqoFI"
      },
      "execution_count": 1,
      "outputs": []
    },
    {
      "cell_type": "code",
      "execution_count": 2,
      "metadata": {
        "id": "DMz-iFpyp23E"
      },
      "outputs": [],
      "source": [
        "# transactions - array of array\n",
        "# items - list\n",
        "# itemset - dict\n",
        "items = [1,2,3,4,5]\n",
        "\n",
        "# dataset\n",
        "transactions = [\n",
        "    [1,3,4],    # transaction data R1\n",
        "    [2,3,5],    # transaction data R2 ...\n",
        "    [1,2,3,5],\n",
        "    [2,5],\n",
        "    [1,3,5]\n",
        "]\n",
        "\n",
        "# list required for processing the data\n",
        "frequent_itemsets   = []\n",
        "supports            = []\n",
        "discarded           = []"
      ]
    },
    {
      "cell_type": "markdown",
      "source": [
        "### Helper Functions\n"
      ],
      "metadata": {
        "id": "x8NjUo0rq6LZ"
      }
    },
    {
      "cell_type": "code",
      "source": [
        "def print_table(col1, col2):\n",
        "    for i in range(len(col1)):\n",
        "        print(f\"{str(col1[i]).ljust(7)} {col2[i]}\")"
      ],
      "metadata": {
        "id": "1ggEqSmHq713"
      },
      "execution_count": 3,
      "outputs": []
    },
    {
      "cell_type": "code",
      "source": [
        "def get_superset(_set):\n",
        "    subsets = [set([])]\n",
        "    for nth in _set:\n",
        "        subsets.extend([s | {nth} for s in subsets])\n",
        "    return subsets"
      ],
      "metadata": {
        "id": "KF_RPxBirAYg"
      },
      "execution_count": 15,
      "outputs": []
    },
    {
      "cell_type": "code",
      "source": [
        "# calculate support\n",
        "def calculate_support(item):\n",
        "    _support = 0\n",
        "    # print(f\"calculate_support(item) = {item}\")\n",
        "\n",
        "    # iterate over dataset and count occurance `item`\n",
        "    for i in range(len(transactions)):\n",
        "        # if set(transactions[i]).issubset(set(item)):\n",
        "        if set(item).issubset(set(transactions[i])):\n",
        "            # print(f\"Found {set(item)} in {set(transactions[i])}\")\n",
        "            _support += 1\n",
        "    return _support"
      ],
      "metadata": {
        "id": "ZH7tz5rvrC7a"
      },
      "execution_count": 5,
      "outputs": []
    },
    {
      "cell_type": "code",
      "source": [
        "# find items in itemset\n",
        "def get_items(_itemset):\n",
        "    items_in_itemset = []\n",
        "    for _items in _itemset:\n",
        "        for _item in list(_items):\n",
        "            if _item not in items_in_itemset:\n",
        "                items_in_itemset.append(_item)\n",
        "    return items_in_itemset\n"
      ],
      "metadata": {
        "id": "l6vsr3BbrHK_"
      },
      "execution_count": 6,
      "outputs": []
    },
    {
      "cell_type": "markdown",
      "source": [
        "### generate the frequent itemsets"
      ],
      "metadata": {
        "id": "kHte7ZgMsFD7"
      }
    },
    {
      "cell_type": "code",
      "source": [
        "def get_itemsetset(n):\n",
        "    frequent_itemsets.append([])\n",
        "    supports.append([])\n",
        "    items_in_itemset = get_items(frequent_itemsets[n-1])\n",
        "\n",
        "    print(f\"Items in n-1={n-1} FrequentItemSet {items_in_itemset}\")\n",
        "\n",
        "    # get the superset\n",
        "    sets = get_superset(items_in_itemset)\n",
        "\n",
        "    # filter the itemset less than sn'th size\n",
        "    _itemsets = []\n",
        "    # purning\n",
        "    for s in sets:\n",
        "        if len(s) == n and s not in discarded:\n",
        "            _itemsets.append(s)\n",
        "\n",
        "    # without purning\n",
        "    # _itemsets = [s for s in sets if len(s) == n]\n",
        "\n",
        "    # calculate support and check the threshold\n",
        "    # update the exclude list\n",
        "    for _item in _itemsets:\n",
        "        support_count = calculate_support(_item)\n",
        "        if support_count >= min_support:\n",
        "            frequent_itemsets[n].append(_item)\n",
        "            supports[n].append(support_count)\n",
        "        else: #exclude\n",
        "            discarded.append(_item)\n",
        "    print_table(frequent_itemsets[n], supports[n])\n",
        "\n",
        "    return frequent_itemsets[n]"
      ],
      "metadata": {
        "id": "t0iaxkTkrKRo"
      },
      "execution_count": 16,
      "outputs": []
    },
    {
      "cell_type": "code",
      "source": [
        "def generate_frequent_itemset():\n",
        "    n = 1\n",
        "    while (True):\n",
        "        print(f\" ======== n = {n} =========\")\n",
        "        _itemsets = get_itemsetset(n)\n",
        "        if(len(_itemsets) > 1): n += 1\n",
        "        else: break\n",
        "    # return max frequent itemset\n",
        "    return n-1"
      ],
      "metadata": {
        "id": "8jsSTgXArSRo"
      },
      "execution_count": 12,
      "outputs": []
    },
    {
      "cell_type": "markdown",
      "source": [
        "### Init the Datastructures"
      ],
      "metadata": {
        "id": "il5A4bQDrpCE"
      }
    },
    {
      "cell_type": "code",
      "source": [
        "# initialize the itemset and support\n",
        "#    we used 0th index to reduce the condition\n",
        "#     check due to 0-based index\n",
        "def init():\n",
        "    # get 1 itemset and calculate support\n",
        "    frequent_itemsets.append([])\n",
        "    supports.append([])\n",
        "    # dummy init\n",
        "    for item in items:\n",
        "        frequent_itemsets[0].append({item})\n",
        "        supports[0].append(0)\n"
      ],
      "metadata": {
        "id": "W7Gy5IAJrOfv"
      },
      "execution_count": 13,
      "outputs": []
    },
    {
      "cell_type": "markdown",
      "source": [
        "### Step 1: Most Frequent Item set generation"
      ],
      "metadata": {
        "id": "ICKbC2W0ruE_"
      }
    },
    {
      "cell_type": "code",
      "source": [
        "# init the lists\n",
        "init()\n",
        "# Step 1: most frequent items\n",
        "max_itemset_number = generate_frequent_itemset()"
      ],
      "metadata": {
        "colab": {
          "base_uri": "https://localhost:8080/"
        },
        "id": "jKP2d7XbrVZ-",
        "outputId": "da6db661-f22b-4b00-d1bd-9d473451b9d4"
      },
      "execution_count": 17,
      "outputs": [
        {
          "output_type": "stream",
          "name": "stdout",
          "text": [
            " ======== n = 1 =========\n",
            "Items in n-1=0 FrequentItemSet [1, 2, 3, 4, 5]\n",
            "{1}     3\n",
            "{2}     3\n",
            "{3}     4\n",
            "{5}     4\n",
            " ======== n = 2 =========\n",
            "Items in n-1=1 FrequentItemSet [1, 2, 3, 5]\n",
            "{1, 3}  3\n",
            "{2, 3}  2\n",
            "{1, 5}  2\n",
            "{2, 5}  3\n",
            "{3, 5}  3\n",
            " ======== n = 3 =========\n",
            "Items in n-1=2 FrequentItemSet [1, 3, 2, 5]\n",
            "{1, 3, 5} 2\n",
            "{2, 3, 5} 2\n",
            " ======== n = 4 =========\n",
            "Items in n-1=3 FrequentItemSet [1, 3, 5, 2]\n"
          ]
        }
      ]
    },
    {
      "cell_type": "markdown",
      "source": [
        "### Step 2: formulation of rules"
      ],
      "metadata": {
        "id": "JyF78OoBr58A"
      }
    },
    {
      "cell_type": "code",
      "source": [
        "#       get all the item sets of max frequent set\n",
        "#       get the superset of frequent itemset\n",
        "#           S -> (I - S) i.e. => S recommends (I-S)\n",
        "#       if support(I)/support(S) >= min_conf value\n",
        "for I in frequent_itemsets[max_itemset_number]:\n",
        "    print('='*30)\n",
        "    subsets = get_superset(I)\n",
        "    print(f\"Subsets of I {I} = {subsets}\")\n",
        "    # S -> (I - S) i.e. => S recommends (I-S)\n",
        "    for S in subsets:\n",
        "        I_S = I - S\n",
        "        if len(I_S) <= 0: continue\n",
        "        I_support = calculate_support(I)\n",
        "        S_support = calculate_support(S)\n",
        "        conf_score = I_support / S_support\n",
        "        is_selected = 'SELECTED' if conf_score >= min_conf else 'REJECTED'\n",
        "        print(f\"{S} -> {I_S} with Confidance: {conf_score} {is_selected}\")"
      ],
      "metadata": {
        "colab": {
          "base_uri": "https://localhost:8080/"
        },
        "id": "o2wNYaL-r4GK",
        "outputId": "ccb486e8-3554-4252-c650-b3f8106531e8"
      },
      "execution_count": 18,
      "outputs": [
        {
          "output_type": "stream",
          "name": "stdout",
          "text": [
            "==============================\n",
            "Subsets of I {1, 3, 5} = [set(), {1}, {3}, {1, 3}, {5}, {1, 5}, {3, 5}, {1, 3, 5}]\n",
            "set() -> {1, 3, 5} with Confidance: 0.4 REJECTED\n",
            "{1} -> {3, 5} with Confidance: 0.6666666666666666 SELECTED\n",
            "{3} -> {1, 5} with Confidance: 0.5 REJECTED\n",
            "{1, 3} -> {5} with Confidance: 0.6666666666666666 SELECTED\n",
            "{5} -> {1, 3} with Confidance: 0.5 REJECTED\n",
            "{1, 5} -> {3} with Confidance: 1.0 SELECTED\n",
            "{3, 5} -> {1} with Confidance: 0.6666666666666666 SELECTED\n",
            "==============================\n",
            "Subsets of I {2, 3, 5} = [set(), {2}, {3}, {2, 3}, {5}, {2, 5}, {3, 5}, {2, 3, 5}]\n",
            "set() -> {2, 3, 5} with Confidance: 0.4 REJECTED\n",
            "{2} -> {3, 5} with Confidance: 0.6666666666666666 SELECTED\n",
            "{3} -> {2, 5} with Confidance: 0.5 REJECTED\n",
            "{2, 3} -> {5} with Confidance: 1.0 SELECTED\n",
            "{5} -> {2, 3} with Confidance: 0.5 REJECTED\n",
            "{2, 5} -> {3} with Confidance: 0.6666666666666666 SELECTED\n",
            "{3, 5} -> {2} with Confidance: 0.6666666666666666 SELECTED\n"
          ]
        }
      ]
    },
    {
      "cell_type": "markdown",
      "source": [
        "# Working on Real dataset\n",
        "\n",
        "The csv contains the Shopping cart entries"
      ],
      "metadata": {
        "id": "mF4oZMlPtaca"
      }
    },
    {
      "cell_type": "markdown",
      "source": [
        "## Task 1: Data Collect and Extract"
      ],
      "metadata": {
        "id": "xI5OqGfQtp2a"
      }
    },
    {
      "cell_type": "code",
      "source": [],
      "metadata": {
        "id": "IXSzawIsRQRs"
      },
      "execution_count": null,
      "outputs": []
    },
    {
      "cell_type": "markdown",
      "source": [
        "## Task 2: Transform (Coding)"
      ],
      "metadata": {
        "id": "SSPUyBwbtvY5"
      }
    },
    {
      "cell_type": "code",
      "source": [],
      "metadata": {
        "id": "-jpL-kFXRQs1"
      },
      "execution_count": null,
      "outputs": []
    },
    {
      "cell_type": "markdown",
      "source": [
        "## Task3: Run Algoritm"
      ],
      "metadata": {
        "id": "AQ_rXbMItzx4"
      }
    },
    {
      "cell_type": "code",
      "source": [
        "# parameters for pruning\n",
        "min_support = 50\n",
        "min_conf    = 0.5 # 60% of confidance score\n",
        "\n",
        "# list required for processing the data\n",
        "frequent_itemsets   = []\n",
        "supports            = []\n",
        "discarded           = []"
      ],
      "metadata": {
        "id": "IDOZ03Zlt5u7"
      },
      "execution_count": null,
      "outputs": []
    },
    {
      "cell_type": "markdown",
      "source": [
        "## Task 4: Interprate\n",
        "\n",
        "Decode the values and interprate the result"
      ],
      "metadata": {
        "id": "SMOE0PqTt7fP"
      }
    },
    {
      "cell_type": "code",
      "source": [],
      "metadata": {
        "id": "B4L0-XHyuDvh"
      },
      "execution_count": null,
      "outputs": []
    }
  ]
}