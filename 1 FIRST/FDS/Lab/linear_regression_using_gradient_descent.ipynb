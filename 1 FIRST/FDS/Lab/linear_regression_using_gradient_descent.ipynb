{
 "cells": [
  {
   "cell_type": "code",
   "execution_count": 41,
   "metadata": {},
   "outputs": [],
   "source": [
    "import numpy as np\n",
    "import pandas as pd\n",
    "from matplotlib import pyplot as plt\n",
    "\n",
    "from sklearn.model_selection import train_test_split\n",
    "from sklearn.metrics import mean_squared_error,r2_score"
   ]
  },
  {
   "cell_type": "code",
   "execution_count": 42,
   "metadata": {},
   "outputs": [],
   "source": [
    "#prepare toy dataset using equation y=2x1+5\n",
    "# np.random.randn(100)*0.9       Random error generator\n",
    "np.random.seed(11) \n",
    "x1 = np.random.randn(1000)\n",
    "y = 2 * x1 + 5 + np.random.randn(1000)*0.6\n",
    "\n"
   ]
  },
  {
   "cell_type": "code",
   "execution_count": 43,
   "metadata": {},
   "outputs": [
    {
     "data": {
      "text/html": [
       "<div>\n",
       "<style scoped>\n",
       "    .dataframe tbody tr th:only-of-type {\n",
       "        vertical-align: middle;\n",
       "    }\n",
       "\n",
       "    .dataframe tbody tr th {\n",
       "        vertical-align: top;\n",
       "    }\n",
       "\n",
       "    .dataframe thead th {\n",
       "        text-align: right;\n",
       "    }\n",
       "</style>\n",
       "<table border=\"1\" class=\"dataframe\">\n",
       "  <thead>\n",
       "    <tr style=\"text-align: right;\">\n",
       "      <th></th>\n",
       "      <th>x1</th>\n",
       "      <th>y</th>\n",
       "    </tr>\n",
       "  </thead>\n",
       "  <tbody>\n",
       "    <tr>\n",
       "      <th>0</th>\n",
       "      <td>1.749455</td>\n",
       "      <td>8.063807</td>\n",
       "    </tr>\n",
       "    <tr>\n",
       "      <th>1</th>\n",
       "      <td>-0.286073</td>\n",
       "      <td>5.202866</td>\n",
       "    </tr>\n",
       "    <tr>\n",
       "      <th>2</th>\n",
       "      <td>-0.484565</td>\n",
       "      <td>3.422161</td>\n",
       "    </tr>\n",
       "    <tr>\n",
       "      <th>3</th>\n",
       "      <td>-2.653319</td>\n",
       "      <td>0.004922</td>\n",
       "    </tr>\n",
       "    <tr>\n",
       "      <th>4</th>\n",
       "      <td>-0.008285</td>\n",
       "      <td>5.768281</td>\n",
       "    </tr>\n",
       "  </tbody>\n",
       "</table>\n",
       "</div>"
      ],
      "text/plain": [
       "         x1         y\n",
       "0  1.749455  8.063807\n",
       "1 -0.286073  5.202866\n",
       "2 -0.484565  3.422161\n",
       "3 -2.653319  0.004922\n",
       "4 -0.008285  5.768281"
      ]
     },
     "execution_count": 43,
     "metadata": {},
     "output_type": "execute_result"
    }
   ],
   "source": [
    "data = pd.DataFrame(data= {\"x1\":x1, \"y\":y})\n",
    "data.head()"
   ]
  },
  {
   "cell_type": "code",
   "execution_count": 44,
   "metadata": {},
   "outputs": [],
   "source": [
    "def scale(d):\n",
    "    mean = d.mean()\n",
    "    sd=d.std()\n",
    "    return (d-mean)/sd"
   ]
  },
  {
   "cell_type": "code",
   "execution_count": 45,
   "metadata": {},
   "outputs": [],
   "source": [
    "def data_iter(batch_size, features, labels):\n",
    "    num_examples = len(features)\n",
    "    indices = list(range(num_examples))\n",
    "\n",
    "    np.random.shuffle(indices)\n",
    "    for i in range(0,num_examples,batch_size):\n",
    "        batch_indices = np.array(\n",
    "            indices[i:min(i+batch_size,num_examples)]\n",
    "        )\n",
    "        yield features[batch_indices],labels[batch_indices]\n"
   ]
  },
  {
   "cell_type": "code",
   "execution_count": 46,
   "metadata": {},
   "outputs": [],
   "source": [
    "#Get features and Labels with scaling in place\n",
    "features=scale(\n",
    "    np.reshape(np.array(data.iloc[:,0]),(len(data),1))\n",
    ")\n",
    "\n",
    "labels=scale(\n",
    "    np.reshape(np.array(data.iloc[:,1]),(len(data),1))\n",
    ")"
   ]
  },
  {
   "cell_type": "code",
   "execution_count": 47,
   "metadata": {},
   "outputs": [
    {
     "data": {
      "image/png": "[encoded data removed]",
      "text/plain": [
       "<Figure size 640x480 with 1 Axes>"
      ]
     },
     "metadata": {},
     "output_type": "display_data"
    }
   ],
   "source": [
    "plt.scatter(features,labels)\n",
    "plt.show()"
   ]
  },
  {
   "cell_type": "code",
   "execution_count": 48,
   "metadata": {},
   "outputs": [],
   "source": [
    "class LinearRegression:\n",
    "    def __init__(self,X,y,W,b):\n",
    "        self.X=X\n",
    "        self.y=y\n",
    "        self.W=W\n",
    "        self.b=b\n",
    "        self.y_pred = self.LinearModel()\n",
    "\n",
    "    def LinearModel(self):\n",
    "        return np.dot(self.X,self.W) + self.b\n",
    "    \n",
    "    def mse_loss(self, y, y_pred):\n",
    "        return np.mean(sum(np.square(y-y_pred)))/2\n",
    "    \n",
    "        #Change the value of batches size and stochastic\n",
    "    def train(self,num_epochs=10,batch_size=10):\n",
    "        for epoch in range(num_epochs):\n",
    "            for X,y in data_iter(batch_size,self.X,self.y):\n",
    "                y_pred=self.predict(X)\n",
    "\n",
    "                error = (y-y_pred)\n",
    "\n",
    "                #Update parameter using their gradient\n",
    "\n",
    "                grad_W=np.sum(error.T.dot(X))\n",
    "                grad_b=np.sum((y-y_pred))\n",
    "\n",
    "                #Set the update rule\n",
    "                self.W=self.W+(1/batch_size * lr * grad_W)\n",
    "                self.b=self.b+(1/batch_size * lr * grad_b)\n",
    "\n",
    "            y_pred=self.predict(X)\n",
    "            final_loss=self.mse_loss(y,y_pred)/batch_size\n",
    "            print(f'epoch {epoch + 1},loss{float(final_loss):f}')\n",
    "\n",
    "    def predict(self,X):\n",
    "        return np.dot(X,self.W)+ self.b\n",
    "    \n",
    "\n",
    "    \n",
    "\n",
    "\n"
   ]
  },
  {
   "cell_type": "code",
   "execution_count": 49,
   "metadata": {},
   "outputs": [],
   "source": [
    "np.random.seed(20)\n",
    "lr = 0.0001\n",
    "num_epochs = 50\n",
    "batch_size = 100\n",
    "\n",
    "W=np.random.normal(1,0.001,size=(1,1))\n",
    "b=np.zeros(1)\n",
    "linear_regression_model = LinearRegression(features,labels,W,b)\n"
   ]
  },
  {
   "cell_type": "code",
   "execution_count": 50,
   "metadata": {},
   "outputs": [
    {
     "name": "stdout",
     "output_type": "stream",
     "text": [
      "epoch 1,loss0.029384\n",
      "epoch 2,loss0.040376\n",
      "epoch 3,loss0.072866\n",
      "epoch 4,loss0.028928\n",
      "epoch 5,loss0.030598\n",
      "epoch 6,loss0.037586\n",
      "epoch 7,loss0.061915\n",
      "epoch 8,loss0.063825\n",
      "epoch 9,loss0.046379\n",
      "epoch 10,loss0.063280\n"
     ]
    }
   ],
   "source": [
    "#Train the model\n",
    "linear_regression_model.train()"
   ]
  },
  {
   "cell_type": "code",
   "execution_count": null,
   "metadata": {},
   "outputs": [],
   "source": []
  }
 ],
 "metadata": {
  "kernelspec": {
   "display_name": "base",
   "language": "python",
   "name": "python3"
  },
  "language_info": {
   "codemirror_mode": {
    "name": "ipython",
    "version": 3
   },
   "file_extension": ".py",
   "mimetype": "text/x-python",
   "name": "python",
   "nbconvert_exporter": "python",
   "pygments_lexer": "ipython3",
   "version": "3.11.4"
  }
 },
 "nbformat": 4,
 "nbformat_minor": 2
}
